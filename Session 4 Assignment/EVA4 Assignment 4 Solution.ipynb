{
  "nbformat": 4,
  "nbformat_minor": 0,
  "metadata": {
    "colab": {
      "name": "Copy of EVA4 - Session 2.ipynb",
      "provenance": [],
      "collapsed_sections": []
    },
    "kernelspec": {
      "name": "python3",
      "display_name": "Python 3"
    },
    "accelerator": "GPU"
  },
  "cells": [
    {
      "cell_type": "markdown",
      "metadata": {
        "id": "VIFjkzwWwwZC",
        "colab_type": "text"
      },
      "source": [
        "**Imports**"
      ]
    },
    {
      "cell_type": "code",
      "metadata": {
        "id": "0m2JWFliFfKT",
        "colab_type": "code",
        "colab": {}
      },
      "source": [
        "from __future__ import print_function\n",
        "import torch\n",
        "import torch.nn as nn\n",
        "import torch.nn.functional as F\n",
        "import torch.optim as optim\n",
        "from torchvision import datasets, transforms\n"
      ],
      "execution_count": 0,
      "outputs": []
    },
    {
      "cell_type": "markdown",
      "metadata": {
        "id": "PuF1AR7fwz7D",
        "colab_type": "text"
      },
      "source": [
        "**Model Class**"
      ]
    },
    {
      "cell_type": "code",
      "metadata": {
        "id": "h_Cx9q2QFgM7",
        "colab_type": "code",
        "colab": {}
      },
      "source": [
        "\n",
        "class Net(nn.Module):\n",
        "    def __init__(self):\n",
        "        super(Net, self).__init__()\n",
        "        self.conv1 = nn.Conv2d(1, 16, 3, padding=1, bias=False)     #28*28\n",
        "        self.bn1   = nn.BatchNorm2d(16) \n",
        "        self.d1   = nn.Dropout2d(0.05)\n",
        "\n",
        "        self.conv2 = nn.Conv2d(16, 24, 3, padding=1, bias=False)    #28*28\n",
        "        self.bn2   = nn.BatchNorm2d(num_features=24)\n",
        "        self.d2    = nn.Dropout2d(0.1) \n",
        "\n",
        "        self.pool1 = nn.MaxPool2d(2, 2)                 #14*14 \n",
        "\n",
        "        self.conv11 = nn.Conv2d(24, 16, 1, bias = False)               #14*14\n",
        "        self.bn11   = nn.BatchNorm2d(num_features=16)\n",
        "\n",
        "        self.conv3 = nn.Conv2d(16, 20, 3, padding=1, bias=False)    #14*14\n",
        "        self.bn3   = nn.BatchNorm2d(num_features=20)\n",
        "        self.d3    = nn.Dropout2d(0.1) \n",
        "        \n",
        "        self.conv4 = nn.Conv2d(20, 30, 3, bias=False)               #12*12\n",
        "        self.bn4   = nn.BatchNorm2d(num_features=30)\n",
        "        self.d4    = nn.Dropout2d(0.1) \n",
        "\n",
        "        self.pool2 = nn.MaxPool2d(2, 2)                 #6*6\n",
        "\n",
        "        self.conv5 = nn.Conv2d(30, 20, 3, padding=1)    #6*6\n",
        "        self.bn5 = nn.BatchNorm2d(num_features=20)\n",
        "        self.d5    = nn.Dropout2d(0.1) \n",
        "\n",
        "        self.conv6 = nn.Conv2d(20, 10, 3, bias=False)               #4*4\n",
        "        self.avgpool = nn.AdaptiveAvgPool2d((1,1))\n",
        "\n",
        "    def forward(self, x):\n",
        "        x = (self.bn1(F.relu(self.conv1(x))))\n",
        "        x = self.pool1(self.d2(self.bn2(F.relu(self.conv2(x)))))\n",
        "\n",
        "        x = self.d3(self.bn3(F.relu(self.conv3(self.bn11(F.relu(self.conv11(x)))))))\n",
        "        x = self.pool2(self.d4(self.bn4(F.relu(self.conv4(x)))))\n",
        "\n",
        "        x = self.bn5(F.relu(self.conv5(x)))\n",
        "        x = (self.conv6(x))\n",
        "\n",
        "        x = self.avgpool(x)\n",
        "        x = x.view(-1, 10)\n",
        "        #print(x.shape)\n",
        "\n",
        "        return F.log_softmax(x)"
      ],
      "execution_count": 0,
      "outputs": []
    },
    {
      "cell_type": "markdown",
      "metadata": {
        "id": "Y3T4PO4Ww40L",
        "colab_type": "text"
      },
      "source": [
        "**Model Summary**"
      ]
    },
    {
      "cell_type": "code",
      "metadata": {
        "colab_type": "code",
        "id": "xdydjYTZFyi3",
        "outputId": "42dfcd92-ecf3-44cf-b079-ab3035f2f74d",
        "colab": {
          "base_uri": "https://localhost:8080/",
          "height": 598
        }
      },
      "source": [
        "\n",
        "#!pip install torchsummary\n",
        "from torchsummary import summary\n",
        "use_cuda = torch.cuda.is_available()\n",
        "device = torch.device(\"cuda\" if use_cuda else \"cpu\")\n",
        "model = Net().to(device)\n",
        "summary(model, input_size=(1, 28, 28))"
      ],
      "execution_count": 41,
      "outputs": [
        {
          "output_type": "stream",
          "text": [
            "----------------------------------------------------------------\n",
            "        Layer (type)               Output Shape         Param #\n",
            "================================================================\n",
            "            Conv2d-1           [-1, 16, 28, 28]             144\n",
            "       BatchNorm2d-2           [-1, 16, 28, 28]              32\n",
            "            Conv2d-3           [-1, 24, 28, 28]           3,456\n",
            "       BatchNorm2d-4           [-1, 24, 28, 28]              48\n",
            "         Dropout2d-5           [-1, 24, 28, 28]               0\n",
            "         MaxPool2d-6           [-1, 24, 14, 14]               0\n",
            "            Conv2d-7           [-1, 16, 14, 14]             384\n",
            "       BatchNorm2d-8           [-1, 16, 14, 14]              32\n",
            "            Conv2d-9           [-1, 20, 14, 14]           2,880\n",
            "      BatchNorm2d-10           [-1, 20, 14, 14]              40\n",
            "        Dropout2d-11           [-1, 20, 14, 14]               0\n",
            "           Conv2d-12           [-1, 30, 12, 12]           5,400\n",
            "      BatchNorm2d-13           [-1, 30, 12, 12]              60\n",
            "        Dropout2d-14           [-1, 30, 12, 12]               0\n",
            "        MaxPool2d-15             [-1, 30, 6, 6]               0\n",
            "           Conv2d-16             [-1, 20, 6, 6]           5,420\n",
            "      BatchNorm2d-17             [-1, 20, 6, 6]              40\n",
            "           Conv2d-18             [-1, 10, 4, 4]           1,800\n",
            "AdaptiveAvgPool2d-19             [-1, 10, 1, 1]               0\n",
            "================================================================\n",
            "Total params: 19,736\n",
            "Trainable params: 19,736\n",
            "Non-trainable params: 0\n",
            "----------------------------------------------------------------\n",
            "Input size (MB): 0.00\n",
            "Forward/backward pass size (MB): 0.91\n",
            "Params size (MB): 0.08\n",
            "Estimated Total Size (MB): 0.99\n",
            "----------------------------------------------------------------\n"
          ],
          "name": "stdout"
        },
        {
          "output_type": "stream",
          "text": [
            "/usr/local/lib/python3.6/dist-packages/ipykernel_launcher.py:49: UserWarning: Implicit dimension choice for log_softmax has been deprecated. Change the call to include dim=X as an argument.\n"
          ],
          "name": "stderr"
        }
      ]
    },
    {
      "cell_type": "markdown",
      "metadata": {
        "id": "8wijh0yLw9Qk",
        "colab_type": "text"
      },
      "source": [
        "**Load MNIST Data**"
      ]
    },
    {
      "cell_type": "code",
      "metadata": {
        "id": "DqTWLaM5GHgH",
        "colab_type": "code",
        "colab": {}
      },
      "source": [
        "torch.manual_seed(1)\n",
        "batch_size = 64\n",
        "\n",
        "kwargs = {'num_workers': 1, 'pin_memory': True} if use_cuda else {}\n",
        "train_loader = torch.utils.data.DataLoader(\n",
        "    datasets.MNIST('../data', train=True, download=True,\n",
        "                    transform=transforms.Compose([\n",
        "                        transforms.ToTensor(),\n",
        "                        transforms.Normalize((0.1307,), (0.3081,))\n",
        "                    ])),\n",
        "    batch_size=batch_size, shuffle=True, **kwargs)\n",
        "test_loader = torch.utils.data.DataLoader(\n",
        "    datasets.MNIST('../data', train=False, transform=transforms.Compose([\n",
        "                        transforms.ToTensor(),\n",
        "                        transforms.Normalize((0.1307,), (0.3081,))\n",
        "                    ])),\n",
        "    batch_size=batch_size, shuffle=True, **kwargs)\n"
      ],
      "execution_count": 0,
      "outputs": []
    },
    {
      "cell_type": "markdown",
      "metadata": {
        "id": "zeR15TxzxDYN",
        "colab_type": "text"
      },
      "source": [
        "**Create Train/Test functions and calculate loss**"
      ]
    },
    {
      "cell_type": "code",
      "metadata": {
        "id": "8fDefDhaFlwH",
        "colab_type": "code",
        "colab": {}
      },
      "source": [
        "\n",
        "\n",
        "from tqdm import tqdm\n",
        "def train(model, device, train_loader, optimizer, epoch):\n",
        "    model.train()\n",
        "    train_loss = 0\n",
        "    correct1 = 0\n",
        "    pbar = tqdm(train_loader)\n",
        "    for batch_idx, (data, target) in enumerate(pbar):\n",
        "        data, target = data.to(device), target.to(device)\n",
        "        optimizer.zero_grad()\n",
        "        output = model(data)\n",
        "        loss = F.nll_loss(output, target)\n",
        "        #bhjh\n",
        "        train_loss += F.nll_loss(output, target, reduction='sum').item()  # sum up batch loss\n",
        "        pred1 = output.argmax(dim=1, keepdim=True)  # get the index of the max log-probability\n",
        "        correct1 += pred1.eq(target.view_as(pred1)).sum().item()\n",
        "        #gdg\n",
        "        loss.backward()\n",
        "        optimizer.step()\n",
        "        pbar.set_description(desc= f'loss={loss.item()} batch_id={batch_idx}')\n",
        "\n",
        "    train_loss /= len(train_loader.dataset)\n",
        "\n",
        "    print('\\nTrain set: Average loss: {:.4f}, Accuracy: {}/{} ({:.2f}%)\\n'.format(\n",
        "        train_loss, correct1, len(train_loader.dataset),\n",
        "        100. * correct1 / len(train_loader.dataset)))\n",
        "\n",
        "\n",
        "def test(model, device, test_loader):\n",
        "    model.eval()\n",
        "    test_loss = 0\n",
        "    correct = 0\n",
        "    with torch.no_grad():\n",
        "        for data, target in test_loader:\n",
        "            data, target = data.to(device), target.to(device)\n",
        "            output = model(data)\n",
        "            test_loss += F.nll_loss(output, target, reduction='sum').item()  # sum up batch loss\n",
        "            pred = output.argmax(dim=1, keepdim=True)  # get the index of the max log-probability\n",
        "            correct += pred.eq(target.view_as(pred)).sum().item()\n",
        "\n",
        "    test_loss /= len(test_loader.dataset)\n",
        "\n",
        "    print('\\nTest set: Average loss: {:.4f}, Accuracy: {}/{} ({:.2f}%)\\n'.format(\n",
        "        test_loss, correct, len(test_loader.dataset),\n",
        "        100. * correct / len(test_loader.dataset)))"
      ],
      "execution_count": 0,
      "outputs": []
    },
    {
      "cell_type": "markdown",
      "metadata": {
        "id": "0UL-TQiXxKMi",
        "colab_type": "text"
      },
      "source": [
        "**Model training and validation**"
      ]
    },
    {
      "cell_type": "code",
      "metadata": {
        "id": "MMWbLWO6FuHb",
        "colab_type": "code",
        "outputId": "b6219c54-8cdb-4a32-e897-b28a904cde92",
        "colab": {
          "base_uri": "https://localhost:8080/",
          "height": 1000
        }
      },
      "source": [
        "model = Net().to(device)\n",
        "optimizer = optim.SGD(model.parameters(), lr=0.01, momentum=0.9)\n",
        "\n",
        "for epoch in range(15):\n",
        "    print('EPOCH: ',epoch)\n",
        "    train(model, device, train_loader, optimizer, epoch)\n",
        "    test(model, device, test_loader)"
      ],
      "execution_count": 45,
      "outputs": [
        {
          "output_type": "stream",
          "text": [
            "\r  0%|          | 0/938 [00:00<?, ?it/s]"
          ],
          "name": "stderr"
        },
        {
          "output_type": "stream",
          "text": [
            "EPOCH:  0\n"
          ],
          "name": "stdout"
        },
        {
          "output_type": "stream",
          "text": [
            "/usr/local/lib/python3.6/dist-packages/ipykernel_launcher.py:49: UserWarning: Implicit dimension choice for log_softmax has been deprecated. Change the call to include dim=X as an argument.\n",
            "loss=0.13038276135921478 batch_id=937: 100%|██████████| 938/938 [00:17<00:00, 52.60it/s]"
          ],
          "name": "stderr"
        },
        {
          "output_type": "stream",
          "text": [
            "\n",
            "Train set: Average loss: 0.2200, Accuracy: 56111/60000 (93.52%)\n",
            "\n"
          ],
          "name": "stdout"
        },
        {
          "output_type": "stream",
          "text": [
            "\n",
            "  0%|          | 0/938 [00:00<?, ?it/s]"
          ],
          "name": "stderr"
        },
        {
          "output_type": "stream",
          "text": [
            "\n",
            "Test set: Average loss: 0.0361, Accuracy: 9883/10000 (98.83%)\n",
            "\n",
            "EPOCH:  1\n"
          ],
          "name": "stdout"
        },
        {
          "output_type": "stream",
          "text": [
            "loss=0.06227730214595795 batch_id=937: 100%|██████████| 938/938 [00:17<00:00, 54.99it/s]\n"
          ],
          "name": "stderr"
        },
        {
          "output_type": "stream",
          "text": [
            "\n",
            "Train set: Average loss: 0.0589, Accuracy: 58906/60000 (98.18%)\n",
            "\n"
          ],
          "name": "stdout"
        },
        {
          "output_type": "stream",
          "text": [
            "\r  0%|          | 0/938 [00:00<?, ?it/s]"
          ],
          "name": "stderr"
        },
        {
          "output_type": "stream",
          "text": [
            "\n",
            "Test set: Average loss: 0.0347, Accuracy: 9888/10000 (98.88%)\n",
            "\n",
            "EPOCH:  2\n"
          ],
          "name": "stdout"
        },
        {
          "output_type": "stream",
          "text": [
            "loss=0.09297902882099152 batch_id=937: 100%|██████████| 938/938 [00:17<00:00, 53.45it/s]"
          ],
          "name": "stderr"
        },
        {
          "output_type": "stream",
          "text": [
            "\n",
            "Train set: Average loss: 0.0445, Accuracy: 59167/60000 (98.61%)\n",
            "\n"
          ],
          "name": "stdout"
        },
        {
          "output_type": "stream",
          "text": [
            "\n",
            "  0%|          | 0/938 [00:00<?, ?it/s]"
          ],
          "name": "stderr"
        },
        {
          "output_type": "stream",
          "text": [
            "\n",
            "Test set: Average loss: 0.0245, Accuracy: 9911/10000 (99.11%)\n",
            "\n",
            "EPOCH:  3\n"
          ],
          "name": "stdout"
        },
        {
          "output_type": "stream",
          "text": [
            "loss=0.01097095012664795 batch_id=937: 100%|██████████| 938/938 [00:16<00:00, 55.44it/s]"
          ],
          "name": "stderr"
        },
        {
          "output_type": "stream",
          "text": [
            "\n",
            "Train set: Average loss: 0.0380, Accuracy: 59263/60000 (98.77%)\n",
            "\n"
          ],
          "name": "stdout"
        },
        {
          "output_type": "stream",
          "text": [
            "\n",
            "  0%|          | 0/938 [00:00<?, ?it/s]"
          ],
          "name": "stderr"
        },
        {
          "output_type": "stream",
          "text": [
            "\n",
            "Test set: Average loss: 0.0280, Accuracy: 9903/10000 (99.03%)\n",
            "\n",
            "EPOCH:  4\n"
          ],
          "name": "stdout"
        },
        {
          "output_type": "stream",
          "text": [
            "loss=0.07539321482181549 batch_id=937: 100%|██████████| 938/938 [00:17<00:00, 54.99it/s]"
          ],
          "name": "stderr"
        },
        {
          "output_type": "stream",
          "text": [
            "\n",
            "Train set: Average loss: 0.0331, Accuracy: 59386/60000 (98.98%)\n",
            "\n"
          ],
          "name": "stdout"
        },
        {
          "output_type": "stream",
          "text": [
            "\n",
            "  0%|          | 0/938 [00:00<?, ?it/s]"
          ],
          "name": "stderr"
        },
        {
          "output_type": "stream",
          "text": [
            "\n",
            "Test set: Average loss: 0.0195, Accuracy: 9935/10000 (99.35%)\n",
            "\n",
            "EPOCH:  5\n"
          ],
          "name": "stdout"
        },
        {
          "output_type": "stream",
          "text": [
            "loss=0.005106285214424133 batch_id=937: 100%|██████████| 938/938 [00:17<00:00, 54.35it/s]"
          ],
          "name": "stderr"
        },
        {
          "output_type": "stream",
          "text": [
            "\n",
            "Train set: Average loss: 0.0294, Accuracy: 59451/60000 (99.08%)\n",
            "\n"
          ],
          "name": "stdout"
        },
        {
          "output_type": "stream",
          "text": [
            "\n",
            "  0%|          | 0/938 [00:00<?, ?it/s]"
          ],
          "name": "stderr"
        },
        {
          "output_type": "stream",
          "text": [
            "\n",
            "Test set: Average loss: 0.0212, Accuracy: 9935/10000 (99.35%)\n",
            "\n",
            "EPOCH:  6\n"
          ],
          "name": "stdout"
        },
        {
          "output_type": "stream",
          "text": [
            "loss=0.010791778564453125 batch_id=937: 100%|██████████| 938/938 [00:17<00:00, 54.33it/s]\n"
          ],
          "name": "stderr"
        },
        {
          "output_type": "stream",
          "text": [
            "\n",
            "Train set: Average loss: 0.0273, Accuracy: 59484/60000 (99.14%)\n",
            "\n"
          ],
          "name": "stdout"
        },
        {
          "output_type": "stream",
          "text": [
            "\r  0%|          | 0/938 [00:00<?, ?it/s]"
          ],
          "name": "stderr"
        },
        {
          "output_type": "stream",
          "text": [
            "\n",
            "Test set: Average loss: 0.0229, Accuracy: 9925/10000 (99.25%)\n",
            "\n",
            "EPOCH:  7\n"
          ],
          "name": "stdout"
        },
        {
          "output_type": "stream",
          "text": [
            "loss=0.009787648916244507 batch_id=937: 100%|██████████| 938/938 [00:16<00:00, 55.62it/s]\n"
          ],
          "name": "stderr"
        },
        {
          "output_type": "stream",
          "text": [
            "\n",
            "Train set: Average loss: 0.0271, Accuracy: 59485/60000 (99.14%)\n",
            "\n"
          ],
          "name": "stdout"
        },
        {
          "output_type": "stream",
          "text": [
            "\r  0%|          | 0/938 [00:00<?, ?it/s]"
          ],
          "name": "stderr"
        },
        {
          "output_type": "stream",
          "text": [
            "\n",
            "Test set: Average loss: 0.0189, Accuracy: 9930/10000 (99.30%)\n",
            "\n",
            "EPOCH:  8\n"
          ],
          "name": "stdout"
        },
        {
          "output_type": "stream",
          "text": [
            "loss=0.005941823124885559 batch_id=937: 100%|██████████| 938/938 [00:16<00:00, 56.04it/s]"
          ],
          "name": "stderr"
        },
        {
          "output_type": "stream",
          "text": [
            "\n",
            "Train set: Average loss: 0.0228, Accuracy: 59557/60000 (99.26%)\n",
            "\n"
          ],
          "name": "stdout"
        },
        {
          "output_type": "stream",
          "text": [
            "\n",
            "  0%|          | 0/938 [00:00<?, ?it/s]"
          ],
          "name": "stderr"
        },
        {
          "output_type": "stream",
          "text": [
            "\n",
            "Test set: Average loss: 0.0182, Accuracy: 9939/10000 (99.39%)\n",
            "\n",
            "EPOCH:  9\n"
          ],
          "name": "stdout"
        },
        {
          "output_type": "stream",
          "text": [
            "loss=0.0019976645708084106 batch_id=937: 100%|██████████| 938/938 [00:17<00:00, 54.82it/s]"
          ],
          "name": "stderr"
        },
        {
          "output_type": "stream",
          "text": [
            "\n",
            "Train set: Average loss: 0.0222, Accuracy: 59579/60000 (99.30%)\n",
            "\n"
          ],
          "name": "stdout"
        },
        {
          "output_type": "stream",
          "text": [
            "\n",
            "  0%|          | 0/938 [00:00<?, ?it/s]"
          ],
          "name": "stderr"
        },
        {
          "output_type": "stream",
          "text": [
            "\n",
            "Test set: Average loss: 0.0180, Accuracy: 9937/10000 (99.37%)\n",
            "\n",
            "EPOCH:  10\n"
          ],
          "name": "stdout"
        },
        {
          "output_type": "stream",
          "text": [
            "loss=0.08006562292575836 batch_id=937: 100%|██████████| 938/938 [00:17<00:00, 54.10it/s]"
          ],
          "name": "stderr"
        },
        {
          "output_type": "stream",
          "text": [
            "\n",
            "Train set: Average loss: 0.0207, Accuracy: 59589/60000 (99.31%)\n",
            "\n"
          ],
          "name": "stdout"
        },
        {
          "output_type": "stream",
          "text": [
            "\n",
            "  0%|          | 0/938 [00:00<?, ?it/s]"
          ],
          "name": "stderr"
        },
        {
          "output_type": "stream",
          "text": [
            "\n",
            "Test set: Average loss: 0.0188, Accuracy: 9937/10000 (99.37%)\n",
            "\n",
            "EPOCH:  11\n"
          ],
          "name": "stdout"
        },
        {
          "output_type": "stream",
          "text": [
            "loss=0.018970996141433716 batch_id=937: 100%|██████████| 938/938 [00:16<00:00, 56.22it/s]\n"
          ],
          "name": "stderr"
        },
        {
          "output_type": "stream",
          "text": [
            "\n",
            "Train set: Average loss: 0.0200, Accuracy: 59615/60000 (99.36%)\n",
            "\n"
          ],
          "name": "stdout"
        },
        {
          "output_type": "stream",
          "text": [
            "\r  0%|          | 0/938 [00:00<?, ?it/s]"
          ],
          "name": "stderr"
        },
        {
          "output_type": "stream",
          "text": [
            "\n",
            "Test set: Average loss: 0.0186, Accuracy: 9940/10000 (99.40%)\n",
            "\n",
            "EPOCH:  12\n"
          ],
          "name": "stdout"
        },
        {
          "output_type": "stream",
          "text": [
            "loss=0.003424808382987976 batch_id=937: 100%|██████████| 938/938 [00:17<00:00, 53.68it/s]"
          ],
          "name": "stderr"
        },
        {
          "output_type": "stream",
          "text": [
            "\n",
            "Train set: Average loss: 0.0189, Accuracy: 59643/60000 (99.41%)\n",
            "\n"
          ],
          "name": "stdout"
        },
        {
          "output_type": "stream",
          "text": [
            "\n",
            "  0%|          | 0/938 [00:00<?, ?it/s]"
          ],
          "name": "stderr"
        },
        {
          "output_type": "stream",
          "text": [
            "\n",
            "Test set: Average loss: 0.0204, Accuracy: 9938/10000 (99.38%)\n",
            "\n",
            "EPOCH:  13\n"
          ],
          "name": "stdout"
        },
        {
          "output_type": "stream",
          "text": [
            "loss=0.42028385400772095 batch_id=937: 100%|██████████| 938/938 [00:16<00:00, 55.69it/s]"
          ],
          "name": "stderr"
        },
        {
          "output_type": "stream",
          "text": [
            "\n",
            "Train set: Average loss: 0.0178, Accuracy: 59658/60000 (99.43%)\n",
            "\n"
          ],
          "name": "stdout"
        },
        {
          "output_type": "stream",
          "text": [
            "\n",
            "  0%|          | 0/938 [00:00<?, ?it/s]"
          ],
          "name": "stderr"
        },
        {
          "output_type": "stream",
          "text": [
            "\n",
            "Test set: Average loss: 0.0159, Accuracy: 9948/10000 (99.48%)\n",
            "\n",
            "EPOCH:  14\n"
          ],
          "name": "stdout"
        },
        {
          "output_type": "stream",
          "text": [
            "loss=0.0028793364763259888 batch_id=937: 100%|██████████| 938/938 [00:17<00:00, 54.53it/s]"
          ],
          "name": "stderr"
        },
        {
          "output_type": "stream",
          "text": [
            "\n",
            "Train set: Average loss: 0.0168, Accuracy: 59686/60000 (99.48%)\n",
            "\n"
          ],
          "name": "stdout"
        },
        {
          "output_type": "stream",
          "text": [
            "\n"
          ],
          "name": "stderr"
        },
        {
          "output_type": "stream",
          "text": [
            "\n",
            "Test set: Average loss: 0.0148, Accuracy: 9952/10000 (99.52%)\n",
            "\n"
          ],
          "name": "stdout"
        }
      ]
    },
    {
      "cell_type": "code",
      "metadata": {
        "id": "qP3iHZudMXVo",
        "colab_type": "code",
        "colab": {}
      },
      "source": [
        ""
      ],
      "execution_count": 0,
      "outputs": []
    }
  ]
}