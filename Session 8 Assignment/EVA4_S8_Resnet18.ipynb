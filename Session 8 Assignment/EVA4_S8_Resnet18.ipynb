{
  "nbformat": 4,
  "nbformat_minor": 0,
  "metadata": {
    "colab": {
      "name": "EVA4-S8-Resnet18.ipynb",
      "provenance": [],
      "collapsed_sections": []
    },
    "kernelspec": {
      "name": "python3",
      "display_name": "Python 3"
    },
    "accelerator": "GPU"
  },
  "cells": [
    {
      "cell_type": "markdown",
      "metadata": {
        "id": "yR4Is7zWS92Z",
        "colab_type": "text"
      },
      "source": [
        "***Mounting Drive***\n",
        "\n",
        "<hr>"
      ]
    },
    {
      "cell_type": "code",
      "metadata": {
        "id": "m429HaWf8dnP",
        "colab_type": "code",
        "outputId": "f02dea4a-e827-43e6-e336-e22c5a61fb0d",
        "colab": {
          "base_uri": "https://localhost:8080/",
          "height": 54
        }
      },
      "source": [
        "from google.colab import drive\n",
        "drive.mount('/content/gdrive/')"
      ],
      "execution_count": 0,
      "outputs": [
        {
          "output_type": "stream",
          "text": [
            "Drive already mounted at /content/gdrive/; to attempt to forcibly remount, call drive.mount(\"/content/gdrive/\", force_remount=True).\n"
          ],
          "name": "stdout"
        }
      ]
    },
    {
      "cell_type": "code",
      "metadata": {
        "id": "HzN_kBwhyDfC",
        "colab_type": "code",
        "outputId": "2234b640-ef74-41f7-fd9b-4185ec691dec",
        "colab": {
          "base_uri": "https://localhost:8080/",
          "height": 54
        }
      },
      "source": [
        "import sys\n",
        "print(sys.path)"
      ],
      "execution_count": 0,
      "outputs": [
        {
          "output_type": "stream",
          "text": [
            "['', '/env/python', '/usr/lib/python36.zip', '/usr/lib/python3.6', '/usr/lib/python3.6/lib-dynload', '/usr/local/lib/python3.6/dist-packages', '/usr/lib/python3/dist-packages', '/usr/local/lib/python3.6/dist-packages/IPython/extensions', '/root/.ipython']\n"
          ],
          "name": "stdout"
        }
      ]
    },
    {
      "cell_type": "code",
      "metadata": {
        "id": "Xu7zlFa3yUxs",
        "colab_type": "code",
        "colab": {}
      },
      "source": [
        "sys.path.append('/content/gdrive/My Drive/EVA/')"
      ],
      "execution_count": 0,
      "outputs": []
    },
    {
      "cell_type": "markdown",
      "metadata": {
        "id": "V4_ElltDTISf",
        "colab_type": "text"
      },
      "source": [
        "***Loading the python files from drive***\n"
      ]
    },
    {
      "cell_type": "code",
      "metadata": {
        "id": "2IAoosMryUtr",
        "colab_type": "code",
        "colab": {}
      },
      "source": [
        "from imports_eva import *\n",
        "import data_loaders as dl                         # Loading CIFAR10 data into train/test dataloaders\n",
        "import model_file as mfile                        # ResNet18 Model architecture\n",
        "import train_test_functions as ttfunc             # Model training and validation functions\n",
        "import test_performance as tperform               # Class wise model accuracy and confusion matrix plot\n",
        "import model_plots as mp                          # Plotting the Train/Test plots for loss and accuracy\n",
        "import misclassified                              # Display misclassified images by the trained model"
      ],
      "execution_count": 0,
      "outputs": []
    },
    {
      "cell_type": "markdown",
      "metadata": {
        "id": "9_Jqxcb0TZgv",
        "colab_type": "text"
      },
      "source": [
        "***Loading CIFAR data and creating test/train loaders with augumentations***\n",
        "<hr>"
      ]
    },
    {
      "cell_type": "code",
      "metadata": {
        "id": "aWE_OsKcyUo_",
        "colab_type": "code",
        "outputId": "f6ff5d10-30bb-4798-ab65-7b538afef93a",
        "colab": {
          "base_uri": "https://localhost:8080/",
          "height": 51
        }
      },
      "source": [
        "trainloader, testloader = dl.train_test_loaders(64, 5)   #arguments are batchsize, rotation value"
      ],
      "execution_count": 0,
      "outputs": [
        {
          "output_type": "stream",
          "text": [
            "Files already downloaded and verified\n",
            "Files already downloaded and verified\n"
          ],
          "name": "stdout"
        }
      ]
    },
    {
      "cell_type": "markdown",
      "metadata": {
        "id": "kWR08ZGOUB2w",
        "colab_type": "text"
      },
      "source": [
        "***Define the final target classes in CIFAR***\n"
      ]
    },
    {
      "cell_type": "code",
      "metadata": {
        "id": "ux_wrA_sn_1x",
        "colab_type": "code",
        "colab": {}
      },
      "source": [
        "classes = ('plane', 'car', 'bird', 'cat',\n",
        "           'deer', 'dog', 'frog', 'horse', 'ship', 'truck')"
      ],
      "execution_count": 0,
      "outputs": []
    },
    {
      "cell_type": "markdown",
      "metadata": {
        "id": "s1ixIVMeUH7Q",
        "colab_type": "text"
      },
      "source": [
        "***Load RESNET18 model and print summary***\n",
        "<hr>"
      ]
    },
    {
      "cell_type": "code",
      "metadata": {
        "id": "1vPvqyyNxvlD",
        "colab_type": "code",
        "outputId": "8dbb9285-6a5a-472a-f715-1b2734e355da",
        "colab": {
          "base_uri": "https://localhost:8080/",
          "height": 1000
        }
      },
      "source": [
        "#!pip install torchsummary\n",
        "from torchsummary import summary\n",
        "use_cuda = torch.cuda.is_available()\n",
        "device = torch.device(\"cuda\" if use_cuda else \"cpu\")\n",
        "print(device)\n",
        "model = mfile.resnet18().to(device)\n",
        "summary(model, input_size=(3, 32, 32))"
      ],
      "execution_count": 0,
      "outputs": [
        {
          "output_type": "stream",
          "text": [
            "cuda\n",
            "----------------------------------------------------------------\n",
            "        Layer (type)               Output Shape         Param #\n",
            "================================================================\n",
            "            Conv2d-1           [-1, 64, 32, 32]           1,728\n",
            "       BatchNorm2d-2           [-1, 64, 32, 32]             128\n",
            "         Dropout2d-3           [-1, 64, 32, 32]               0\n",
            "            Conv2d-4           [-1, 64, 32, 32]          36,864\n",
            "       BatchNorm2d-5           [-1, 64, 32, 32]             128\n",
            "         Dropout2d-6           [-1, 64, 32, 32]               0\n",
            "            Conv2d-7           [-1, 64, 32, 32]          36,864\n",
            "       BatchNorm2d-8           [-1, 64, 32, 32]             128\n",
            "         Dropout2d-9           [-1, 64, 32, 32]               0\n",
            "       BasicBlock-10           [-1, 64, 32, 32]               0\n",
            "           Conv2d-11           [-1, 64, 32, 32]          36,864\n",
            "      BatchNorm2d-12           [-1, 64, 32, 32]             128\n",
            "        Dropout2d-13           [-1, 64, 32, 32]               0\n",
            "           Conv2d-14           [-1, 64, 32, 32]          36,864\n",
            "      BatchNorm2d-15           [-1, 64, 32, 32]             128\n",
            "        Dropout2d-16           [-1, 64, 32, 32]               0\n",
            "       BasicBlock-17           [-1, 64, 32, 32]               0\n",
            "           Conv2d-18          [-1, 128, 16, 16]          73,728\n",
            "      BatchNorm2d-19          [-1, 128, 16, 16]             256\n",
            "        Dropout2d-20          [-1, 128, 16, 16]               0\n",
            "           Conv2d-21          [-1, 128, 16, 16]         147,456\n",
            "      BatchNorm2d-22          [-1, 128, 16, 16]             256\n",
            "        Dropout2d-23          [-1, 128, 16, 16]               0\n",
            "           Conv2d-24          [-1, 128, 16, 16]           8,192\n",
            "      BatchNorm2d-25          [-1, 128, 16, 16]             256\n",
            "        Dropout2d-26          [-1, 128, 16, 16]               0\n",
            "       BasicBlock-27          [-1, 128, 16, 16]               0\n",
            "           Conv2d-28          [-1, 128, 16, 16]         147,456\n",
            "      BatchNorm2d-29          [-1, 128, 16, 16]             256\n",
            "        Dropout2d-30          [-1, 128, 16, 16]               0\n",
            "           Conv2d-31          [-1, 128, 16, 16]         147,456\n",
            "      BatchNorm2d-32          [-1, 128, 16, 16]             256\n",
            "        Dropout2d-33          [-1, 128, 16, 16]               0\n",
            "       BasicBlock-34          [-1, 128, 16, 16]               0\n",
            "           Conv2d-35            [-1, 256, 8, 8]         294,912\n",
            "      BatchNorm2d-36            [-1, 256, 8, 8]             512\n",
            "        Dropout2d-37            [-1, 256, 8, 8]               0\n",
            "           Conv2d-38            [-1, 256, 8, 8]         589,824\n",
            "      BatchNorm2d-39            [-1, 256, 8, 8]             512\n",
            "        Dropout2d-40            [-1, 256, 8, 8]               0\n",
            "           Conv2d-41            [-1, 256, 8, 8]          32,768\n",
            "      BatchNorm2d-42            [-1, 256, 8, 8]             512\n",
            "        Dropout2d-43            [-1, 256, 8, 8]               0\n",
            "       BasicBlock-44            [-1, 256, 8, 8]               0\n",
            "           Conv2d-45            [-1, 256, 8, 8]         589,824\n",
            "      BatchNorm2d-46            [-1, 256, 8, 8]             512\n",
            "        Dropout2d-47            [-1, 256, 8, 8]               0\n",
            "           Conv2d-48            [-1, 256, 8, 8]         589,824\n",
            "      BatchNorm2d-49            [-1, 256, 8, 8]             512\n",
            "        Dropout2d-50            [-1, 256, 8, 8]               0\n",
            "       BasicBlock-51            [-1, 256, 8, 8]               0\n",
            "           Conv2d-52            [-1, 512, 4, 4]       1,179,648\n",
            "      BatchNorm2d-53            [-1, 512, 4, 4]           1,024\n",
            "        Dropout2d-54            [-1, 512, 4, 4]               0\n",
            "           Conv2d-55            [-1, 512, 4, 4]       2,359,296\n",
            "      BatchNorm2d-56            [-1, 512, 4, 4]           1,024\n",
            "        Dropout2d-57            [-1, 512, 4, 4]               0\n",
            "           Conv2d-58            [-1, 512, 4, 4]         131,072\n",
            "      BatchNorm2d-59            [-1, 512, 4, 4]           1,024\n",
            "        Dropout2d-60            [-1, 512, 4, 4]               0\n",
            "       BasicBlock-61            [-1, 512, 4, 4]               0\n",
            "           Conv2d-62            [-1, 512, 4, 4]       2,359,296\n",
            "      BatchNorm2d-63            [-1, 512, 4, 4]           1,024\n",
            "        Dropout2d-64            [-1, 512, 4, 4]               0\n",
            "           Conv2d-65            [-1, 512, 4, 4]       2,359,296\n",
            "      BatchNorm2d-66            [-1, 512, 4, 4]           1,024\n",
            "        Dropout2d-67            [-1, 512, 4, 4]               0\n",
            "       BasicBlock-68            [-1, 512, 4, 4]               0\n",
            "           Linear-69                   [-1, 10]           5,130\n",
            "================================================================\n",
            "Total params: 11,173,962\n",
            "Trainable params: 11,173,962\n",
            "Non-trainable params: 0\n",
            "----------------------------------------------------------------\n",
            "Input size (MB): 0.01\n",
            "Forward/backward pass size (MB): 15.94\n",
            "Params size (MB): 42.63\n",
            "Estimated Total Size (MB): 58.57\n",
            "----------------------------------------------------------------\n"
          ],
          "name": "stdout"
        }
      ]
    },
    {
      "cell_type": "markdown",
      "metadata": {
        "id": "R3ql_vI5URJ9",
        "colab_type": "text"
      },
      "source": [
        "***Model Training***\n",
        "---\n",
        "<hr>"
      ]
    },
    {
      "cell_type": "code",
      "metadata": {
        "id": "JWN7wAwsRexM",
        "colab_type": "code",
        "outputId": "32a92a5e-f11c-418d-cc4d-188f3a865d7c",
        "colab": {
          "base_uri": "https://localhost:8080/",
          "height": 1000
        }
      },
      "source": [
        "from torch.optim.lr_scheduler import MultiStepLR\n",
        "model =  mfile.resnet18().to(device)\n",
        "optimizer = optim.SGD(model.parameters(), lr=0.01, momentum=0.9, weight_decay=0.001)\n",
        "#scheduler = StepLR(optimizer, step_size=12, gamma=0.1)\n",
        "#scheduler = ReduceLROnPlateau(optimizer, 'min', patience=3)\n",
        "scheduler = MultiStepLR(optimizer, milestones=[14,18], gamma=0.1)\n",
        "\n",
        "EPOCHS = 22\n",
        "for epoch in range(EPOCHS):\n",
        "    print(\"EPOCH:\", epoch)\n",
        "    ta, tl   =  ttfunc.train(model, device, trainloader, optimizer, epoch)\n",
        "    ta1, tl1 =  ttfunc.test(model, device, testloader, classes)\n",
        "    scheduler.step()\n",
        "    print('')"
      ],
      "execution_count": 0,
      "outputs": [
        {
          "output_type": "stream",
          "text": [
            "\r  0%|          | 0/782 [00:00<?, ?it/s]"
          ],
          "name": "stderr"
        },
        {
          "output_type": "stream",
          "text": [
            "EPOCH: 0\n"
          ],
          "name": "stdout"
        },
        {
          "output_type": "stream",
          "text": [
            "Loss=1.6067308187484741 Batch_id=781 Accuracy=33.74: 100%|██████████| 782/782 [01:04<00:00, 12.12it/s]\n",
            "  0%|          | 0/782 [00:00<?, ?it/s]"
          ],
          "name": "stderr"
        },
        {
          "output_type": "stream",
          "text": [
            "\n",
            "Test set: Average loss: 1.4182, Accuracy: 4743/10000 (47.43%)\n",
            "\n",
            "\n",
            "EPOCH: 1\n"
          ],
          "name": "stdout"
        },
        {
          "output_type": "stream",
          "text": [
            "Loss=1.0658259391784668 Batch_id=781 Accuracy=48.01: 100%|██████████| 782/782 [01:04<00:00, 12.15it/s]\n",
            "  0%|          | 0/782 [00:00<?, ?it/s]"
          ],
          "name": "stderr"
        },
        {
          "output_type": "stream",
          "text": [
            "\n",
            "Test set: Average loss: 1.1869, Accuracy: 5687/10000 (56.87%)\n",
            "\n",
            "\n",
            "EPOCH: 2\n"
          ],
          "name": "stdout"
        },
        {
          "output_type": "stream",
          "text": [
            "Loss=1.1746418476104736 Batch_id=781 Accuracy=56.24: 100%|██████████| 782/782 [01:04<00:00, 12.15it/s]\n",
            "  0%|          | 0/782 [00:00<?, ?it/s]"
          ],
          "name": "stderr"
        },
        {
          "output_type": "stream",
          "text": [
            "\n",
            "Test set: Average loss: 1.0810, Accuracy: 6092/10000 (60.92%)\n",
            "\n",
            "\n",
            "EPOCH: 3\n"
          ],
          "name": "stdout"
        },
        {
          "output_type": "stream",
          "text": [
            "Loss=0.5356218814849854 Batch_id=781 Accuracy=62.06: 100%|██████████| 782/782 [01:04<00:00, 12.11it/s]\n",
            "  0%|          | 0/782 [00:00<?, ?it/s]"
          ],
          "name": "stderr"
        },
        {
          "output_type": "stream",
          "text": [
            "\n",
            "Test set: Average loss: 0.8874, Accuracy: 6925/10000 (69.25%)\n",
            "\n",
            "\n",
            "EPOCH: 4\n"
          ],
          "name": "stdout"
        },
        {
          "output_type": "stream",
          "text": [
            "Loss=0.8065565228462219 Batch_id=781 Accuracy=66.36: 100%|██████████| 782/782 [01:04<00:00, 12.18it/s]\n",
            "  0%|          | 0/782 [00:00<?, ?it/s]"
          ],
          "name": "stderr"
        },
        {
          "output_type": "stream",
          "text": [
            "\n",
            "Test set: Average loss: 0.7844, Accuracy: 7288/10000 (72.88%)\n",
            "\n",
            "\n",
            "EPOCH: 5\n"
          ],
          "name": "stdout"
        },
        {
          "output_type": "stream",
          "text": [
            "Loss=1.4584007263183594 Batch_id=781 Accuracy=69.69: 100%|██████████| 782/782 [01:05<00:00, 11.98it/s]\n",
            "  0%|          | 0/782 [00:00<?, ?it/s]"
          ],
          "name": "stderr"
        },
        {
          "output_type": "stream",
          "text": [
            "\n",
            "Test set: Average loss: 0.7148, Accuracy: 7513/10000 (75.13%)\n",
            "\n",
            "\n",
            "EPOCH: 6\n"
          ],
          "name": "stdout"
        },
        {
          "output_type": "stream",
          "text": [
            "Loss=0.6526321172714233 Batch_id=781 Accuracy=72.45: 100%|██████████| 782/782 [01:04<00:00, 12.03it/s]\n",
            "  0%|          | 0/782 [00:00<?, ?it/s]"
          ],
          "name": "stderr"
        },
        {
          "output_type": "stream",
          "text": [
            "\n",
            "Test set: Average loss: 0.6677, Accuracy: 7699/10000 (76.99%)\n",
            "\n",
            "\n",
            "EPOCH: 7\n"
          ],
          "name": "stdout"
        },
        {
          "output_type": "stream",
          "text": [
            "Loss=0.6602839231491089 Batch_id=781 Accuracy=74.69: 100%|██████████| 782/782 [01:05<00:00, 11.83it/s]\n",
            "  0%|          | 0/782 [00:00<?, ?it/s]"
          ],
          "name": "stderr"
        },
        {
          "output_type": "stream",
          "text": [
            "\n",
            "Test set: Average loss: 0.6225, Accuracy: 7862/10000 (78.62%)\n",
            "\n",
            "\n",
            "EPOCH: 8\n"
          ],
          "name": "stdout"
        },
        {
          "output_type": "stream",
          "text": [
            "Loss=0.7497401237487793 Batch_id=781 Accuracy=76.39: 100%|██████████| 782/782 [01:05<00:00, 11.99it/s]\n",
            "  0%|          | 0/782 [00:00<?, ?it/s]"
          ],
          "name": "stderr"
        },
        {
          "output_type": "stream",
          "text": [
            "\n",
            "Test set: Average loss: 0.6155, Accuracy: 7865/10000 (78.65%)\n",
            "\n",
            "\n",
            "EPOCH: 9\n"
          ],
          "name": "stdout"
        },
        {
          "output_type": "stream",
          "text": [
            "Loss=0.44029703736305237 Batch_id=781 Accuracy=77.73: 100%|██████████| 782/782 [01:04<00:00, 12.04it/s]\n",
            "  0%|          | 0/782 [00:00<?, ?it/s]"
          ],
          "name": "stderr"
        },
        {
          "output_type": "stream",
          "text": [
            "\n",
            "Test set: Average loss: 0.5372, Accuracy: 8167/10000 (81.67%)\n",
            "\n",
            "\n",
            "EPOCH: 10\n"
          ],
          "name": "stdout"
        },
        {
          "output_type": "stream",
          "text": [
            "Loss=0.8194993138313293 Batch_id=781 Accuracy=78.92: 100%|██████████| 782/782 [01:04<00:00, 12.08it/s]\n",
            "  0%|          | 0/782 [00:00<?, ?it/s]"
          ],
          "name": "stderr"
        },
        {
          "output_type": "stream",
          "text": [
            "\n",
            "Test set: Average loss: 0.5689, Accuracy: 8073/10000 (80.73%)\n",
            "\n",
            "\n",
            "EPOCH: 11\n"
          ],
          "name": "stdout"
        },
        {
          "output_type": "stream",
          "text": [
            "Loss=0.45224636793136597 Batch_id=781 Accuracy=79.99: 100%|██████████| 782/782 [01:05<00:00, 11.90it/s]\n",
            "  0%|          | 0/782 [00:00<?, ?it/s]"
          ],
          "name": "stderr"
        },
        {
          "output_type": "stream",
          "text": [
            "\n",
            "Test set: Average loss: 0.5111, Accuracy: 8229/10000 (82.29%)\n",
            "\n",
            "\n",
            "EPOCH: 12\n"
          ],
          "name": "stdout"
        },
        {
          "output_type": "stream",
          "text": [
            "Loss=0.760530412197113 Batch_id=781 Accuracy=80.74: 100%|██████████| 782/782 [01:05<00:00, 11.95it/s]\n",
            "  0%|          | 0/782 [00:00<?, ?it/s]"
          ],
          "name": "stderr"
        },
        {
          "output_type": "stream",
          "text": [
            "\n",
            "Test set: Average loss: 0.4935, Accuracy: 8321/10000 (83.21%)\n",
            "\n",
            "\n",
            "EPOCH: 13\n"
          ],
          "name": "stdout"
        },
        {
          "output_type": "stream",
          "text": [
            "Loss=0.8037831783294678 Batch_id=781 Accuracy=81.51: 100%|██████████| 782/782 [01:05<00:00, 11.93it/s]\n",
            "  0%|          | 0/782 [00:00<?, ?it/s]"
          ],
          "name": "stderr"
        },
        {
          "output_type": "stream",
          "text": [
            "\n",
            "Test set: Average loss: 0.4811, Accuracy: 8337/10000 (83.37%)\n",
            "\n",
            "\n",
            "EPOCH: 14\n"
          ],
          "name": "stdout"
        },
        {
          "output_type": "stream",
          "text": [
            "Loss=0.737858772277832 Batch_id=781 Accuracy=84.86: 100%|██████████| 782/782 [01:05<00:00, 12.03it/s]\n",
            "  0%|          | 0/782 [00:00<?, ?it/s]"
          ],
          "name": "stderr"
        },
        {
          "output_type": "stream",
          "text": [
            "\n",
            "Test set: Average loss: 0.4200, Accuracy: 8581/10000 (85.81%)\n",
            "\n",
            "\n",
            "EPOCH: 15\n"
          ],
          "name": "stdout"
        },
        {
          "output_type": "stream",
          "text": [
            "Loss=0.20632360875606537 Batch_id=781 Accuracy=86.04: 100%|██████████| 782/782 [01:05<00:00, 12.00it/s]\n",
            "  0%|          | 0/782 [00:00<?, ?it/s]"
          ],
          "name": "stderr"
        },
        {
          "output_type": "stream",
          "text": [
            "\n",
            "Test set: Average loss: 0.4159, Accuracy: 8584/10000 (85.84%)\n",
            "\n",
            "\n",
            "EPOCH: 16\n"
          ],
          "name": "stdout"
        },
        {
          "output_type": "stream",
          "text": [
            "Loss=0.5089669227600098 Batch_id=781 Accuracy=86.52: 100%|██████████| 782/782 [01:04<00:00, 12.07it/s]\n",
            "  0%|          | 0/782 [00:00<?, ?it/s]"
          ],
          "name": "stderr"
        },
        {
          "output_type": "stream",
          "text": [
            "\n",
            "Test set: Average loss: 0.3937, Accuracy: 8650/10000 (86.50%)\n",
            "\n",
            "\n",
            "EPOCH: 17\n"
          ],
          "name": "stdout"
        },
        {
          "output_type": "stream",
          "text": [
            "Loss=0.6499801278114319 Batch_id=781 Accuracy=87.17: 100%|██████████| 782/782 [01:05<00:00, 11.94it/s]\n",
            "  0%|          | 0/782 [00:00<?, ?it/s]"
          ],
          "name": "stderr"
        },
        {
          "output_type": "stream",
          "text": [
            "\n",
            "Test set: Average loss: 0.3958, Accuracy: 8655/10000 (86.55%)\n",
            "\n",
            "\n",
            "EPOCH: 18\n"
          ],
          "name": "stdout"
        },
        {
          "output_type": "stream",
          "text": [
            "Loss=0.33107608556747437 Batch_id=781 Accuracy=87.77: 100%|██████████| 782/782 [01:05<00:00, 11.94it/s]\n",
            "  0%|          | 0/782 [00:00<?, ?it/s]"
          ],
          "name": "stderr"
        },
        {
          "output_type": "stream",
          "text": [
            "\n",
            "Test set: Average loss: 0.3915, Accuracy: 8673/10000 (86.73%)\n",
            "\n",
            "\n",
            "EPOCH: 19\n"
          ],
          "name": "stdout"
        },
        {
          "output_type": "stream",
          "text": [
            "Loss=0.42251846194267273 Batch_id=781 Accuracy=87.95: 100%|██████████| 782/782 [01:05<00:00, 12.01it/s]\n",
            "  0%|          | 0/782 [00:00<?, ?it/s]"
          ],
          "name": "stderr"
        },
        {
          "output_type": "stream",
          "text": [
            "\n",
            "Test set: Average loss: 0.3916, Accuracy: 8664/10000 (86.64%)\n",
            "\n",
            "\n",
            "EPOCH: 20\n"
          ],
          "name": "stdout"
        },
        {
          "output_type": "stream",
          "text": [
            "Loss=0.18653617799282074 Batch_id=781 Accuracy=87.96: 100%|██████████| 782/782 [01:05<00:00, 11.98it/s]\n",
            "  0%|          | 0/782 [00:00<?, ?it/s]"
          ],
          "name": "stderr"
        },
        {
          "output_type": "stream",
          "text": [
            "\n",
            "Test set: Average loss: 0.3866, Accuracy: 8676/10000 (86.76%)\n",
            "\n",
            "\n",
            "EPOCH: 21\n"
          ],
          "name": "stdout"
        },
        {
          "output_type": "stream",
          "text": [
            "Loss=0.10344131290912628 Batch_id=781 Accuracy=87.93: 100%|██████████| 782/782 [01:04<00:00, 12.08it/s]\n"
          ],
          "name": "stderr"
        },
        {
          "output_type": "stream",
          "text": [
            "\n",
            "Test set: Average loss: 0.3919, Accuracy: 8675/10000 (86.75%)\n",
            "\n",
            "\n"
          ],
          "name": "stdout"
        }
      ]
    },
    {
      "cell_type": "markdown",
      "metadata": {
        "id": "c01cnXBVbVqv",
        "colab_type": "text"
      },
      "source": [
        "***Checking test data performance/results***\n",
        "<hr>"
      ]
    },
    {
      "cell_type": "code",
      "metadata": {
        "id": "IoW-jKmEDrtA",
        "colab_type": "code",
        "outputId": "15826160-2afd-42b4-a481-eeaf6c5e6432",
        "colab": {
          "base_uri": "https://localhost:8080/",
          "height": 660
        }
      },
      "source": [
        "tperform.test_performance(model, testloader, device, classes)"
      ],
      "execution_count": 0,
      "outputs": [
        {
          "output_type": "stream",
          "text": [
            "------------------------------------------------------------\n",
            "Model accuracy on 10000 test images: 86.56%\n",
            "------------------------------------------------------------\n",
            " \n",
            "Category   - Accuracy\n",
            "plane      - 86.90\n",
            "car        - 93.60\n",
            "bird       - 79.00\n",
            "cat        - 70.10\n",
            "deer       - 88.60\n",
            "dog        - 78.40\n",
            "frog       - 91.70\n",
            "horse      - 90.20\n",
            "ship       - 94.20\n",
            "truck      - 92.90\n",
            " \n"
          ],
          "name": "stdout"
        },
        {
          "output_type": "display_data",
          "data": {
            "image/png": "[encoded data removed]",
            "text/plain": [
              "<Figure size 576x432 with 1 Axes>"
            ]
          },
          "metadata": {
            "tags": []
          }
        }
      ]
    },
    {
      "cell_type": "markdown",
      "metadata": {
        "id": "6SSqNCksEPzV",
        "colab_type": "text"
      },
      "source": [
        "***Show misclassified TEST images***\n",
        "<hr>"
      ]
    },
    {
      "cell_type": "code",
      "metadata": {
        "id": "-_btin3xEVED",
        "colab_type": "code",
        "outputId": "2fd31ed5-27ef-4610-c3c3-3f9be6d83b36",
        "colab": {
          "base_uri": "https://localhost:8080/",
          "height": 492
        }
      },
      "source": [
        "images, actuals, preds = misclassified.test_misclassified(model,device,testloader)\n",
        "misclassified.plot_images(images, actuals, preds, classes)"
      ],
      "execution_count": 0,
      "outputs": [
        {
          "output_type": "display_data",
          "data": {
            "image/png": "[encoded data removed]",
            "text/plain": [
              "<Figure size 792x576 with 15 Axes>"
            ]
          },
          "metadata": {
            "tags": []
          }
        }
      ]
    },
    {
      "cell_type": "code",
      "metadata": {
        "id": "vUjWXgt_Y2zs",
        "colab_type": "code",
        "colab": {}
      },
      "source": [
        ""
      ],
      "execution_count": 0,
      "outputs": []
    }
  ]
}