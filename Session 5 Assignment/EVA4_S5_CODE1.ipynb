{
  "nbformat": 4,
  "nbformat_minor": 0,
  "metadata": {
    "colab": {
      "name": "EVA4 S5 CODE1.ipynb",
      "provenance": []
    },
    "kernelspec": {
      "name": "python3",
      "display_name": "Python 3"
    },
    "accelerator": "GPU",
    "widgets": {
      "application/vnd.jupyter.widget-state+json": {
        "d0d48058b4a34b71af8dd24b0d814488": {
          "model_module": "@jupyter-widgets/controls",
          "model_name": "HBoxModel",
          "state": {
            "_view_name": "HBoxView",
            "_dom_classes": [],
            "_model_name": "HBoxModel",
            "_view_module": "@jupyter-widgets/controls",
            "_model_module_version": "1.5.0",
            "_view_count": null,
            "_view_module_version": "1.5.0",
            "box_style": "",
            "layout": "IPY_MODEL_91afde84de95440bab810999d840eb1b",
            "_model_module": "@jupyter-widgets/controls",
            "children": [
              "IPY_MODEL_a67516373d9645a0a224f1e82b0ae402",
              "IPY_MODEL_a9f9dffd5c4c449781eb744deec9e27d"
            ]
          }
        },
        "91afde84de95440bab810999d840eb1b": {
          "model_module": "@jupyter-widgets/base",
          "model_name": "LayoutModel",
          "state": {
            "_view_name": "LayoutView",
            "grid_template_rows": null,
            "right": null,
            "justify_content": null,
            "_view_module": "@jupyter-widgets/base",
            "overflow": null,
            "_model_module_version": "1.2.0",
            "_view_count": null,
            "flex_flow": null,
            "width": null,
            "min_width": null,
            "border": null,
            "align_items": null,
            "bottom": null,
            "_model_module": "@jupyter-widgets/base",
            "top": null,
            "grid_column": null,
            "overflow_y": null,
            "overflow_x": null,
            "grid_auto_flow": null,
            "grid_area": null,
            "grid_template_columns": null,
            "flex": null,
            "_model_name": "LayoutModel",
            "justify_items": null,
            "grid_row": null,
            "max_height": null,
            "align_content": null,
            "visibility": null,
            "align_self": null,
            "height": null,
            "min_height": null,
            "padding": null,
            "grid_auto_rows": null,
            "grid_gap": null,
            "max_width": null,
            "order": null,
            "_view_module_version": "1.2.0",
            "grid_template_areas": null,
            "object_position": null,
            "object_fit": null,
            "grid_auto_columns": null,
            "margin": null,
            "display": null,
            "left": null
          }
        },
        "a67516373d9645a0a224f1e82b0ae402": {
          "model_module": "@jupyter-widgets/controls",
          "model_name": "IntProgressModel",
          "state": {
            "_view_name": "ProgressView",
            "style": "IPY_MODEL_9c97e756d567463087d0c4da280d1e8a",
            "_dom_classes": [],
            "description": "",
            "_model_name": "IntProgressModel",
            "bar_style": "success",
            "max": 1,
            "_view_module": "@jupyter-widgets/controls",
            "_model_module_version": "1.5.0",
            "value": 1,
            "_view_count": null,
            "_view_module_version": "1.5.0",
            "orientation": "horizontal",
            "min": 0,
            "description_tooltip": null,
            "_model_module": "@jupyter-widgets/controls",
            "layout": "IPY_MODEL_666d83474f2a4d55a4ea5e0ea8503778"
          }
        },
        "a9f9dffd5c4c449781eb744deec9e27d": {
          "model_module": "@jupyter-widgets/controls",
          "model_name": "HTMLModel",
          "state": {
            "_view_name": "HTMLView",
            "style": "IPY_MODEL_f26c6c9ca7514f4cb19fa61431a4d6e7",
            "_dom_classes": [],
            "description": "",
            "_model_name": "HTMLModel",
            "placeholder": "​",
            "_view_module": "@jupyter-widgets/controls",
            "_model_module_version": "1.5.0",
            "value": "9920512it [00:02, 3893910.58it/s]",
            "_view_count": null,
            "_view_module_version": "1.5.0",
            "description_tooltip": null,
            "_model_module": "@jupyter-widgets/controls",
            "layout": "IPY_MODEL_4c2b4459dbec4a30b3b7f3cf068422c4"
          }
        },
        "9c97e756d567463087d0c4da280d1e8a": {
          "model_module": "@jupyter-widgets/controls",
          "model_name": "ProgressStyleModel",
          "state": {
            "_view_name": "StyleView",
            "_model_name": "ProgressStyleModel",
            "description_width": "",
            "_view_module": "@jupyter-widgets/base",
            "_model_module_version": "1.5.0",
            "_view_count": null,
            "_view_module_version": "1.2.0",
            "bar_color": null,
            "_model_module": "@jupyter-widgets/controls"
          }
        },
        "666d83474f2a4d55a4ea5e0ea8503778": {
          "model_module": "@jupyter-widgets/base",
          "model_name": "LayoutModel",
          "state": {
            "_view_name": "LayoutView",
            "grid_template_rows": null,
            "right": null,
            "justify_content": null,
            "_view_module": "@jupyter-widgets/base",
            "overflow": null,
            "_model_module_version": "1.2.0",
            "_view_count": null,
            "flex_flow": null,
            "width": null,
            "min_width": null,
            "border": null,
            "align_items": null,
            "bottom": null,
            "_model_module": "@jupyter-widgets/base",
            "top": null,
            "grid_column": null,
            "overflow_y": null,
            "overflow_x": null,
            "grid_auto_flow": null,
            "grid_area": null,
            "grid_template_columns": null,
            "flex": null,
            "_model_name": "LayoutModel",
            "justify_items": null,
            "grid_row": null,
            "max_height": null,
            "align_content": null,
            "visibility": null,
            "align_self": null,
            "height": null,
            "min_height": null,
            "padding": null,
            "grid_auto_rows": null,
            "grid_gap": null,
            "max_width": null,
            "order": null,
            "_view_module_version": "1.2.0",
            "grid_template_areas": null,
            "object_position": null,
            "object_fit": null,
            "grid_auto_columns": null,
            "margin": null,
            "display": null,
            "left": null
          }
        },
        "f26c6c9ca7514f4cb19fa61431a4d6e7": {
          "model_module": "@jupyter-widgets/controls",
          "model_name": "DescriptionStyleModel",
          "state": {
            "_view_name": "StyleView",
            "_model_name": "DescriptionStyleModel",
            "description_width": "",
            "_view_module": "@jupyter-widgets/base",
            "_model_module_version": "1.5.0",
            "_view_count": null,
            "_view_module_version": "1.2.0",
            "_model_module": "@jupyter-widgets/controls"
          }
        },
        "4c2b4459dbec4a30b3b7f3cf068422c4": {
          "model_module": "@jupyter-widgets/base",
          "model_name": "LayoutModel",
          "state": {
            "_view_name": "LayoutView",
            "grid_template_rows": null,
            "right": null,
            "justify_content": null,
            "_view_module": "@jupyter-widgets/base",
            "overflow": null,
            "_model_module_version": "1.2.0",
            "_view_count": null,
            "flex_flow": null,
            "width": null,
            "min_width": null,
            "border": null,
            "align_items": null,
            "bottom": null,
            "_model_module": "@jupyter-widgets/base",
            "top": null,
            "grid_column": null,
            "overflow_y": null,
            "overflow_x": null,
            "grid_auto_flow": null,
            "grid_area": null,
            "grid_template_columns": null,
            "flex": null,
            "_model_name": "LayoutModel",
            "justify_items": null,
            "grid_row": null,
            "max_height": null,
            "align_content": null,
            "visibility": null,
            "align_self": null,
            "height": null,
            "min_height": null,
            "padding": null,
            "grid_auto_rows": null,
            "grid_gap": null,
            "max_width": null,
            "order": null,
            "_view_module_version": "1.2.0",
            "grid_template_areas": null,
            "object_position": null,
            "object_fit": null,
            "grid_auto_columns": null,
            "margin": null,
            "display": null,
            "left": null
          }
        },
        "8a1f9e74083444568cb7e2df4c822645": {
          "model_module": "@jupyter-widgets/controls",
          "model_name": "HBoxModel",
          "state": {
            "_view_name": "HBoxView",
            "_dom_classes": [],
            "_model_name": "HBoxModel",
            "_view_module": "@jupyter-widgets/controls",
            "_model_module_version": "1.5.0",
            "_view_count": null,
            "_view_module_version": "1.5.0",
            "box_style": "",
            "layout": "IPY_MODEL_4a23021c8e644f04bda33447bfb9613f",
            "_model_module": "@jupyter-widgets/controls",
            "children": [
              "IPY_MODEL_e8ad12b5bdcc4adfbb0ca50868f735ed",
              "IPY_MODEL_7371aff5790e4cd7bb8b75cfbfdf2d4c"
            ]
          }
        },
        "4a23021c8e644f04bda33447bfb9613f": {
          "model_module": "@jupyter-widgets/base",
          "model_name": "LayoutModel",
          "state": {
            "_view_name": "LayoutView",
            "grid_template_rows": null,
            "right": null,
            "justify_content": null,
            "_view_module": "@jupyter-widgets/base",
            "overflow": null,
            "_model_module_version": "1.2.0",
            "_view_count": null,
            "flex_flow": null,
            "width": null,
            "min_width": null,
            "border": null,
            "align_items": null,
            "bottom": null,
            "_model_module": "@jupyter-widgets/base",
            "top": null,
            "grid_column": null,
            "overflow_y": null,
            "overflow_x": null,
            "grid_auto_flow": null,
            "grid_area": null,
            "grid_template_columns": null,
            "flex": null,
            "_model_name": "LayoutModel",
            "justify_items": null,
            "grid_row": null,
            "max_height": null,
            "align_content": null,
            "visibility": null,
            "align_self": null,
            "height": null,
            "min_height": null,
            "padding": null,
            "grid_auto_rows": null,
            "grid_gap": null,
            "max_width": null,
            "order": null,
            "_view_module_version": "1.2.0",
            "grid_template_areas": null,
            "object_position": null,
            "object_fit": null,
            "grid_auto_columns": null,
            "margin": null,
            "display": null,
            "left": null
          }
        },
        "e8ad12b5bdcc4adfbb0ca50868f735ed": {
          "model_module": "@jupyter-widgets/controls",
          "model_name": "IntProgressModel",
          "state": {
            "_view_name": "ProgressView",
            "style": "IPY_MODEL_030025af3b354c869c0589260992efe9",
            "_dom_classes": [],
            "description": "",
            "_model_name": "IntProgressModel",
            "bar_style": "success",
            "max": 1,
            "_view_module": "@jupyter-widgets/controls",
            "_model_module_version": "1.5.0",
            "value": 1,
            "_view_count": null,
            "_view_module_version": "1.5.0",
            "orientation": "horizontal",
            "min": 0,
            "description_tooltip": null,
            "_model_module": "@jupyter-widgets/controls",
            "layout": "IPY_MODEL_df7cb319d968473d81fc8439469e661d"
          }
        },
        "7371aff5790e4cd7bb8b75cfbfdf2d4c": {
          "model_module": "@jupyter-widgets/controls",
          "model_name": "HTMLModel",
          "state": {
            "_view_name": "HTMLView",
            "style": "IPY_MODEL_9ec8cb89f37b44e994ce6c26b36b3889",
            "_dom_classes": [],
            "description": "",
            "_model_name": "HTMLModel",
            "placeholder": "​",
            "_view_module": "@jupyter-widgets/controls",
            "_model_module_version": "1.5.0",
            "value": "32768it [00:00, 55464.04it/s]",
            "_view_count": null,
            "_view_module_version": "1.5.0",
            "description_tooltip": null,
            "_model_module": "@jupyter-widgets/controls",
            "layout": "IPY_MODEL_b54ce09d6cc047d785b2c522b479dabc"
          }
        },
        "030025af3b354c869c0589260992efe9": {
          "model_module": "@jupyter-widgets/controls",
          "model_name": "ProgressStyleModel",
          "state": {
            "_view_name": "StyleView",
            "_model_name": "ProgressStyleModel",
            "description_width": "",
            "_view_module": "@jupyter-widgets/base",
            "_model_module_version": "1.5.0",
            "_view_count": null,
            "_view_module_version": "1.2.0",
            "bar_color": null,
            "_model_module": "@jupyter-widgets/controls"
          }
        },
        "df7cb319d968473d81fc8439469e661d": {
          "model_module": "@jupyter-widgets/base",
          "model_name": "LayoutModel",
          "state": {
            "_view_name": "LayoutView",
            "grid_template_rows": null,
            "right": null,
            "justify_content": null,
            "_view_module": "@jupyter-widgets/base",
            "overflow": null,
            "_model_module_version": "1.2.0",
            "_view_count": null,
            "flex_flow": null,
            "width": null,
            "min_width": null,
            "border": null,
            "align_items": null,
            "bottom": null,
            "_model_module": "@jupyter-widgets/base",
            "top": null,
            "grid_column": null,
            "overflow_y": null,
            "overflow_x": null,
            "grid_auto_flow": null,
            "grid_area": null,
            "grid_template_columns": null,
            "flex": null,
            "_model_name": "LayoutModel",
            "justify_items": null,
            "grid_row": null,
            "max_height": null,
            "align_content": null,
            "visibility": null,
            "align_self": null,
            "height": null,
            "min_height": null,
            "padding": null,
            "grid_auto_rows": null,
            "grid_gap": null,
            "max_width": null,
            "order": null,
            "_view_module_version": "1.2.0",
            "grid_template_areas": null,
            "object_position": null,
            "object_fit": null,
            "grid_auto_columns": null,
            "margin": null,
            "display": null,
            "left": null
          }
        },
        "9ec8cb89f37b44e994ce6c26b36b3889": {
          "model_module": "@jupyter-widgets/controls",
          "model_name": "DescriptionStyleModel",
          "state": {
            "_view_name": "StyleView",
            "_model_name": "DescriptionStyleModel",
            "description_width": "",
            "_view_module": "@jupyter-widgets/base",
            "_model_module_version": "1.5.0",
            "_view_count": null,
            "_view_module_version": "1.2.0",
            "_model_module": "@jupyter-widgets/controls"
          }
        },
        "b54ce09d6cc047d785b2c522b479dabc": {
          "model_module": "@jupyter-widgets/base",
          "model_name": "LayoutModel",
          "state": {
            "_view_name": "LayoutView",
            "grid_template_rows": null,
            "right": null,
            "justify_content": null,
            "_view_module": "@jupyter-widgets/base",
            "overflow": null,
            "_model_module_version": "1.2.0",
            "_view_count": null,
            "flex_flow": null,
            "width": null,
            "min_width": null,
            "border": null,
            "align_items": null,
            "bottom": null,
            "_model_module": "@jupyter-widgets/base",
            "top": null,
            "grid_column": null,
            "overflow_y": null,
            "overflow_x": null,
            "grid_auto_flow": null,
            "grid_area": null,
            "grid_template_columns": null,
            "flex": null,
            "_model_name": "LayoutModel",
            "justify_items": null,
            "grid_row": null,
            "max_height": null,
            "align_content": null,
            "visibility": null,
            "align_self": null,
            "height": null,
            "min_height": null,
            "padding": null,
            "grid_auto_rows": null,
            "grid_gap": null,
            "max_width": null,
            "order": null,
            "_view_module_version": "1.2.0",
            "grid_template_areas": null,
            "object_position": null,
            "object_fit": null,
            "grid_auto_columns": null,
            "margin": null,
            "display": null,
            "left": null
          }
        },
        "3dd1e36448834106bd06e424d2c1b819": {
          "model_module": "@jupyter-widgets/controls",
          "model_name": "HBoxModel",
          "state": {
            "_view_name": "HBoxView",
            "_dom_classes": [],
            "_model_name": "HBoxModel",
            "_view_module": "@jupyter-widgets/controls",
            "_model_module_version": "1.5.0",
            "_view_count": null,
            "_view_module_version": "1.5.0",
            "box_style": "",
            "layout": "IPY_MODEL_28c2895f72b546109421b024287c40a6",
            "_model_module": "@jupyter-widgets/controls",
            "children": [
              "IPY_MODEL_4038504bf5da4b4bb119aac21e0f0084",
              "IPY_MODEL_bdb32cd04dbe4a5fa47fdb2b196e50e5"
            ]
          }
        },
        "28c2895f72b546109421b024287c40a6": {
          "model_module": "@jupyter-widgets/base",
          "model_name": "LayoutModel",
          "state": {
            "_view_name": "LayoutView",
            "grid_template_rows": null,
            "right": null,
            "justify_content": null,
            "_view_module": "@jupyter-widgets/base",
            "overflow": null,
            "_model_module_version": "1.2.0",
            "_view_count": null,
            "flex_flow": null,
            "width": null,
            "min_width": null,
            "border": null,
            "align_items": null,
            "bottom": null,
            "_model_module": "@jupyter-widgets/base",
            "top": null,
            "grid_column": null,
            "overflow_y": null,
            "overflow_x": null,
            "grid_auto_flow": null,
            "grid_area": null,
            "grid_template_columns": null,
            "flex": null,
            "_model_name": "LayoutModel",
            "justify_items": null,
            "grid_row": null,
            "max_height": null,
            "align_content": null,
            "visibility": null,
            "align_self": null,
            "height": null,
            "min_height": null,
            "padding": null,
            "grid_auto_rows": null,
            "grid_gap": null,
            "max_width": null,
            "order": null,
            "_view_module_version": "1.2.0",
            "grid_template_areas": null,
            "object_position": null,
            "object_fit": null,
            "grid_auto_columns": null,
            "margin": null,
            "display": null,
            "left": null
          }
        },
        "4038504bf5da4b4bb119aac21e0f0084": {
          "model_module": "@jupyter-widgets/controls",
          "model_name": "IntProgressModel",
          "state": {
            "_view_name": "ProgressView",
            "style": "IPY_MODEL_be31f3aaf4a145f48d80246c50290a92",
            "_dom_classes": [],
            "description": "",
            "_model_name": "IntProgressModel",
            "bar_style": "success",
            "max": 1,
            "_view_module": "@jupyter-widgets/controls",
            "_model_module_version": "1.5.0",
            "value": 1,
            "_view_count": null,
            "_view_module_version": "1.5.0",
            "orientation": "horizontal",
            "min": 0,
            "description_tooltip": null,
            "_model_module": "@jupyter-widgets/controls",
            "layout": "IPY_MODEL_527240b8f4234df5b4699f3b33b3b53a"
          }
        },
        "bdb32cd04dbe4a5fa47fdb2b196e50e5": {
          "model_module": "@jupyter-widgets/controls",
          "model_name": "HTMLModel",
          "state": {
            "_view_name": "HTMLView",
            "style": "IPY_MODEL_877d14a948bb4e3495261aefcfad0508",
            "_dom_classes": [],
            "description": "",
            "_model_name": "HTMLModel",
            "placeholder": "​",
            "_view_module": "@jupyter-widgets/controls",
            "_model_module_version": "1.5.0",
            "value": "1654784it [00:01, 960788.13it/s]",
            "_view_count": null,
            "_view_module_version": "1.5.0",
            "description_tooltip": null,
            "_model_module": "@jupyter-widgets/controls",
            "layout": "IPY_MODEL_273ea1b6b7b34e39b098c2a9c022d685"
          }
        },
        "be31f3aaf4a145f48d80246c50290a92": {
          "model_module": "@jupyter-widgets/controls",
          "model_name": "ProgressStyleModel",
          "state": {
            "_view_name": "StyleView",
            "_model_name": "ProgressStyleModel",
            "description_width": "",
            "_view_module": "@jupyter-widgets/base",
            "_model_module_version": "1.5.0",
            "_view_count": null,
            "_view_module_version": "1.2.0",
            "bar_color": null,
            "_model_module": "@jupyter-widgets/controls"
          }
        },
        "527240b8f4234df5b4699f3b33b3b53a": {
          "model_module": "@jupyter-widgets/base",
          "model_name": "LayoutModel",
          "state": {
            "_view_name": "LayoutView",
            "grid_template_rows": null,
            "right": null,
            "justify_content": null,
            "_view_module": "@jupyter-widgets/base",
            "overflow": null,
            "_model_module_version": "1.2.0",
            "_view_count": null,
            "flex_flow": null,
            "width": null,
            "min_width": null,
            "border": null,
            "align_items": null,
            "bottom": null,
            "_model_module": "@jupyter-widgets/base",
            "top": null,
            "grid_column": null,
            "overflow_y": null,
            "overflow_x": null,
            "grid_auto_flow": null,
            "grid_area": null,
            "grid_template_columns": null,
            "flex": null,
            "_model_name": "LayoutModel",
            "justify_items": null,
            "grid_row": null,
            "max_height": null,
            "align_content": null,
            "visibility": null,
            "align_self": null,
            "height": null,
            "min_height": null,
            "padding": null,
            "grid_auto_rows": null,
            "grid_gap": null,
            "max_width": null,
            "order": null,
            "_view_module_version": "1.2.0",
            "grid_template_areas": null,
            "object_position": null,
            "object_fit": null,
            "grid_auto_columns": null,
            "margin": null,
            "display": null,
            "left": null
          }
        },
        "877d14a948bb4e3495261aefcfad0508": {
          "model_module": "@jupyter-widgets/controls",
          "model_name": "DescriptionStyleModel",
          "state": {
            "_view_name": "StyleView",
            "_model_name": "DescriptionStyleModel",
            "description_width": "",
            "_view_module": "@jupyter-widgets/base",
            "_model_module_version": "1.5.0",
            "_view_count": null,
            "_view_module_version": "1.2.0",
            "_model_module": "@jupyter-widgets/controls"
          }
        },
        "273ea1b6b7b34e39b098c2a9c022d685": {
          "model_module": "@jupyter-widgets/base",
          "model_name": "LayoutModel",
          "state": {
            "_view_name": "LayoutView",
            "grid_template_rows": null,
            "right": null,
            "justify_content": null,
            "_view_module": "@jupyter-widgets/base",
            "overflow": null,
            "_model_module_version": "1.2.0",
            "_view_count": null,
            "flex_flow": null,
            "width": null,
            "min_width": null,
            "border": null,
            "align_items": null,
            "bottom": null,
            "_model_module": "@jupyter-widgets/base",
            "top": null,
            "grid_column": null,
            "overflow_y": null,
            "overflow_x": null,
            "grid_auto_flow": null,
            "grid_area": null,
            "grid_template_columns": null,
            "flex": null,
            "_model_name": "LayoutModel",
            "justify_items": null,
            "grid_row": null,
            "max_height": null,
            "align_content": null,
            "visibility": null,
            "align_self": null,
            "height": null,
            "min_height": null,
            "padding": null,
            "grid_auto_rows": null,
            "grid_gap": null,
            "max_width": null,
            "order": null,
            "_view_module_version": "1.2.0",
            "grid_template_areas": null,
            "object_position": null,
            "object_fit": null,
            "grid_auto_columns": null,
            "margin": null,
            "display": null,
            "left": null
          }
        },
        "8427123c4cda437cac18792c9cc2ee19": {
          "model_module": "@jupyter-widgets/controls",
          "model_name": "HBoxModel",
          "state": {
            "_view_name": "HBoxView",
            "_dom_classes": [],
            "_model_name": "HBoxModel",
            "_view_module": "@jupyter-widgets/controls",
            "_model_module_version": "1.5.0",
            "_view_count": null,
            "_view_module_version": "1.5.0",
            "box_style": "",
            "layout": "IPY_MODEL_ac2bd63ad52044b39e5cdf3d28116bae",
            "_model_module": "@jupyter-widgets/controls",
            "children": [
              "IPY_MODEL_18648a50a13d4a7cb835a07c81fb16b9",
              "IPY_MODEL_72462cc60ac8442c93d31d523fb35b39"
            ]
          }
        },
        "ac2bd63ad52044b39e5cdf3d28116bae": {
          "model_module": "@jupyter-widgets/base",
          "model_name": "LayoutModel",
          "state": {
            "_view_name": "LayoutView",
            "grid_template_rows": null,
            "right": null,
            "justify_content": null,
            "_view_module": "@jupyter-widgets/base",
            "overflow": null,
            "_model_module_version": "1.2.0",
            "_view_count": null,
            "flex_flow": null,
            "width": null,
            "min_width": null,
            "border": null,
            "align_items": null,
            "bottom": null,
            "_model_module": "@jupyter-widgets/base",
            "top": null,
            "grid_column": null,
            "overflow_y": null,
            "overflow_x": null,
            "grid_auto_flow": null,
            "grid_area": null,
            "grid_template_columns": null,
            "flex": null,
            "_model_name": "LayoutModel",
            "justify_items": null,
            "grid_row": null,
            "max_height": null,
            "align_content": null,
            "visibility": null,
            "align_self": null,
            "height": null,
            "min_height": null,
            "padding": null,
            "grid_auto_rows": null,
            "grid_gap": null,
            "max_width": null,
            "order": null,
            "_view_module_version": "1.2.0",
            "grid_template_areas": null,
            "object_position": null,
            "object_fit": null,
            "grid_auto_columns": null,
            "margin": null,
            "display": null,
            "left": null
          }
        },
        "18648a50a13d4a7cb835a07c81fb16b9": {
          "model_module": "@jupyter-widgets/controls",
          "model_name": "IntProgressModel",
          "state": {
            "_view_name": "ProgressView",
            "style": "IPY_MODEL_99f80762ae174843bffd356148adafb9",
            "_dom_classes": [],
            "description": "",
            "_model_name": "IntProgressModel",
            "bar_style": "success",
            "max": 1,
            "_view_module": "@jupyter-widgets/controls",
            "_model_module_version": "1.5.0",
            "value": 1,
            "_view_count": null,
            "_view_module_version": "1.5.0",
            "orientation": "horizontal",
            "min": 0,
            "description_tooltip": null,
            "_model_module": "@jupyter-widgets/controls",
            "layout": "IPY_MODEL_4314a78419b74a5d88d047c20d9f973d"
          }
        },
        "72462cc60ac8442c93d31d523fb35b39": {
          "model_module": "@jupyter-widgets/controls",
          "model_name": "HTMLModel",
          "state": {
            "_view_name": "HTMLView",
            "style": "IPY_MODEL_b1167e1bbd1346b7a950b4d14d2067bc",
            "_dom_classes": [],
            "description": "",
            "_model_name": "HTMLModel",
            "placeholder": "​",
            "_view_module": "@jupyter-widgets/controls",
            "_model_module_version": "1.5.0",
            "value": "8192it [00:00, 20536.56it/s]",
            "_view_count": null,
            "_view_module_version": "1.5.0",
            "description_tooltip": null,
            "_model_module": "@jupyter-widgets/controls",
            "layout": "IPY_MODEL_0ee375c03b504e2984ac6e6026c75e74"
          }
        },
        "99f80762ae174843bffd356148adafb9": {
          "model_module": "@jupyter-widgets/controls",
          "model_name": "ProgressStyleModel",
          "state": {
            "_view_name": "StyleView",
            "_model_name": "ProgressStyleModel",
            "description_width": "",
            "_view_module": "@jupyter-widgets/base",
            "_model_module_version": "1.5.0",
            "_view_count": null,
            "_view_module_version": "1.2.0",
            "bar_color": null,
            "_model_module": "@jupyter-widgets/controls"
          }
        },
        "4314a78419b74a5d88d047c20d9f973d": {
          "model_module": "@jupyter-widgets/base",
          "model_name": "LayoutModel",
          "state": {
            "_view_name": "LayoutView",
            "grid_template_rows": null,
            "right": null,
            "justify_content": null,
            "_view_module": "@jupyter-widgets/base",
            "overflow": null,
            "_model_module_version": "1.2.0",
            "_view_count": null,
            "flex_flow": null,
            "width": null,
            "min_width": null,
            "border": null,
            "align_items": null,
            "bottom": null,
            "_model_module": "@jupyter-widgets/base",
            "top": null,
            "grid_column": null,
            "overflow_y": null,
            "overflow_x": null,
            "grid_auto_flow": null,
            "grid_area": null,
            "grid_template_columns": null,
            "flex": null,
            "_model_name": "LayoutModel",
            "justify_items": null,
            "grid_row": null,
            "max_height": null,
            "align_content": null,
            "visibility": null,
            "align_self": null,
            "height": null,
            "min_height": null,
            "padding": null,
            "grid_auto_rows": null,
            "grid_gap": null,
            "max_width": null,
            "order": null,
            "_view_module_version": "1.2.0",
            "grid_template_areas": null,
            "object_position": null,
            "object_fit": null,
            "grid_auto_columns": null,
            "margin": null,
            "display": null,
            "left": null
          }
        },
        "b1167e1bbd1346b7a950b4d14d2067bc": {
          "model_module": "@jupyter-widgets/controls",
          "model_name": "DescriptionStyleModel",
          "state": {
            "_view_name": "StyleView",
            "_model_name": "DescriptionStyleModel",
            "description_width": "",
            "_view_module": "@jupyter-widgets/base",
            "_model_module_version": "1.5.0",
            "_view_count": null,
            "_view_module_version": "1.2.0",
            "_model_module": "@jupyter-widgets/controls"
          }
        },
        "0ee375c03b504e2984ac6e6026c75e74": {
          "model_module": "@jupyter-widgets/base",
          "model_name": "LayoutModel",
          "state": {
            "_view_name": "LayoutView",
            "grid_template_rows": null,
            "right": null,
            "justify_content": null,
            "_view_module": "@jupyter-widgets/base",
            "overflow": null,
            "_model_module_version": "1.2.0",
            "_view_count": null,
            "flex_flow": null,
            "width": null,
            "min_width": null,
            "border": null,
            "align_items": null,
            "bottom": null,
            "_model_module": "@jupyter-widgets/base",
            "top": null,
            "grid_column": null,
            "overflow_y": null,
            "overflow_x": null,
            "grid_auto_flow": null,
            "grid_area": null,
            "grid_template_columns": null,
            "flex": null,
            "_model_name": "LayoutModel",
            "justify_items": null,
            "grid_row": null,
            "max_height": null,
            "align_content": null,
            "visibility": null,
            "align_self": null,
            "height": null,
            "min_height": null,
            "padding": null,
            "grid_auto_rows": null,
            "grid_gap": null,
            "max_width": null,
            "order": null,
            "_view_module_version": "1.2.0",
            "grid_template_areas": null,
            "object_position": null,
            "object_fit": null,
            "grid_auto_columns": null,
            "margin": null,
            "display": null,
            "left": null
          }
        }
      }
    }
  },
  "cells": [
    {
      "cell_type": "markdown",
      "metadata": {
        "id": "tPa3PjKBaEm-",
        "colab_type": "text"
      },
      "source": [
        "<h2><i><b>Analysis of CODE1</b></i></h2>\n",
        "<I>\n",
        "\n",
        "---\n",
        "\n",
        "\n",
        "**Target:**\n",
        "\n",
        "*   Basic code setup with Data Loaders / Sample Architecture / Predictions + Validation\n",
        "*   No check of parameters or augumenters taken care at this step\n",
        "\n",
        "\n",
        "**Results:**<br>\n",
        "\n",
        "*   Epochs - 15\n",
        "*   Parameters - 6.3M\n",
        "*   Best Train Acc -  99.97(14th epoch)\n",
        "*   Best Test Acc  - 99.41(11th epoch)\n",
        "*   Train/Test Acc last layer - 99.96/99.27 (Difference - 0.70)\n",
        "\n",
        "\n",
        "**Analysis:**<br>\n",
        "\n",
        "\n",
        "*   Training logs shows sign of overfitting.\n",
        "*   The model is large in terms of capacity(parameter count) making it more complex.\n",
        "*   Since there are no transforms being done trained model becomes biased to train images which might not be actual representation of true conditions.\n",
        "\n",
        "\n",
        "---\n"
      ]
    },
    {
      "cell_type": "markdown",
      "metadata": {
        "id": "UhoWlJ28nl4b",
        "colab_type": "text"
      },
      "source": [
        "**MODEL Receptive Field Calculation**\n",
        "\n",
        "```\n",
        "![image.png](data:image/png;base64,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)"
      ]
    },
    {
      "cell_type": "markdown",
      "metadata": {
        "id": "aO-7t1Y7-hV4",
        "colab_type": "text"
      },
      "source": [
        "# Import Libraries"
      ]
    },
    {
      "cell_type": "code",
      "metadata": {
        "id": "8kH16rnZ7wt_",
        "colab_type": "code",
        "colab": {}
      },
      "source": [
        "from __future__ import print_function\n",
        "import torch\n",
        "import torch.nn as nn\n",
        "import torch.nn.functional as F\n",
        "import torch.optim as optim\n",
        "from torchvision import datasets, transforms"
      ],
      "execution_count": 0,
      "outputs": []
    },
    {
      "cell_type": "markdown",
      "metadata": {
        "id": "ky3f_Odl-7um",
        "colab_type": "text"
      },
      "source": [
        "## Data Transformations\n",
        "\n",
        "We first start with defining our data transformations. We need to think what our data is and how can we augment it to correct represent images which it might not see otherwise. \n",
        "\n",
        "Here is the list of all the transformations which come pre-built with PyTorch\n",
        "\n",
        "1.   Compose\n",
        "2.   ToTensor\n",
        "3.   ToPILImage\n",
        "4. Normalize\n",
        "5. Resize\n",
        "6. Scale\n",
        "7. CenterCrop\n",
        "8. Pad\n",
        "9. Lambda\n",
        "10. RandomApply\n",
        "11. RandomChoice\n",
        "12. RandomOrder\n",
        "13. RandomCrop\n",
        "14. RandomHorizontalFlip\n",
        "15. RandomVerticalFlip\n",
        "16. RandomResizedCrop\n",
        "17. RandomSizedCrop\n",
        "18. FiveCrop\n",
        "19. TenCrop\n",
        "20. LinearTransformation\n",
        "21. ColorJitter\n",
        "22. RandomRotation\n",
        "23. RandomAffine\n",
        "24. Grayscale\n",
        "25. RandomGrayscale\n",
        "26. RandomPerspective\n",
        "27. RandomErasing\n",
        "\n",
        "You can read more about them [here](https://pytorch.org/docs/stable/_modules/torchvision/transforms/transforms.html)"
      ]
    },
    {
      "cell_type": "code",
      "metadata": {
        "id": "YtssFUKb-jqx",
        "colab_type": "code",
        "colab": {}
      },
      "source": [
        "# Train Phase transformations\n",
        "train_transforms = transforms.Compose([\n",
        "                                      #  transforms.Resize((28, 28)),\n",
        "                                      #  transforms.ColorJitter(brightness=0.10, contrast=0.1, saturation=0.10, hue=0.1),\n",
        "                                       transforms.ToTensor(),\n",
        "                                       transforms.Normalize((0.1307,), (0.3081,)) # The mean and std have to be sequences (e.g., tuples), therefore you should add a comma after the values. \n",
        "                                       # Note the difference between (0.1307) and (0.1307,)\n",
        "                                       ])\n",
        "\n",
        "# Test Phase transformations\n",
        "test_transforms = transforms.Compose([\n",
        "                                      #  transforms.Resize((28, 28)),\n",
        "                                      #  transforms.ColorJitter(brightness=0.10, contrast=0.1, saturation=0.10, hue=0.1),\n",
        "                                       transforms.ToTensor(),\n",
        "                                       transforms.Normalize((0.1307,), (0.3081,))\n",
        "                                       ])\n"
      ],
      "execution_count": 0,
      "outputs": []
    },
    {
      "cell_type": "markdown",
      "metadata": {
        "id": "oQciFYo2B1mO",
        "colab_type": "text"
      },
      "source": [
        "# Dataset and Creating Train/Test Split"
      ]
    },
    {
      "cell_type": "code",
      "metadata": {
        "id": "_4A84rlfDA23",
        "colab_type": "code",
        "outputId": "048754ea-1c76-4483-a525-f0f9adfe1c85",
        "colab": {
          "base_uri": "https://localhost:8080/",
          "height": 383,
          "referenced_widgets": [
            "d0d48058b4a34b71af8dd24b0d814488",
            "91afde84de95440bab810999d840eb1b",
            "a67516373d9645a0a224f1e82b0ae402",
            "a9f9dffd5c4c449781eb744deec9e27d",
            "9c97e756d567463087d0c4da280d1e8a",
            "666d83474f2a4d55a4ea5e0ea8503778",
            "f26c6c9ca7514f4cb19fa61431a4d6e7",
            "4c2b4459dbec4a30b3b7f3cf068422c4",
            "8a1f9e74083444568cb7e2df4c822645",
            "4a23021c8e644f04bda33447bfb9613f",
            "e8ad12b5bdcc4adfbb0ca50868f735ed",
            "7371aff5790e4cd7bb8b75cfbfdf2d4c",
            "030025af3b354c869c0589260992efe9",
            "df7cb319d968473d81fc8439469e661d",
            "9ec8cb89f37b44e994ce6c26b36b3889",
            "b54ce09d6cc047d785b2c522b479dabc",
            "3dd1e36448834106bd06e424d2c1b819",
            "28c2895f72b546109421b024287c40a6",
            "4038504bf5da4b4bb119aac21e0f0084",
            "bdb32cd04dbe4a5fa47fdb2b196e50e5",
            "be31f3aaf4a145f48d80246c50290a92",
            "527240b8f4234df5b4699f3b33b3b53a",
            "877d14a948bb4e3495261aefcfad0508",
            "273ea1b6b7b34e39b098c2a9c022d685",
            "8427123c4cda437cac18792c9cc2ee19",
            "ac2bd63ad52044b39e5cdf3d28116bae",
            "18648a50a13d4a7cb835a07c81fb16b9",
            "72462cc60ac8442c93d31d523fb35b39",
            "99f80762ae174843bffd356148adafb9",
            "4314a78419b74a5d88d047c20d9f973d",
            "b1167e1bbd1346b7a950b4d14d2067bc",
            "0ee375c03b504e2984ac6e6026c75e74"
          ]
        }
      },
      "source": [
        "train = datasets.MNIST('./data', train=True, download=True, transform=train_transforms)\n",
        "test = datasets.MNIST('./data', train=False, download=True, transform=test_transforms)"
      ],
      "execution_count": 0,
      "outputs": [
        {
          "output_type": "stream",
          "text": [
            "Downloading http://yann.lecun.com/exdb/mnist/train-images-idx3-ubyte.gz to ./data/MNIST/raw/train-images-idx3-ubyte.gz\n"
          ],
          "name": "stdout"
        },
        {
          "output_type": "display_data",
          "data": {
            "application/vnd.jupyter.widget-view+json": {
              "model_id": "d0d48058b4a34b71af8dd24b0d814488",
              "version_minor": 0,
              "version_major": 2
            },
            "text/plain": [
              "HBox(children=(IntProgress(value=1, bar_style='info', max=1), HTML(value='')))"
            ]
          },
          "metadata": {
            "tags": []
          }
        },
        {
          "output_type": "stream",
          "text": [
            "\n",
            "Extracting ./data/MNIST/raw/train-images-idx3-ubyte.gz to ./data/MNIST/raw\n",
            "Downloading http://yann.lecun.com/exdb/mnist/train-labels-idx1-ubyte.gz to ./data/MNIST/raw/train-labels-idx1-ubyte.gz\n"
          ],
          "name": "stdout"
        },
        {
          "output_type": "display_data",
          "data": {
            "application/vnd.jupyter.widget-view+json": {
              "model_id": "8a1f9e74083444568cb7e2df4c822645",
              "version_minor": 0,
              "version_major": 2
            },
            "text/plain": [
              "HBox(children=(IntProgress(value=1, bar_style='info', max=1), HTML(value='')))"
            ]
          },
          "metadata": {
            "tags": []
          }
        },
        {
          "output_type": "stream",
          "text": [
            "\n",
            "Extracting ./data/MNIST/raw/train-labels-idx1-ubyte.gz to ./data/MNIST/raw\n",
            "Downloading http://yann.lecun.com/exdb/mnist/t10k-images-idx3-ubyte.gz to ./data/MNIST/raw/t10k-images-idx3-ubyte.gz\n"
          ],
          "name": "stdout"
        },
        {
          "output_type": "display_data",
          "data": {
            "application/vnd.jupyter.widget-view+json": {
              "model_id": "3dd1e36448834106bd06e424d2c1b819",
              "version_minor": 0,
              "version_major": 2
            },
            "text/plain": [
              "HBox(children=(IntProgress(value=1, bar_style='info', max=1), HTML(value='')))"
            ]
          },
          "metadata": {
            "tags": []
          }
        },
        {
          "output_type": "stream",
          "text": [
            "\n",
            "Extracting ./data/MNIST/raw/t10k-images-idx3-ubyte.gz to ./data/MNIST/raw\n",
            "Downloading http://yann.lecun.com/exdb/mnist/t10k-labels-idx1-ubyte.gz to ./data/MNIST/raw/t10k-labels-idx1-ubyte.gz\n"
          ],
          "name": "stdout"
        },
        {
          "output_type": "display_data",
          "data": {
            "application/vnd.jupyter.widget-view+json": {
              "model_id": "8427123c4cda437cac18792c9cc2ee19",
              "version_minor": 0,
              "version_major": 2
            },
            "text/plain": [
              "HBox(children=(IntProgress(value=1, bar_style='info', max=1), HTML(value='')))"
            ]
          },
          "metadata": {
            "tags": []
          }
        },
        {
          "output_type": "stream",
          "text": [
            "\n",
            "Extracting ./data/MNIST/raw/t10k-labels-idx1-ubyte.gz to ./data/MNIST/raw\n",
            "Processing...\n",
            "Done!\n"
          ],
          "name": "stdout"
        }
      ]
    },
    {
      "cell_type": "markdown",
      "metadata": {
        "id": "qgldp_3-Dn0c",
        "colab_type": "text"
      },
      "source": [
        "# Dataloader Arguments & Test/Train Dataloaders\n"
      ]
    },
    {
      "cell_type": "code",
      "metadata": {
        "id": "C8OLDR79DrHG",
        "colab_type": "code",
        "outputId": "3e1530b0-cf72-46b4-9667-b4ae06f1a17e",
        "colab": {
          "base_uri": "https://localhost:8080/",
          "height": 34
        }
      },
      "source": [
        "SEED = 1\n",
        "\n",
        "# CUDA?\n",
        "cuda = torch.cuda.is_available()\n",
        "print(\"CUDA Available?\", cuda)\n",
        "\n",
        "# For reproducibility\n",
        "torch.manual_seed(SEED)\n",
        "\n",
        "if cuda:\n",
        "    torch.cuda.manual_seed(SEED)\n",
        "\n",
        "# dataloader arguments - something you'll fetch these from cmdprmt\n",
        "dataloader_args = dict(shuffle=True, batch_size=64, num_workers=4, pin_memory=True) if cuda else dict(shuffle=True, batch_size=64)\n",
        "\n",
        "# train dataloader\n",
        "train_loader = torch.utils.data.DataLoader(train, **dataloader_args)\n",
        "\n",
        "# test dataloader\n",
        "test_loader = torch.utils.data.DataLoader(test, **dataloader_args)\n",
        "\n"
      ],
      "execution_count": 0,
      "outputs": [
        {
          "output_type": "stream",
          "text": [
            "CUDA Available? True\n"
          ],
          "name": "stdout"
        }
      ]
    },
    {
      "cell_type": "markdown",
      "metadata": {
        "id": "-TFjoFekE_va",
        "colab_type": "text"
      },
      "source": [
        "# Data Statistics\n",
        "\n",
        "It is important to know your data very well. Let's check some of the statistics around our data and how it actually looks like"
      ]
    },
    {
      "cell_type": "code",
      "metadata": {
        "id": "hWZPPo3yEHDW",
        "colab_type": "code",
        "outputId": "92a78afa-b30a-4a69-ba6c-6bf3a2e7631d",
        "colab": {
          "base_uri": "https://localhost:8080/",
          "height": 486
        }
      },
      "source": [
        "# We'd need to convert it into Numpy! Remember above we have converted it into tensors already\n",
        "train_data = train.train_data\n",
        "train_data = train.transform(train_data.numpy())\n",
        "\n",
        "print('[Train]')\n",
        "print(' - Numpy Shape:', train.train_data.cpu().numpy().shape)\n",
        "print(' - Tensor Shape:', train.train_data.size())\n",
        "print(' - min:', torch.min(train_data))\n",
        "print(' - max:', torch.max(train_data))\n",
        "print(' - mean:', torch.mean(train_data))\n",
        "print(' - std:', torch.std(train_data))\n",
        "print(' - var:', torch.var(train_data))\n",
        "\n",
        "dataiter = iter(train_loader)\n",
        "images, labels = dataiter.next()\n",
        "\n",
        "print(images.shape)\n",
        "print(labels.shape)\n",
        "\n",
        "# Let's visualize some of the images\n",
        "%matplotlib inline\n",
        "import matplotlib.pyplot as plt\n",
        "\n",
        "plt.imshow(images[0].numpy().squeeze(), cmap='gray_r')\n"
      ],
      "execution_count": 0,
      "outputs": [
        {
          "output_type": "stream",
          "text": [
            "/usr/local/lib/python3.6/dist-packages/torchvision/datasets/mnist.py:55: UserWarning: train_data has been renamed data\n",
            "  warnings.warn(\"train_data has been renamed data\")\n"
          ],
          "name": "stderr"
        },
        {
          "output_type": "stream",
          "text": [
            "[Train]\n",
            " - Numpy Shape: (60000, 28, 28)\n",
            " - Tensor Shape: torch.Size([60000, 28, 28])\n",
            " - min: tensor(-0.4242)\n",
            " - max: tensor(2.8215)\n",
            " - mean: tensor(0.0009)\n",
            " - std: tensor(1.0000)\n",
            " - var: tensor(1.0001)\n",
            "torch.Size([64, 1, 28, 28])\n",
            "torch.Size([64])\n"
          ],
          "name": "stdout"
        },
        {
          "output_type": "execute_result",
          "data": {
            "text/plain": [
              "<matplotlib.image.AxesImage at 0x7fa69a151518>"
            ]
          },
          "metadata": {
            "tags": []
          },
          "execution_count": 5
        },
        {
          "output_type": "display_data",
          "data": {
            "image/png": "[encoded data removed]",
            "text/plain": [
              "<Figure size 432x288 with 1 Axes>"
            ]
          },
          "metadata": {
            "tags": []
          }
        }
      ]
    },
    {
      "cell_type": "markdown",
      "metadata": {
        "id": "7l9lNaWYKuik",
        "colab_type": "text"
      },
      "source": [
        "## MORE\n",
        "\n",
        "It is important that we view as many images as possible. This is required to get some idea on image augmentation later on"
      ]
    },
    {
      "cell_type": "code",
      "metadata": {
        "id": "hXXAg8hbK16u",
        "colab_type": "code",
        "outputId": "22de58bb-0bdf-4a36-de37-abcdd34d265b",
        "colab": {
          "base_uri": "https://localhost:8080/",
          "height": 246
        }
      },
      "source": [
        "figure = plt.figure()\n",
        "num_of_images = 60\n",
        "for index in range(1, num_of_images + 1):\n",
        "    plt.subplot(6, 10, index)\n",
        "    plt.axis('off')\n",
        "    plt.imshow(images[index].numpy().squeeze(), cmap='gray_r')"
      ],
      "execution_count": 0,
      "outputs": [
        {
          "output_type": "display_data",
          "data": {
            "image/png": "[encoded data removed]",
            "text/plain": [
              "<Figure size 432x288 with 60 Axes>"
            ]
          },
          "metadata": {
            "tags": []
          }
        }
      ]
    },
    {
      "cell_type": "markdown",
      "metadata": {
        "id": "JF5-8_I3G6ix",
        "colab_type": "text"
      },
      "source": [
        "# How did we get those mean and std values which we used above?\n",
        "\n",
        "Let's run a small experiment"
      ]
    },
    {
      "cell_type": "code",
      "metadata": {
        "id": "yooPHm_aFc5A",
        "colab_type": "code",
        "outputId": "bbb1717e-ee38-4d84-940e-d877463e0e7e",
        "colab": {
          "base_uri": "https://localhost:8080/",
          "height": 187
        }
      },
      "source": [
        "# simple transform\n",
        "simple_transforms = transforms.Compose([\n",
        "                                      #  transforms.Resize((28, 28)),\n",
        "                                      #  transforms.ColorJitter(brightness=0.10, contrast=0.1, saturation=0.10, hue=0.1),\n",
        "                                       transforms.ToTensor(),\n",
        "                                      #  transforms.Normalize((0.1307,), (0.3081,)) # The mean and std have to be sequences (e.g., tuples), therefore you should add a comma after the values. \n",
        "                                       # Note the difference between (0.1307) and (0.1307,)\n",
        "                                       ])\n",
        "exp = datasets.MNIST('./data', train=True, download=True, transform=simple_transforms)\n",
        "exp_data = exp.train_data\n",
        "exp_data = exp.transform(exp_data.numpy())\n",
        "\n",
        "print('[Train]')\n",
        "print(' - Numpy Shape:', exp.train_data.cpu().numpy().shape)\n",
        "print(' - Tensor Shape:', exp.train_data.size())\n",
        "print(' - min:', torch.min(exp_data))\n",
        "print(' - max:', torch.max(exp_data))\n",
        "print(' - mean:', torch.mean(exp_data))\n",
        "print(' - std:', torch.std(exp_data))\n",
        "print(' - var:', torch.var(exp_data))"
      ],
      "execution_count": 0,
      "outputs": [
        {
          "output_type": "stream",
          "text": [
            "/usr/local/lib/python3.6/dist-packages/torchvision/datasets/mnist.py:55: UserWarning: train_data has been renamed data\n",
            "  warnings.warn(\"train_data has been renamed data\")\n"
          ],
          "name": "stderr"
        },
        {
          "output_type": "stream",
          "text": [
            "[Train]\n",
            " - Numpy Shape: (60000, 28, 28)\n",
            " - Tensor Shape: torch.Size([60000, 28, 28])\n",
            " - min: tensor(0.)\n",
            " - max: tensor(1.)\n",
            " - mean: tensor(0.1305)\n",
            " - std: tensor(0.3081)\n",
            " - var: tensor(0.0949)\n"
          ],
          "name": "stdout"
        }
      ]
    },
    {
      "cell_type": "markdown",
      "metadata": {
        "id": "ubQL3H6RJL3h",
        "colab_type": "text"
      },
      "source": [
        "# The model\n",
        "Let's start with the model we first saw"
      ]
    },
    {
      "cell_type": "code",
      "metadata": {
        "id": "7FXQlB9kH1ov",
        "colab_type": "code",
        "colab": {}
      },
      "source": [
        "class Net(nn.Module):\n",
        "      def __init__(self):\n",
        "        super(Net, self).__init__()\n",
        "        self.conv1 = nn.Conv2d(1, 32, 3, padding=1) #input -? OUtput? RF\n",
        "        self.conv2 = nn.Conv2d(32, 64, 3, padding=1)\n",
        "        self.pool1 = nn.MaxPool2d(2, 2)\n",
        "        self.conv3 = nn.Conv2d(64, 128, 3, padding=1)\n",
        "        self.conv4 = nn.Conv2d(128, 256, 3, padding=1)\n",
        "        self.pool2 = nn.MaxPool2d(2, 2)\n",
        "        self.conv5 = nn.Conv2d(256, 512, 3)\n",
        "        self.conv6 = nn.Conv2d(512, 1024, 3)\n",
        "        self.conv7 = nn.Conv2d(1024, 10, 3)\n",
        "\n",
        "      def forward(self, x):\n",
        "        x = self.pool1(F.relu(self.conv2(F.relu(self.conv1(x)))))\n",
        "        x = self.pool2(F.relu(self.conv4(F.relu(self.conv3(x)))))\n",
        "        x = F.relu(self.conv6(F.relu(self.conv5(x))))\n",
        "        # x = F.relu(self.conv7(x))\n",
        "        x = self.conv7(x)\n",
        "        x = x.view(-1, 10)\n",
        "        return F.log_softmax(x, dim=-1)"
      ],
      "execution_count": 0,
      "outputs": []
    },
    {
      "cell_type": "markdown",
      "metadata": {
        "id": "7gZ7euOFkgWy",
        "colab_type": "text"
      },
      "source": [
        "**Input/Output and RF calculation**"
      ]
    },
    {
      "cell_type": "markdown",
      "metadata": {
        "id": "Y_Fxi9RHkRL2",
        "colab_type": "text"
      },
      "source": [
        "\n",
        "```\n",
        "![image.png](data:image/png;base64,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)"
      ]
    },
    {
      "cell_type": "markdown",
      "metadata": {
        "id": "M3-vp8X9LCWo",
        "colab_type": "text"
      },
      "source": [
        "# Model Params\n",
        "Can't emphasize on how important viewing Model Summary is. \n",
        "Unfortunately, there is no in-built model visualizer, so we have to take external help"
      ]
    },
    {
      "cell_type": "code",
      "metadata": {
        "id": "5skB97zIJQQe",
        "colab_type": "code",
        "outputId": "8f96729e-25ea-4609-9120-d7a6cadb0fd4",
        "colab": {
          "base_uri": "https://localhost:8080/",
          "height": 425
        }
      },
      "source": [
        "!pip install torchsummary\n",
        "from torchsummary import summary\n",
        "use_cuda = torch.cuda.is_available()\n",
        "device = torch.device(\"cuda\" if use_cuda else \"cpu\")\n",
        "print(device)\n",
        "model = Net().to(device)\n",
        "summary(model, input_size=(1, 28, 28))"
      ],
      "execution_count": 0,
      "outputs": [
        {
          "output_type": "stream",
          "text": [
            "Requirement already satisfied: torchsummary in /usr/local/lib/python3.6/dist-packages (1.5.1)\n",
            "cuda\n",
            "----------------------------------------------------------------\n",
            "        Layer (type)               Output Shape         Param #\n",
            "================================================================\n",
            "            Conv2d-1           [-1, 32, 28, 28]             320\n",
            "            Conv2d-2           [-1, 64, 28, 28]          18,496\n",
            "         MaxPool2d-3           [-1, 64, 14, 14]               0\n",
            "            Conv2d-4          [-1, 128, 14, 14]          73,856\n",
            "            Conv2d-5          [-1, 256, 14, 14]         295,168\n",
            "         MaxPool2d-6            [-1, 256, 7, 7]               0\n",
            "            Conv2d-7            [-1, 512, 5, 5]       1,180,160\n",
            "            Conv2d-8           [-1, 1024, 3, 3]       4,719,616\n",
            "            Conv2d-9             [-1, 10, 1, 1]          92,170\n",
            "================================================================\n",
            "Total params: 6,379,786\n",
            "Trainable params: 6,379,786\n",
            "Non-trainable params: 0\n",
            "----------------------------------------------------------------\n",
            "Input size (MB): 0.00\n",
            "Forward/backward pass size (MB): 1.51\n",
            "Params size (MB): 24.34\n",
            "Estimated Total Size (MB): 25.85\n",
            "----------------------------------------------------------------\n"
          ],
          "name": "stdout"
        }
      ]
    },
    {
      "cell_type": "markdown",
      "metadata": {
        "id": "1__x_SbrL7z3",
        "colab_type": "text"
      },
      "source": [
        "# Training and Testing\n",
        "\n",
        "All right, so we have 6.3M params, and that's too many, we know that. But the purpose of this notebook is to set things right for our future experiments. \n",
        "\n",
        "Looking at logs can be boring, so we'll introduce **tqdm** progressbar to get cooler logs. \n",
        "\n",
        "Let's write train and test functions"
      ]
    },
    {
      "cell_type": "code",
      "metadata": {
        "id": "fbkF2nN_LYIb",
        "colab_type": "code",
        "colab": {}
      },
      "source": [
        "from tqdm import tqdm\n",
        "\n",
        "train_losses = []\n",
        "test_losses = []\n",
        "train_acc = []\n",
        "test_acc = []\n",
        "\n",
        "def train(model, device, train_loader, optimizer, epoch):\n",
        "  model.train()\n",
        "  pbar = tqdm(train_loader)\n",
        "  correct = 0\n",
        "  processed = 0\n",
        "  for batch_idx, (data, target) in enumerate(pbar):\n",
        "    # get samples\n",
        "    data, target = data.to(device), target.to(device)\n",
        "\n",
        "    # Init\n",
        "    optimizer.zero_grad()\n",
        "    # In PyTorch, we need to set the gradients to zero before starting to do backpropragation because PyTorch accumulates the gradients on subsequent backward passes. \n",
        "    # Because of this, when you start your training loop, ideally you should zero out the gradients so that you do the parameter update correctly.\n",
        "\n",
        "    # Predict\n",
        "    y_pred = model(data)\n",
        "\n",
        "    # Calculate loss\n",
        "    loss = F.nll_loss(y_pred, target)\n",
        "    train_losses.append(loss)\n",
        "\n",
        "    # Backpropagation\n",
        "    loss.backward()\n",
        "    optimizer.step()\n",
        "\n",
        "    # Update pbar-tqdm\n",
        "    \n",
        "    pred = y_pred.argmax(dim=1, keepdim=True)  # get the index of the max log-probability\n",
        "    correct += pred.eq(target.view_as(pred)).sum().item()\n",
        "    processed += len(data)\n",
        "\n",
        "    pbar.set_description(desc= f'Loss={loss.item()} Batch_id={batch_idx} Accuracy={100*correct/processed:0.2f}')\n",
        "    train_acc.append(100*correct/processed)\n",
        "\n",
        "def test(model, device, test_loader):\n",
        "    model.eval()\n",
        "    test_loss = 0\n",
        "    correct = 0\n",
        "    with torch.no_grad():\n",
        "        for data, target in test_loader:\n",
        "            data, target = data.to(device), target.to(device)\n",
        "            output = model(data)\n",
        "            test_loss += F.nll_loss(output, target, reduction='sum').item()  # sum up batch loss\n",
        "            pred = output.argmax(dim=1, keepdim=True)  # get the index of the max log-probability\n",
        "            correct += pred.eq(target.view_as(pred)).sum().item()\n",
        "\n",
        "    test_loss /= len(test_loader.dataset)\n",
        "    test_losses.append(test_loss)\n",
        "\n",
        "    print('\\nTest set: Average loss: {:.4f}, Accuracy: {}/{} ({:.2f}%)\\n'.format(\n",
        "        test_loss, correct, len(test_loader.dataset),\n",
        "        100. * correct / len(test_loader.dataset)))\n",
        "    \n",
        "    test_acc.append(100. * correct / len(test_loader.dataset))"
      ],
      "execution_count": 0,
      "outputs": []
    },
    {
      "cell_type": "markdown",
      "metadata": {
        "id": "drokW8wWODKq",
        "colab_type": "text"
      },
      "source": [
        "# Let's Train and test our model"
      ]
    },
    {
      "cell_type": "code",
      "metadata": {
        "id": "xMCFxeAKOB53",
        "colab_type": "code",
        "outputId": "b7f68b6a-40ea-40d6-f172-2a1a246a17c7",
        "colab": {
          "base_uri": "https://localhost:8080/",
          "height": 1000
        }
      },
      "source": [
        "model =  Net().to(device)\n",
        "optimizer = optim.SGD(model.parameters(), lr=0.01, momentum=0.9)\n",
        "EPOCHS = 15\n",
        "for epoch in range(EPOCHS):\n",
        "    print(\"EPOCH:\", epoch)\n",
        "    train(model, device, train_loader, optimizer, epoch)\n",
        "    test(model, device, test_loader)"
      ],
      "execution_count": 0,
      "outputs": [
        {
          "output_type": "stream",
          "text": [
            "\r  0%|          | 0/938 [00:00<?, ?it/s]"
          ],
          "name": "stderr"
        },
        {
          "output_type": "stream",
          "text": [
            "EPOCH: 0\n"
          ],
          "name": "stdout"
        },
        {
          "output_type": "stream",
          "text": [
            "Loss=0.04587279260158539 Batch_id=937 Accuracy=89.18: 100%|██████████| 938/938 [00:16<00:00, 57.45it/s]\n",
            "  0%|          | 0/938 [00:00<?, ?it/s]"
          ],
          "name": "stderr"
        },
        {
          "output_type": "stream",
          "text": [
            "\n",
            "Test set: Average loss: 0.0515, Accuracy: 9823/10000 (98.23%)\n",
            "\n",
            "EPOCH: 1\n"
          ],
          "name": "stdout"
        },
        {
          "output_type": "stream",
          "text": [
            "Loss=0.016826823353767395 Batch_id=937 Accuracy=98.61: 100%|██████████| 938/938 [00:16<00:00, 57.16it/s]\n",
            "  0%|          | 0/938 [00:00<?, ?it/s]"
          ],
          "name": "stderr"
        },
        {
          "output_type": "stream",
          "text": [
            "\n",
            "Test set: Average loss: 0.0377, Accuracy: 9870/10000 (98.70%)\n",
            "\n",
            "EPOCH: 2\n"
          ],
          "name": "stdout"
        },
        {
          "output_type": "stream",
          "text": [
            "Loss=0.0013469457626342773 Batch_id=937 Accuracy=99.10: 100%|██████████| 938/938 [00:16<00:00, 58.53it/s]\n",
            "  0%|          | 0/938 [00:00<?, ?it/s]"
          ],
          "name": "stderr"
        },
        {
          "output_type": "stream",
          "text": [
            "\n",
            "Test set: Average loss: 0.0293, Accuracy: 9906/10000 (99.06%)\n",
            "\n",
            "EPOCH: 3\n"
          ],
          "name": "stdout"
        },
        {
          "output_type": "stream",
          "text": [
            "Loss=0.014082282781600952 Batch_id=937 Accuracy=99.38: 100%|██████████| 938/938 [00:15<00:00, 58.84it/s]\n",
            "  0%|          | 0/938 [00:00<?, ?it/s]"
          ],
          "name": "stderr"
        },
        {
          "output_type": "stream",
          "text": [
            "\n",
            "Test set: Average loss: 0.0304, Accuracy: 9900/10000 (99.00%)\n",
            "\n",
            "EPOCH: 4\n"
          ],
          "name": "stdout"
        },
        {
          "output_type": "stream",
          "text": [
            "Loss=0.00011807680130004883 Batch_id=937 Accuracy=99.58: 100%|██████████| 938/938 [00:16<00:00, 57.50it/s]\n",
            "  0%|          | 0/938 [00:00<?, ?it/s]"
          ],
          "name": "stderr"
        },
        {
          "output_type": "stream",
          "text": [
            "\n",
            "Test set: Average loss: 0.0291, Accuracy: 9911/10000 (99.11%)\n",
            "\n",
            "EPOCH: 5\n"
          ],
          "name": "stdout"
        },
        {
          "output_type": "stream",
          "text": [
            "Loss=0.0007361769676208496 Batch_id=937 Accuracy=99.63: 100%|██████████| 938/938 [00:15<00:00, 58.72it/s]\n",
            "  0%|          | 0/938 [00:00<?, ?it/s]"
          ],
          "name": "stderr"
        },
        {
          "output_type": "stream",
          "text": [
            "\n",
            "Test set: Average loss: 0.0330, Accuracy: 9897/10000 (98.97%)\n",
            "\n",
            "EPOCH: 6\n"
          ],
          "name": "stdout"
        },
        {
          "output_type": "stream",
          "text": [
            "Loss=0.004653245210647583 Batch_id=937 Accuracy=99.70: 100%|██████████| 938/938 [00:15<00:00, 62.96it/s]\n",
            "  0%|          | 0/938 [00:00<?, ?it/s]"
          ],
          "name": "stderr"
        },
        {
          "output_type": "stream",
          "text": [
            "\n",
            "Test set: Average loss: 0.0264, Accuracy: 9920/10000 (99.20%)\n",
            "\n",
            "EPOCH: 7\n"
          ],
          "name": "stdout"
        },
        {
          "output_type": "stream",
          "text": [
            "Loss=0.039608508348464966 Batch_id=937 Accuracy=99.83: 100%|██████████| 938/938 [00:15<00:00, 58.70it/s]\n",
            "  0%|          | 0/938 [00:00<?, ?it/s]"
          ],
          "name": "stderr"
        },
        {
          "output_type": "stream",
          "text": [
            "\n",
            "Test set: Average loss: 0.0311, Accuracy: 9919/10000 (99.19%)\n",
            "\n",
            "EPOCH: 8\n"
          ],
          "name": "stdout"
        },
        {
          "output_type": "stream",
          "text": [
            "Loss=0.0009067654609680176 Batch_id=937 Accuracy=99.78: 100%|██████████| 938/938 [00:16<00:00, 57.53it/s]\n",
            "  0%|          | 0/938 [00:00<?, ?it/s]"
          ],
          "name": "stderr"
        },
        {
          "output_type": "stream",
          "text": [
            "\n",
            "Test set: Average loss: 0.0274, Accuracy: 9921/10000 (99.21%)\n",
            "\n",
            "EPOCH: 9\n"
          ],
          "name": "stdout"
        },
        {
          "output_type": "stream",
          "text": [
            "Loss=0.0022322535514831543 Batch_id=937 Accuracy=99.88: 100%|██████████| 938/938 [00:16<00:00, 57.09it/s]\n",
            "  0%|          | 0/938 [00:00<?, ?it/s]"
          ],
          "name": "stderr"
        },
        {
          "output_type": "stream",
          "text": [
            "\n",
            "Test set: Average loss: 0.0288, Accuracy: 9936/10000 (99.36%)\n",
            "\n",
            "EPOCH: 10\n"
          ],
          "name": "stdout"
        },
        {
          "output_type": "stream",
          "text": [
            "Loss=0.0007526278495788574 Batch_id=937 Accuracy=99.89: 100%|██████████| 938/938 [00:16<00:00, 58.27it/s]\n",
            "  0%|          | 0/938 [00:00<?, ?it/s]"
          ],
          "name": "stderr"
        },
        {
          "output_type": "stream",
          "text": [
            "\n",
            "Test set: Average loss: 0.0251, Accuracy: 9941/10000 (99.41%)\n",
            "\n",
            "EPOCH: 11\n"
          ],
          "name": "stdout"
        },
        {
          "output_type": "stream",
          "text": [
            "Loss=3.6954879760742188e-06 Batch_id=937 Accuracy=99.95: 100%|██████████| 938/938 [00:16<00:00, 57.16it/s]\n",
            "  0%|          | 0/938 [00:00<?, ?it/s]"
          ],
          "name": "stderr"
        },
        {
          "output_type": "stream",
          "text": [
            "\n",
            "Test set: Average loss: 0.0480, Accuracy: 9912/10000 (99.12%)\n",
            "\n",
            "EPOCH: 12\n"
          ],
          "name": "stdout"
        },
        {
          "output_type": "stream",
          "text": [
            "Loss=1.5228986740112305e-05 Batch_id=937 Accuracy=99.94: 100%|██████████| 938/938 [00:16<00:00, 58.02it/s]\n",
            "  0%|          | 0/938 [00:00<?, ?it/s]"
          ],
          "name": "stderr"
        },
        {
          "output_type": "stream",
          "text": [
            "\n",
            "Test set: Average loss: 0.0283, Accuracy: 9939/10000 (99.39%)\n",
            "\n",
            "EPOCH: 13\n"
          ],
          "name": "stdout"
        },
        {
          "output_type": "stream",
          "text": [
            "Loss=3.606081008911133e-06 Batch_id=937 Accuracy=99.97: 100%|██████████| 938/938 [00:16<00:00, 58.40it/s]\n",
            "  0%|          | 0/938 [00:00<?, ?it/s]"
          ],
          "name": "stderr"
        },
        {
          "output_type": "stream",
          "text": [
            "\n",
            "Test set: Average loss: 0.0306, Accuracy: 9937/10000 (99.37%)\n",
            "\n",
            "EPOCH: 14\n"
          ],
          "name": "stdout"
        },
        {
          "output_type": "stream",
          "text": [
            "Loss=0.0021448135375976562 Batch_id=937 Accuracy=99.96: 100%|██████████| 938/938 [00:16<00:00, 58.17it/s]\n"
          ],
          "name": "stderr"
        },
        {
          "output_type": "stream",
          "text": [
            "\n",
            "Test set: Average loss: 0.0307, Accuracy: 9927/10000 (99.27%)\n",
            "\n"
          ],
          "name": "stdout"
        }
      ]
    },
    {
      "cell_type": "code",
      "metadata": {
        "id": "87RaqGSEOWDe",
        "colab_type": "code",
        "outputId": "28634a17-b1d4-4411-ba2a-a60a0017c9b1",
        "colab": {
          "base_uri": "https://localhost:8080/",
          "height": 624
        }
      },
      "source": [
        "fig, axs = plt.subplots(2,2,figsize=(15,10))\n",
        "axs[0, 0].plot(train_losses)\n",
        "axs[0, 0].set_title(\"Training Loss\")\n",
        "axs[1, 0].plot(train_acc)\n",
        "axs[1, 0].set_title(\"Training Accuracy\")\n",
        "axs[0, 1].plot(test_losses)\n",
        "axs[0, 1].set_title(\"Test Loss\")\n",
        "axs[1, 1].plot(test_acc)\n",
        "axs[1, 1].set_title(\"Test Accuracy\")"
      ],
      "execution_count": 0,
      "outputs": [
        {
          "output_type": "execute_result",
          "data": {
            "text/plain": [
              "Text(0.5, 1.0, 'Test Accuracy')"
            ]
          },
          "metadata": {
            "tags": []
          },
          "execution_count": 12
        },
        {
          "output_type": "display_data",
          "data": {
            "image/png": "[encoded data removed]",
            "text/plain": [
              "<Figure size 1080x720 with 4 Axes>"
            ]
          },
          "metadata": {
            "tags": []
          }
        }
      ]
    },
    {
      "cell_type": "code",
      "metadata": {
        "id": "odozjbIvY12p",
        "colab_type": "code",
        "colab": {}
      },
      "source": [
        ""
      ],
      "execution_count": 0,
      "outputs": []
    }
  ]
}