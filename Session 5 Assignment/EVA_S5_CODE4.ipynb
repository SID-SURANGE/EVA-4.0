{
  "nbformat": 4,
  "nbformat_minor": 0,
  "metadata": {
    "colab": {
      "name": "EVA S5 CODE4.ipynb",
      "provenance": []
    },
    "kernelspec": {
      "name": "python3",
      "display_name": "Python 3"
    },
    "accelerator": "GPU"
  },
  "cells": [
    {
      "cell_type": "markdown",
      "metadata": {
        "id": "TUtUSEF4GB1j",
        "colab_type": "text"
      },
      "source": [
        "<i><h2><b>Analysis of CODE4</b></h2>\n",
        "\n",
        "\n",
        "---\n",
        "\n",
        "**Target:**\n",
        "\n",
        "1.   Introduce **Batch Normalization** to increase model's efficiency and help it to converge faster.\n",
        "Also it provides some regularization.\n",
        "\n",
        "**Results:**\n",
        "\n",
        "1.   Parameters: 8898\n",
        "2.   Best Train Acc: 99.64(last epoch)\n",
        "3.   Best Test Acc: 99.24(last epoch) and 99.30(9th epoch)\n",
        "4.   Difference : More train accuracy\n",
        "5.   Epoch - 15\n",
        "\n",
        "**Analysis:**\n",
        "\n",
        "\n",
        "1.   Model stills ovrfits but it doesn't show this trend in overall training\n",
        "2.   Need to introduce dropout and learn more features."
      ]
    },
    {
      "cell_type": "markdown",
      "metadata": {
        "id": "7l6fSj_sr81f",
        "colab_type": "text"
      },
      "source": [
        "**Receptive Field Calculation**\n",
        "\n",
        "![image.png](data:image/png;base64,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)"
      ]
    },
    {
      "cell_type": "markdown",
      "metadata": {
        "id": "Ff97MHhy585m",
        "colab_type": "text"
      },
      "source": [
        "**IMPORTS**"
      ]
    },
    {
      "cell_type": "code",
      "metadata": {
        "id": "IbjR0NNq4CGQ",
        "colab_type": "code",
        "colab": {}
      },
      "source": [
        "from __future__ import print_function\n",
        "import torch\n",
        "import torch.nn as nn\n",
        "import torch.nn.functional as F\n",
        "import torch.optim as optim\n",
        "from torchvision import datasets, transforms\n",
        "import numpy as np"
      ],
      "execution_count": 0,
      "outputs": []
    },
    {
      "cell_type": "markdown",
      "metadata": {
        "id": "6ozd89IF6BSA",
        "colab_type": "text"
      },
      "source": [
        "**DEFINE TEST/TRAIN TRANSFORMATIONS**"
      ]
    },
    {
      "cell_type": "code",
      "metadata": {
        "id": "fZrDjgeu4OHp",
        "colab_type": "code",
        "colab": {}
      },
      "source": [
        "# Train Phase transformations\n",
        "train_transforms = transforms.Compose([\n",
        "                                       transforms.ToTensor(),\n",
        "                                       transforms.Normalize((0.1307,), (0.3081,)) # The mean and std have to be sequences (e.g., tuples), therefore you should add a comma after the values. \n",
        "                                       # Note the difference between (0.1307) and (0.1307,)\n",
        "                                       ])\n",
        "\n",
        "# Test Phase transformations\n",
        "test_transforms = transforms.Compose([\n",
        "                                       transforms.ToTensor(),\n",
        "                                       transforms.Normalize((0.1307,), (0.3081,))\n",
        "                                       ])\n"
      ],
      "execution_count": 0,
      "outputs": []
    },
    {
      "cell_type": "markdown",
      "metadata": {
        "id": "k9GUgjCf6I5P",
        "colab_type": "text"
      },
      "source": [
        "**LOAD MNIST DATA**"
      ]
    },
    {
      "cell_type": "code",
      "metadata": {
        "id": "fnWsraFz4k8N",
        "colab_type": "code",
        "colab": {}
      },
      "source": [
        "train = datasets.MNIST('./data', train=True, transform=train_transforms, download=True)\n",
        "test = datasets.MNIST('./data',train=False, transform=test_transforms, download=True)\n"
      ],
      "execution_count": 0,
      "outputs": []
    },
    {
      "cell_type": "markdown",
      "metadata": {
        "id": "F0eyGuTa55iD",
        "colab_type": "text"
      },
      "source": [
        "**DATA LOADERS**"
      ]
    },
    {
      "cell_type": "code",
      "metadata": {
        "id": "Stbxb7N55zJ5",
        "colab_type": "code",
        "outputId": "39dd355e-ecea-4fa9-dc31-2c56d87304e9",
        "colab": {
          "base_uri": "https://localhost:8080/",
          "height": 34
        }
      },
      "source": [
        "SEED = 1\n",
        "np.random.seed(42)\n",
        "torch.manual_seed(1)\n",
        "\n",
        "#check for cuda\n",
        "cuda = torch.cuda.is_available()\n",
        "print('cuda available', cuda)\n",
        "\n",
        "if cuda:\n",
        "  torch.cuda.manual_seed(1)\n",
        "\n",
        "#dataloader arguments\n",
        "dataloader_args = dict(shuffle=True, batch_size=64, num_workers=4, pin_memory=True) if cuda else dict(shuffle=True, batch_size=64)\n",
        "\n",
        "#train dataloader\n",
        "train_loader = torch.utils.data.DataLoader(train, **dataloader_args)\n",
        "\n",
        "#test dataloader\n",
        "test_loader = torch.utils.data.DataLoader(test, **dataloader_args)"
      ],
      "execution_count": 0,
      "outputs": [
        {
          "output_type": "stream",
          "text": [
            "cuda available True\n"
          ],
          "name": "stdout"
        }
      ]
    },
    {
      "cell_type": "markdown",
      "metadata": {
        "id": "zExuS7aOBLwC",
        "colab_type": "text"
      },
      "source": [
        "**Data Stats**"
      ]
    },
    {
      "cell_type": "code",
      "metadata": {
        "id": "EZwSgUio67QG",
        "colab_type": "code",
        "outputId": "a1a1fc88-3293-40fb-b8e2-2e1c73f35171",
        "colab": {
          "base_uri": "https://localhost:8080/",
          "height": 221
        }
      },
      "source": [
        "# We'd need to convert it into Numpy! Remember above we have converted it into tensors already\n",
        "train_data = train.train_data\n",
        "train_data = train.transform(train_data.numpy())\n",
        "\n",
        "print('[Train]')\n",
        "print(' - Numpy Shape:', train.train_data.cpu().numpy().shape)\n",
        "print(' - Tensor Shape:', train.train_data.size())\n",
        "print(' - min:', torch.min(train_data))\n",
        "print(' - max:', torch.max(train_data))\n",
        "print(' - mean:', torch.mean(train_data))\n",
        "print(' - std:', torch.std(train_data))\n",
        "print(' - var:', torch.var(train_data))\n",
        "\n",
        "dataiter = iter(train_loader)\n",
        "images, labels = dataiter.next()\n",
        "\n",
        "print(images.shape)\n",
        "print(labels.shape)"
      ],
      "execution_count": 0,
      "outputs": [
        {
          "output_type": "stream",
          "text": [
            "/usr/local/lib/python3.6/dist-packages/torchvision/datasets/mnist.py:55: UserWarning: train_data has been renamed data\n",
            "  warnings.warn(\"train_data has been renamed data\")\n"
          ],
          "name": "stderr"
        },
        {
          "output_type": "stream",
          "text": [
            "[Train]\n",
            " - Numpy Shape: (60000, 28, 28)\n",
            " - Tensor Shape: torch.Size([60000, 28, 28])\n",
            " - min: tensor(-0.4242)\n",
            " - max: tensor(2.8215)\n",
            " - mean: tensor(0.0009)\n",
            " - std: tensor(1.0000)\n",
            " - var: tensor(1.0001)\n",
            "torch.Size([64, 1, 28, 28])\n",
            "torch.Size([64])\n"
          ],
          "name": "stdout"
        }
      ]
    },
    {
      "cell_type": "markdown",
      "metadata": {
        "id": "0apyJwaOCF7Q",
        "colab_type": "text"
      },
      "source": [
        "**MODEL**"
      ]
    },
    {
      "cell_type": "code",
      "metadata": {
        "id": "tCLObrroBHpC",
        "colab_type": "code",
        "colab": {}
      },
      "source": [
        "class Net(nn.Module):\n",
        "     def __init__(self):\n",
        "       super(Net, self).__init__()\n",
        "       #Input block\n",
        "       self.convblock1 = nn.Sequential(\n",
        "            nn.Conv2d(in_channels=1, out_channels=10, kernel_size=(3, 3), padding=1, bias=False),\n",
        "            nn.ReLU(),\n",
        "            nn.BatchNorm2d(10)\n",
        "       ) # output_size = 28\n",
        "\n",
        "       #CONV BLOCK 1\n",
        "       self.convblock2 = nn.Sequential(\n",
        "            nn.Conv2d(in_channels=10, out_channels=12, kernel_size=(3, 3), padding=0, bias=False),\n",
        "            nn.ReLU(),\n",
        "            nn.BatchNorm2d(12)\n",
        "       ) # output_size = 26\n",
        "\n",
        "       self.convblock3 = nn.Sequential(\n",
        "            nn.Conv2d(in_channels=12, out_channels=14, kernel_size=(3,3), padding=0, bias=False),\n",
        "            nn.ReLU(),\n",
        "            nn.BatchNorm2d(14)\n",
        "       ) #output size = 24\n",
        "      \n",
        "       #TRANSITION BLOCK\n",
        "       self.pool1 = nn.MaxPool2d((2,2))  #out = 12\n",
        "       self.convblock4 = nn.Sequential(\n",
        "            nn.Conv2d(in_channels=14, out_channels=10, kernel_size=(1,1),padding=0, bias=False),\n",
        "            nn.ReLU(),\n",
        "            nn.BatchNorm2d(10)\n",
        "       ) #output = 12\n",
        "\n",
        "       #CONV BLOCK 2\n",
        "       self.convblock5 = nn.Sequential(\n",
        "            nn.Conv2d(in_channels=10, out_channels=12, kernel_size=(3, 3), padding=0, bias=False),\n",
        "            nn.ReLU(),\n",
        "            nn.BatchNorm2d(12)\n",
        "       ) # output_size = 10\n",
        "\n",
        "       self.convblock6 = nn.Sequential(\n",
        "            nn.Conv2d(in_channels=12, out_channels=16, kernel_size=(3,3), padding=1, bias=False),\n",
        "            nn.ReLU(),\n",
        "            nn.BatchNorm2d(16)\n",
        "       ) #out = 10\n",
        "\n",
        "       self.pool2 = nn.MaxPool2d((2,2)) #out = 5\n",
        "       self.convblock7 = nn.Sequential(\n",
        "            nn.Conv2d(in_channels=16, out_channels=20, kernel_size=(3,3), padding=0, bias=False),\n",
        "            nn.ReLU(),\n",
        "            nn.BatchNorm2d(20)\n",
        "       ) #out = 3\n",
        "\n",
        "       #OUTPUT BLOCK\n",
        "\n",
        "       self.convblock8 = nn.Sequential(\n",
        "            nn.Conv2d(in_channels=20, out_channels=10, kernel_size=(1,1), padding=0, bias=False),\n",
        "            nn.ReLU()\n",
        "       ) #out = 3\n",
        "\n",
        "       self.gap = nn.Sequential(\n",
        "            nn.AvgPool2d(kernel_size=3)\n",
        "        ) # output_size = 1\n",
        "\n",
        "\n",
        "     def forward(self, x):\n",
        "       x = self.convblock1(x)\n",
        "       x = self.convblock2(x)\n",
        "       x = self.convblock3(x)\n",
        "       x = self.pool1(x)\n",
        "       x = self.convblock4(x)\n",
        "       x = self.convblock5(x)\n",
        "       x = self.convblock6(x)\n",
        "       x = self.pool2(x)\n",
        "       x = self.convblock7(x)\n",
        "       x = self.convblock8(x)\n",
        "       x = self.gap(x)\n",
        "       x = x.view(-1, 10)\n",
        "       return F.log_softmax(x, dim=-1)"
      ],
      "execution_count": 0,
      "outputs": []
    },
    {
      "cell_type": "markdown",
      "metadata": {
        "id": "gzVKcRG6r4Wy",
        "colab_type": "text"
      },
      "source": [
        "![image.png](data:image/png;base64,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)"
      ]
    },
    {
      "cell_type": "code",
      "metadata": {
        "id": "MxBIa8DsBRw9",
        "colab_type": "code",
        "outputId": "9cbd5192-69f3-4c67-aa7b-66caf31d1ced",
        "colab": {
          "base_uri": "https://localhost:8080/",
          "height": 697
        }
      },
      "source": [
        "from torchsummary import summary\n",
        "use_cuda = torch.cuda.is_available()\n",
        "device = torch.device(\"cuda\" if use_cuda else \"cpu\")\n",
        "print(device)\n",
        "model = Net().to(device)\n",
        "summary(model, input_size=(1, 28, 28))"
      ],
      "execution_count": 0,
      "outputs": [
        {
          "output_type": "stream",
          "text": [
            "cuda\n",
            "----------------------------------------------------------------\n",
            "        Layer (type)               Output Shape         Param #\n",
            "================================================================\n",
            "            Conv2d-1           [-1, 10, 28, 28]              90\n",
            "              ReLU-2           [-1, 10, 28, 28]               0\n",
            "       BatchNorm2d-3           [-1, 10, 28, 28]              20\n",
            "            Conv2d-4           [-1, 12, 26, 26]           1,080\n",
            "              ReLU-5           [-1, 12, 26, 26]               0\n",
            "       BatchNorm2d-6           [-1, 12, 26, 26]              24\n",
            "            Conv2d-7           [-1, 14, 24, 24]           1,512\n",
            "              ReLU-8           [-1, 14, 24, 24]               0\n",
            "       BatchNorm2d-9           [-1, 14, 24, 24]              28\n",
            "        MaxPool2d-10           [-1, 14, 12, 12]               0\n",
            "           Conv2d-11           [-1, 10, 12, 12]             140\n",
            "             ReLU-12           [-1, 10, 12, 12]               0\n",
            "      BatchNorm2d-13           [-1, 10, 12, 12]              20\n",
            "           Conv2d-14           [-1, 12, 10, 10]           1,080\n",
            "             ReLU-15           [-1, 12, 10, 10]               0\n",
            "      BatchNorm2d-16           [-1, 12, 10, 10]              24\n",
            "           Conv2d-17           [-1, 16, 10, 10]           1,728\n",
            "             ReLU-18           [-1, 16, 10, 10]               0\n",
            "      BatchNorm2d-19           [-1, 16, 10, 10]              32\n",
            "        MaxPool2d-20             [-1, 16, 5, 5]               0\n",
            "           Conv2d-21             [-1, 20, 3, 3]           2,880\n",
            "             ReLU-22             [-1, 20, 3, 3]               0\n",
            "      BatchNorm2d-23             [-1, 20, 3, 3]              40\n",
            "           Conv2d-24             [-1, 10, 3, 3]             200\n",
            "             ReLU-25             [-1, 10, 3, 3]               0\n",
            "        AvgPool2d-26             [-1, 10, 1, 1]               0\n",
            "================================================================\n",
            "Total params: 8,898\n",
            "Trainable params: 8,898\n",
            "Non-trainable params: 0\n",
            "----------------------------------------------------------------\n",
            "Input size (MB): 0.00\n",
            "Forward/backward pass size (MB): 0.67\n",
            "Params size (MB): 0.03\n",
            "Estimated Total Size (MB): 0.71\n",
            "----------------------------------------------------------------\n"
          ],
          "name": "stdout"
        }
      ]
    },
    {
      "cell_type": "markdown",
      "metadata": {
        "id": "GD0R232QL1e5",
        "colab_type": "text"
      },
      "source": [
        "**Define Train/Test functions with loss and accuracy calculations**"
      ]
    },
    {
      "cell_type": "code",
      "metadata": {
        "id": "G3JJub4eBRrZ",
        "colab_type": "code",
        "colab": {}
      },
      "source": [
        "from tqdm import tqdm\n",
        "\n",
        "train_losses = []\n",
        "test_losses = []\n",
        "train_acc = []\n",
        "test_acc = []\n",
        "\n",
        "def train(model, device, train_loader, optimizer, epoch):\n",
        "  model.train()\n",
        "  pbar = tqdm(train_loader)\n",
        "  correct = 0\n",
        "  processed = 0\n",
        "  for batch_idx, (data, target) in enumerate(pbar):\n",
        "    # get samples\n",
        "    data, target = data.to(device), target.to(device)\n",
        "\n",
        "    # Init\n",
        "    optimizer.zero_grad()\n",
        "    # In PyTorch, we need to set the gradients to zero before starting to do backpropragation because PyTorch accumulates the gradients on subsequent backward passes. \n",
        "    # Because of this, when you start your training loop, ideally you should zero out the gradients so that you do the parameter update correctly.\n",
        "\n",
        "    # Predict\n",
        "    y_pred = model(data)\n",
        "\n",
        "    # Calculate loss\n",
        "    loss = F.nll_loss(y_pred, target)\n",
        "    train_losses.append(loss)\n",
        "\n",
        "    # Backpropagation\n",
        "    loss.backward()\n",
        "    optimizer.step()\n",
        "\n",
        "    # Update pbar-tqdm\n",
        "    \n",
        "    pred = y_pred.argmax(dim=1, keepdim=True)  # get the index of the max log-probability\n",
        "    correct += pred.eq(target.view_as(pred)).sum().item()\n",
        "    processed += len(data)\n",
        "\n",
        "    pbar.set_description(desc= f'Loss={loss.item()} Batch_id={batch_idx} Accuracy={100*correct/processed:0.2f}')\n",
        "    train_acc.append(100*correct/processed)\n",
        "\n",
        "def test(model, device, test_loader):\n",
        "    model.eval()\n",
        "    test_loss = 0\n",
        "    correct = 0\n",
        "    with torch.no_grad():\n",
        "        for data, target in test_loader:\n",
        "            data, target = data.to(device), target.to(device)\n",
        "            output = model(data)\n",
        "            test_loss += F.nll_loss(output, target, reduction='sum').item()  # sum up batch loss\n",
        "            pred = output.argmax(dim=1, keepdim=True)  # get the index of the max log-probability\n",
        "            correct += pred.eq(target.view_as(pred)).sum().item()\n",
        "\n",
        "    test_loss /= len(test_loader.dataset)\n",
        "    test_losses.append(test_loss)\n",
        "\n",
        "    print('\\nTest set: Average loss: {:.4f}, Accuracy: {}/{} ({:.2f}%)\\n'.format(\n",
        "        test_loss, correct, len(test_loader.dataset),\n",
        "        100. * correct / len(test_loader.dataset)))\n",
        "    \n",
        "    test_acc.append(100. * correct / len(test_loader.dataset))"
      ],
      "execution_count": 0,
      "outputs": []
    },
    {
      "cell_type": "markdown",
      "metadata": {
        "id": "JbZRq07iMGpq",
        "colab_type": "text"
      },
      "source": [
        "**Training the MODEL with validation accuracy check**"
      ]
    },
    {
      "cell_type": "code",
      "metadata": {
        "id": "s_UWvGKCBRmk",
        "colab_type": "code",
        "outputId": "afe7c04a-d445-4448-9549-9e4760be142d",
        "colab": {
          "base_uri": "https://localhost:8080/",
          "height": 1000
        }
      },
      "source": [
        "model =  Net().to(device)\n",
        "optimizer = optim.SGD(model.parameters(), lr=0.01, momentum=0.9)\n",
        "EPOCHS = 15\n",
        "for epoch in range(EPOCHS):\n",
        "    print(\"EPOCH:\", epoch)\n",
        "    train(model, device, train_loader, optimizer, epoch)\n",
        "    test(model, device, test_loader)"
      ],
      "execution_count": 0,
      "outputs": [
        {
          "output_type": "stream",
          "text": [
            "\r  0%|          | 0/938 [00:00<?, ?it/s]"
          ],
          "name": "stderr"
        },
        {
          "output_type": "stream",
          "text": [
            "EPOCH: 0\n"
          ],
          "name": "stdout"
        },
        {
          "output_type": "stream",
          "text": [
            "Loss=0.10296106338500977 Batch_id=937 Accuracy=93.28: 100%|██████████| 938/938 [00:16<00:00, 58.60it/s]\n",
            "  0%|          | 0/938 [00:00<?, ?it/s]"
          ],
          "name": "stderr"
        },
        {
          "output_type": "stream",
          "text": [
            "\n",
            "Test set: Average loss: 0.0653, Accuracy: 9824/10000 (98.24%)\n",
            "\n",
            "EPOCH: 1\n"
          ],
          "name": "stdout"
        },
        {
          "output_type": "stream",
          "text": [
            "Loss=0.04424627125263214 Batch_id=937 Accuracy=98.45: 100%|██████████| 938/938 [00:15<00:00, 59.99it/s]\n",
            "  0%|          | 0/938 [00:00<?, ?it/s]"
          ],
          "name": "stderr"
        },
        {
          "output_type": "stream",
          "text": [
            "\n",
            "Test set: Average loss: 0.0397, Accuracy: 9870/10000 (98.70%)\n",
            "\n",
            "EPOCH: 2\n"
          ],
          "name": "stdout"
        },
        {
          "output_type": "stream",
          "text": [
            "Loss=0.05481351912021637 Batch_id=937 Accuracy=98.83: 100%|██████████| 938/938 [00:15<00:00, 60.95it/s]\n",
            "  0%|          | 0/938 [00:00<?, ?it/s]"
          ],
          "name": "stderr"
        },
        {
          "output_type": "stream",
          "text": [
            "\n",
            "Test set: Average loss: 0.0358, Accuracy: 9890/10000 (98.90%)\n",
            "\n",
            "EPOCH: 3\n"
          ],
          "name": "stdout"
        },
        {
          "output_type": "stream",
          "text": [
            "Loss=0.026671454310417175 Batch_id=937 Accuracy=99.08: 100%|██████████| 938/938 [00:15<00:00, 59.88it/s]\n",
            "  0%|          | 0/938 [00:00<?, ?it/s]"
          ],
          "name": "stderr"
        },
        {
          "output_type": "stream",
          "text": [
            "\n",
            "Test set: Average loss: 0.0319, Accuracy: 9894/10000 (98.94%)\n",
            "\n",
            "EPOCH: 4\n"
          ],
          "name": "stdout"
        },
        {
          "output_type": "stream",
          "text": [
            "Loss=0.007939368486404419 Batch_id=937 Accuracy=99.16: 100%|██████████| 938/938 [00:15<00:00, 60.24it/s]\n",
            "  0%|          | 0/938 [00:00<?, ?it/s]"
          ],
          "name": "stderr"
        },
        {
          "output_type": "stream",
          "text": [
            "\n",
            "Test set: Average loss: 0.0282, Accuracy: 9912/10000 (99.12%)\n",
            "\n",
            "EPOCH: 5\n"
          ],
          "name": "stdout"
        },
        {
          "output_type": "stream",
          "text": [
            "Loss=0.03598162531852722 Batch_id=937 Accuracy=99.24: 100%|██████████| 938/938 [00:15<00:00, 59.44it/s]\n",
            "  0%|          | 0/938 [00:00<?, ?it/s]"
          ],
          "name": "stderr"
        },
        {
          "output_type": "stream",
          "text": [
            "\n",
            "Test set: Average loss: 0.0246, Accuracy: 9918/10000 (99.18%)\n",
            "\n",
            "EPOCH: 6\n"
          ],
          "name": "stdout"
        },
        {
          "output_type": "stream",
          "text": [
            "Loss=0.1344110071659088 Batch_id=937 Accuracy=99.27: 100%|██████████| 938/938 [00:15<00:00, 60.63it/s]\n",
            "  0%|          | 0/938 [00:00<?, ?it/s]"
          ],
          "name": "stderr"
        },
        {
          "output_type": "stream",
          "text": [
            "\n",
            "Test set: Average loss: 0.0247, Accuracy: 9918/10000 (99.18%)\n",
            "\n",
            "EPOCH: 7\n"
          ],
          "name": "stdout"
        },
        {
          "output_type": "stream",
          "text": [
            "Loss=0.10118021070957184 Batch_id=937 Accuracy=99.38: 100%|██████████| 938/938 [00:15<00:00, 58.82it/s]\n",
            "  0%|          | 0/938 [00:00<?, ?it/s]"
          ],
          "name": "stderr"
        },
        {
          "output_type": "stream",
          "text": [
            "\n",
            "Test set: Average loss: 0.0229, Accuracy: 9930/10000 (99.30%)\n",
            "\n",
            "EPOCH: 8\n"
          ],
          "name": "stdout"
        },
        {
          "output_type": "stream",
          "text": [
            "Loss=0.0005240142345428467 Batch_id=937 Accuracy=99.44: 100%|██████████| 938/938 [00:15<00:00, 58.71it/s]\n",
            "  0%|          | 0/938 [00:00<?, ?it/s]"
          ],
          "name": "stderr"
        },
        {
          "output_type": "stream",
          "text": [
            "\n",
            "Test set: Average loss: 0.0214, Accuracy: 9930/10000 (99.30%)\n",
            "\n",
            "EPOCH: 9\n"
          ],
          "name": "stdout"
        },
        {
          "output_type": "stream",
          "text": [
            "Loss=0.0036505162715911865 Batch_id=937 Accuracy=99.48: 100%|██████████| 938/938 [00:15<00:00, 60.66it/s]\n",
            "  0%|          | 0/938 [00:00<?, ?it/s]"
          ],
          "name": "stderr"
        },
        {
          "output_type": "stream",
          "text": [
            "\n",
            "Test set: Average loss: 0.0247, Accuracy: 9918/10000 (99.18%)\n",
            "\n",
            "EPOCH: 10\n"
          ],
          "name": "stdout"
        },
        {
          "output_type": "stream",
          "text": [
            "Loss=0.005080103874206543 Batch_id=937 Accuracy=99.50: 100%|██████████| 938/938 [00:15<00:00, 60.55it/s]\n",
            "  0%|          | 0/938 [00:00<?, ?it/s]"
          ],
          "name": "stderr"
        },
        {
          "output_type": "stream",
          "text": [
            "\n",
            "Test set: Average loss: 0.0259, Accuracy: 9914/10000 (99.14%)\n",
            "\n",
            "EPOCH: 11\n"
          ],
          "name": "stdout"
        },
        {
          "output_type": "stream",
          "text": [
            "Loss=0.0020564496517181396 Batch_id=937 Accuracy=99.54: 100%|██████████| 938/938 [00:15<00:00, 60.45it/s]\n",
            "  0%|          | 0/938 [00:00<?, ?it/s]"
          ],
          "name": "stderr"
        },
        {
          "output_type": "stream",
          "text": [
            "\n",
            "Test set: Average loss: 0.0232, Accuracy: 9921/10000 (99.21%)\n",
            "\n",
            "EPOCH: 12\n"
          ],
          "name": "stdout"
        },
        {
          "output_type": "stream",
          "text": [
            "Loss=0.00900280475616455 Batch_id=937 Accuracy=99.56: 100%|██████████| 938/938 [00:15<00:00, 59.04it/s]\n",
            "  0%|          | 0/938 [00:00<?, ?it/s]"
          ],
          "name": "stderr"
        },
        {
          "output_type": "stream",
          "text": [
            "\n",
            "Test set: Average loss: 0.0225, Accuracy: 9921/10000 (99.21%)\n",
            "\n",
            "EPOCH: 13\n"
          ],
          "name": "stdout"
        },
        {
          "output_type": "stream",
          "text": [
            "Loss=0.005192846059799194 Batch_id=937 Accuracy=99.63: 100%|██████████| 938/938 [00:15<00:00, 59.03it/s]\n",
            "  0%|          | 0/938 [00:00<?, ?it/s]"
          ],
          "name": "stderr"
        },
        {
          "output_type": "stream",
          "text": [
            "\n",
            "Test set: Average loss: 0.0245, Accuracy: 9916/10000 (99.16%)\n",
            "\n",
            "EPOCH: 14\n"
          ],
          "name": "stdout"
        },
        {
          "output_type": "stream",
          "text": [
            "Loss=0.0021023154258728027 Batch_id=937 Accuracy=99.64: 100%|██████████| 938/938 [00:15<00:00, 58.72it/s]\n"
          ],
          "name": "stderr"
        },
        {
          "output_type": "stream",
          "text": [
            "\n",
            "Test set: Average loss: 0.0265, Accuracy: 9924/10000 (99.24%)\n",
            "\n"
          ],
          "name": "stdout"
        }
      ]
    },
    {
      "cell_type": "code",
      "metadata": {
        "id": "Deu5dBoZBRkh",
        "colab_type": "code",
        "outputId": "3fafb145-aa71-432c-940b-0c8b049b13e0",
        "colab": {
          "base_uri": "https://localhost:8080/",
          "height": 624
        }
      },
      "source": [
        "import matplotlib.pyplot as plt\n",
        "\n",
        "fig, axs = plt.subplots(2,2,figsize=(15,10))\n",
        "axs[0, 0].plot(train_losses)\n",
        "axs[0, 0].set_title(\"Training Loss\")\n",
        "axs[1, 0].plot(train_acc)\n",
        "axs[1, 0].set_title(\"Training Accuracy\")\n",
        "axs[0, 1].plot(test_losses)\n",
        "axs[0, 1].set_title(\"Test Loss\")\n",
        "axs[1, 1].plot(test_acc)\n",
        "axs[1, 1].set_title(\"Test Accuracy\")"
      ],
      "execution_count": 0,
      "outputs": [
        {
          "output_type": "execute_result",
          "data": {
            "text/plain": [
              "Text(0.5, 1.0, 'Test Accuracy')"
            ]
          },
          "metadata": {
            "tags": []
          },
          "execution_count": 10
        },
        {
          "output_type": "display_data",
          "data": {
            "image/png": "[encoded data removed]",
            "text/plain": [
              "<Figure size 1080x720 with 4 Axes>"
            ]
          },
          "metadata": {
            "tags": []
          }
        }
      ]
    },
    {
      "cell_type": "code",
      "metadata": {
        "id": "lJO9rnvSBRiY",
        "colab_type": "code",
        "colab": {}
      },
      "source": [
        ""
      ],
      "execution_count": 0,
      "outputs": []
    },
    {
      "cell_type": "code",
      "metadata": {
        "id": "acaRSQ5EBRdn",
        "colab_type": "code",
        "colab": {}
      },
      "source": [
        ""
      ],
      "execution_count": 0,
      "outputs": []
    },
    {
      "cell_type": "code",
      "metadata": {
        "id": "tanCsUJrBRbR",
        "colab_type": "code",
        "colab": {}
      },
      "source": [
        ""
      ],
      "execution_count": 0,
      "outputs": []
    },
    {
      "cell_type": "code",
      "metadata": {
        "id": "iseRnQleBRUR",
        "colab_type": "code",
        "colab": {}
      },
      "source": [
        ""
      ],
      "execution_count": 0,
      "outputs": []
    },
    {
      "cell_type": "code",
      "metadata": {
        "id": "PPk3J9XKBRPS",
        "colab_type": "code",
        "colab": {}
      },
      "source": [
        ""
      ],
      "execution_count": 0,
      "outputs": []
    }
  ]
}