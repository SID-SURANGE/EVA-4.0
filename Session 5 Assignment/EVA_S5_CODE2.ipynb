{
  "nbformat": 4,
  "nbformat_minor": 0,
  "metadata": {
    "colab": {
      "name": "EVA S5 CODE2.ipynb",
      "provenance": []
    },
    "kernelspec": {
      "name": "python3",
      "display_name": "Python 3"
    },
    "accelerator": "GPU",
    "widgets": {
      "application/vnd.jupyter.widget-state+json": {
        "f2ea3fb1ba3041f2956176c85d80736a": {
          "model_module": "@jupyter-widgets/controls",
          "model_name": "HBoxModel",
          "state": {
            "_view_name": "HBoxView",
            "_dom_classes": [],
            "_model_name": "HBoxModel",
            "_view_module": "@jupyter-widgets/controls",
            "_model_module_version": "1.5.0",
            "_view_count": null,
            "_view_module_version": "1.5.0",
            "box_style": "",
            "layout": "IPY_MODEL_aaaed183103e48628810f5a48bf7bd4b",
            "_model_module": "@jupyter-widgets/controls",
            "children": [
              "IPY_MODEL_f22ba9c4b5914ff494f3e218a5f8d4da",
              "IPY_MODEL_13e62bd935d04aa3ab7b96c762fefc42"
            ]
          }
        },
        "aaaed183103e48628810f5a48bf7bd4b": {
          "model_module": "@jupyter-widgets/base",
          "model_name": "LayoutModel",
          "state": {
            "_view_name": "LayoutView",
            "grid_template_rows": null,
            "right": null,
            "justify_content": null,
            "_view_module": "@jupyter-widgets/base",
            "overflow": null,
            "_model_module_version": "1.2.0",
            "_view_count": null,
            "flex_flow": null,
            "width": null,
            "min_width": null,
            "border": null,
            "align_items": null,
            "bottom": null,
            "_model_module": "@jupyter-widgets/base",
            "top": null,
            "grid_column": null,
            "overflow_y": null,
            "overflow_x": null,
            "grid_auto_flow": null,
            "grid_area": null,
            "grid_template_columns": null,
            "flex": null,
            "_model_name": "LayoutModel",
            "justify_items": null,
            "grid_row": null,
            "max_height": null,
            "align_content": null,
            "visibility": null,
            "align_self": null,
            "height": null,
            "min_height": null,
            "padding": null,
            "grid_auto_rows": null,
            "grid_gap": null,
            "max_width": null,
            "order": null,
            "_view_module_version": "1.2.0",
            "grid_template_areas": null,
            "object_position": null,
            "object_fit": null,
            "grid_auto_columns": null,
            "margin": null,
            "display": null,
            "left": null
          }
        },
        "f22ba9c4b5914ff494f3e218a5f8d4da": {
          "model_module": "@jupyter-widgets/controls",
          "model_name": "IntProgressModel",
          "state": {
            "_view_name": "ProgressView",
            "style": "IPY_MODEL_1e4d4152b80e4b6a8747c3cacaebc732",
            "_dom_classes": [],
            "description": "",
            "_model_name": "IntProgressModel",
            "bar_style": "success",
            "max": 1,
            "_view_module": "@jupyter-widgets/controls",
            "_model_module_version": "1.5.0",
            "value": 1,
            "_view_count": null,
            "_view_module_version": "1.5.0",
            "orientation": "horizontal",
            "min": 0,
            "description_tooltip": null,
            "_model_module": "@jupyter-widgets/controls",
            "layout": "IPY_MODEL_a4344bafe8934cf7a298326a27bc8a99"
          }
        },
        "13e62bd935d04aa3ab7b96c762fefc42": {
          "model_module": "@jupyter-widgets/controls",
          "model_name": "HTMLModel",
          "state": {
            "_view_name": "HTMLView",
            "style": "IPY_MODEL_0f424bbbeb31409f85bfe767b1e5c669",
            "_dom_classes": [],
            "description": "",
            "_model_name": "HTMLModel",
            "placeholder": "​",
            "_view_module": "@jupyter-widgets/controls",
            "_model_module_version": "1.5.0",
            "value": "9920512it [00:00, 20298149.33it/s]",
            "_view_count": null,
            "_view_module_version": "1.5.0",
            "description_tooltip": null,
            "_model_module": "@jupyter-widgets/controls",
            "layout": "IPY_MODEL_45e5d3df6b3447179ed691ea715aaa5b"
          }
        },
        "1e4d4152b80e4b6a8747c3cacaebc732": {
          "model_module": "@jupyter-widgets/controls",
          "model_name": "ProgressStyleModel",
          "state": {
            "_view_name": "StyleView",
            "_model_name": "ProgressStyleModel",
            "description_width": "",
            "_view_module": "@jupyter-widgets/base",
            "_model_module_version": "1.5.0",
            "_view_count": null,
            "_view_module_version": "1.2.0",
            "bar_color": null,
            "_model_module": "@jupyter-widgets/controls"
          }
        },
        "a4344bafe8934cf7a298326a27bc8a99": {
          "model_module": "@jupyter-widgets/base",
          "model_name": "LayoutModel",
          "state": {
            "_view_name": "LayoutView",
            "grid_template_rows": null,
            "right": null,
            "justify_content": null,
            "_view_module": "@jupyter-widgets/base",
            "overflow": null,
            "_model_module_version": "1.2.0",
            "_view_count": null,
            "flex_flow": null,
            "width": null,
            "min_width": null,
            "border": null,
            "align_items": null,
            "bottom": null,
            "_model_module": "@jupyter-widgets/base",
            "top": null,
            "grid_column": null,
            "overflow_y": null,
            "overflow_x": null,
            "grid_auto_flow": null,
            "grid_area": null,
            "grid_template_columns": null,
            "flex": null,
            "_model_name": "LayoutModel",
            "justify_items": null,
            "grid_row": null,
            "max_height": null,
            "align_content": null,
            "visibility": null,
            "align_self": null,
            "height": null,
            "min_height": null,
            "padding": null,
            "grid_auto_rows": null,
            "grid_gap": null,
            "max_width": null,
            "order": null,
            "_view_module_version": "1.2.0",
            "grid_template_areas": null,
            "object_position": null,
            "object_fit": null,
            "grid_auto_columns": null,
            "margin": null,
            "display": null,
            "left": null
          }
        },
        "0f424bbbeb31409f85bfe767b1e5c669": {
          "model_module": "@jupyter-widgets/controls",
          "model_name": "DescriptionStyleModel",
          "state": {
            "_view_name": "StyleView",
            "_model_name": "DescriptionStyleModel",
            "description_width": "",
            "_view_module": "@jupyter-widgets/base",
            "_model_module_version": "1.5.0",
            "_view_count": null,
            "_view_module_version": "1.2.0",
            "_model_module": "@jupyter-widgets/controls"
          }
        },
        "45e5d3df6b3447179ed691ea715aaa5b": {
          "model_module": "@jupyter-widgets/base",
          "model_name": "LayoutModel",
          "state": {
            "_view_name": "LayoutView",
            "grid_template_rows": null,
            "right": null,
            "justify_content": null,
            "_view_module": "@jupyter-widgets/base",
            "overflow": null,
            "_model_module_version": "1.2.0",
            "_view_count": null,
            "flex_flow": null,
            "width": null,
            "min_width": null,
            "border": null,
            "align_items": null,
            "bottom": null,
            "_model_module": "@jupyter-widgets/base",
            "top": null,
            "grid_column": null,
            "overflow_y": null,
            "overflow_x": null,
            "grid_auto_flow": null,
            "grid_area": null,
            "grid_template_columns": null,
            "flex": null,
            "_model_name": "LayoutModel",
            "justify_items": null,
            "grid_row": null,
            "max_height": null,
            "align_content": null,
            "visibility": null,
            "align_self": null,
            "height": null,
            "min_height": null,
            "padding": null,
            "grid_auto_rows": null,
            "grid_gap": null,
            "max_width": null,
            "order": null,
            "_view_module_version": "1.2.0",
            "grid_template_areas": null,
            "object_position": null,
            "object_fit": null,
            "grid_auto_columns": null,
            "margin": null,
            "display": null,
            "left": null
          }
        },
        "928ec6f3097644a6b6591ab8e704b4d9": {
          "model_module": "@jupyter-widgets/controls",
          "model_name": "HBoxModel",
          "state": {
            "_view_name": "HBoxView",
            "_dom_classes": [],
            "_model_name": "HBoxModel",
            "_view_module": "@jupyter-widgets/controls",
            "_model_module_version": "1.5.0",
            "_view_count": null,
            "_view_module_version": "1.5.0",
            "box_style": "",
            "layout": "IPY_MODEL_404218d4228c4f828859e2d347d12987",
            "_model_module": "@jupyter-widgets/controls",
            "children": [
              "IPY_MODEL_c033bff81d334a9a93e139282e1b7f51",
              "IPY_MODEL_7a92d8d157c64e17b4645f77d38839dc"
            ]
          }
        },
        "404218d4228c4f828859e2d347d12987": {
          "model_module": "@jupyter-widgets/base",
          "model_name": "LayoutModel",
          "state": {
            "_view_name": "LayoutView",
            "grid_template_rows": null,
            "right": null,
            "justify_content": null,
            "_view_module": "@jupyter-widgets/base",
            "overflow": null,
            "_model_module_version": "1.2.0",
            "_view_count": null,
            "flex_flow": null,
            "width": null,
            "min_width": null,
            "border": null,
            "align_items": null,
            "bottom": null,
            "_model_module": "@jupyter-widgets/base",
            "top": null,
            "grid_column": null,
            "overflow_y": null,
            "overflow_x": null,
            "grid_auto_flow": null,
            "grid_area": null,
            "grid_template_columns": null,
            "flex": null,
            "_model_name": "LayoutModel",
            "justify_items": null,
            "grid_row": null,
            "max_height": null,
            "align_content": null,
            "visibility": null,
            "align_self": null,
            "height": null,
            "min_height": null,
            "padding": null,
            "grid_auto_rows": null,
            "grid_gap": null,
            "max_width": null,
            "order": null,
            "_view_module_version": "1.2.0",
            "grid_template_areas": null,
            "object_position": null,
            "object_fit": null,
            "grid_auto_columns": null,
            "margin": null,
            "display": null,
            "left": null
          }
        },
        "c033bff81d334a9a93e139282e1b7f51": {
          "model_module": "@jupyter-widgets/controls",
          "model_name": "IntProgressModel",
          "state": {
            "_view_name": "ProgressView",
            "style": "IPY_MODEL_dceea4f12daa47f582fb1dbaabecbb14",
            "_dom_classes": [],
            "description": "",
            "_model_name": "IntProgressModel",
            "bar_style": "success",
            "max": 1,
            "_view_module": "@jupyter-widgets/controls",
            "_model_module_version": "1.5.0",
            "value": 1,
            "_view_count": null,
            "_view_module_version": "1.5.0",
            "orientation": "horizontal",
            "min": 0,
            "description_tooltip": null,
            "_model_module": "@jupyter-widgets/controls",
            "layout": "IPY_MODEL_74d996b9f4dd406e8b7be1fb214b3b84"
          }
        },
        "7a92d8d157c64e17b4645f77d38839dc": {
          "model_module": "@jupyter-widgets/controls",
          "model_name": "HTMLModel",
          "state": {
            "_view_name": "HTMLView",
            "style": "IPY_MODEL_283305db6d8b4918b28749467f06d440",
            "_dom_classes": [],
            "description": "",
            "_model_name": "HTMLModel",
            "placeholder": "​",
            "_view_module": "@jupyter-widgets/controls",
            "_model_module_version": "1.5.0",
            "value": "32768it [00:00, 191257.20it/s]",
            "_view_count": null,
            "_view_module_version": "1.5.0",
            "description_tooltip": null,
            "_model_module": "@jupyter-widgets/controls",
            "layout": "IPY_MODEL_ea4aa237edb0447bae6796858051322a"
          }
        },
        "dceea4f12daa47f582fb1dbaabecbb14": {
          "model_module": "@jupyter-widgets/controls",
          "model_name": "ProgressStyleModel",
          "state": {
            "_view_name": "StyleView",
            "_model_name": "ProgressStyleModel",
            "description_width": "",
            "_view_module": "@jupyter-widgets/base",
            "_model_module_version": "1.5.0",
            "_view_count": null,
            "_view_module_version": "1.2.0",
            "bar_color": null,
            "_model_module": "@jupyter-widgets/controls"
          }
        },
        "74d996b9f4dd406e8b7be1fb214b3b84": {
          "model_module": "@jupyter-widgets/base",
          "model_name": "LayoutModel",
          "state": {
            "_view_name": "LayoutView",
            "grid_template_rows": null,
            "right": null,
            "justify_content": null,
            "_view_module": "@jupyter-widgets/base",
            "overflow": null,
            "_model_module_version": "1.2.0",
            "_view_count": null,
            "flex_flow": null,
            "width": null,
            "min_width": null,
            "border": null,
            "align_items": null,
            "bottom": null,
            "_model_module": "@jupyter-widgets/base",
            "top": null,
            "grid_column": null,
            "overflow_y": null,
            "overflow_x": null,
            "grid_auto_flow": null,
            "grid_area": null,
            "grid_template_columns": null,
            "flex": null,
            "_model_name": "LayoutModel",
            "justify_items": null,
            "grid_row": null,
            "max_height": null,
            "align_content": null,
            "visibility": null,
            "align_self": null,
            "height": null,
            "min_height": null,
            "padding": null,
            "grid_auto_rows": null,
            "grid_gap": null,
            "max_width": null,
            "order": null,
            "_view_module_version": "1.2.0",
            "grid_template_areas": null,
            "object_position": null,
            "object_fit": null,
            "grid_auto_columns": null,
            "margin": null,
            "display": null,
            "left": null
          }
        },
        "283305db6d8b4918b28749467f06d440": {
          "model_module": "@jupyter-widgets/controls",
          "model_name": "DescriptionStyleModel",
          "state": {
            "_view_name": "StyleView",
            "_model_name": "DescriptionStyleModel",
            "description_width": "",
            "_view_module": "@jupyter-widgets/base",
            "_model_module_version": "1.5.0",
            "_view_count": null,
            "_view_module_version": "1.2.0",
            "_model_module": "@jupyter-widgets/controls"
          }
        },
        "ea4aa237edb0447bae6796858051322a": {
          "model_module": "@jupyter-widgets/base",
          "model_name": "LayoutModel",
          "state": {
            "_view_name": "LayoutView",
            "grid_template_rows": null,
            "right": null,
            "justify_content": null,
            "_view_module": "@jupyter-widgets/base",
            "overflow": null,
            "_model_module_version": "1.2.0",
            "_view_count": null,
            "flex_flow": null,
            "width": null,
            "min_width": null,
            "border": null,
            "align_items": null,
            "bottom": null,
            "_model_module": "@jupyter-widgets/base",
            "top": null,
            "grid_column": null,
            "overflow_y": null,
            "overflow_x": null,
            "grid_auto_flow": null,
            "grid_area": null,
            "grid_template_columns": null,
            "flex": null,
            "_model_name": "LayoutModel",
            "justify_items": null,
            "grid_row": null,
            "max_height": null,
            "align_content": null,
            "visibility": null,
            "align_self": null,
            "height": null,
            "min_height": null,
            "padding": null,
            "grid_auto_rows": null,
            "grid_gap": null,
            "max_width": null,
            "order": null,
            "_view_module_version": "1.2.0",
            "grid_template_areas": null,
            "object_position": null,
            "object_fit": null,
            "grid_auto_columns": null,
            "margin": null,
            "display": null,
            "left": null
          }
        },
        "80a80b5a44de4157b132f9ead2955629": {
          "model_module": "@jupyter-widgets/controls",
          "model_name": "HBoxModel",
          "state": {
            "_view_name": "HBoxView",
            "_dom_classes": [],
            "_model_name": "HBoxModel",
            "_view_module": "@jupyter-widgets/controls",
            "_model_module_version": "1.5.0",
            "_view_count": null,
            "_view_module_version": "1.5.0",
            "box_style": "",
            "layout": "IPY_MODEL_0e603689f2484c91acb9a9ea155e475d",
            "_model_module": "@jupyter-widgets/controls",
            "children": [
              "IPY_MODEL_3ea043e79d304b9fb72ad3c02258e09c",
              "IPY_MODEL_5e94a629d5484a44b4b22ca97a5a4635"
            ]
          }
        },
        "0e603689f2484c91acb9a9ea155e475d": {
          "model_module": "@jupyter-widgets/base",
          "model_name": "LayoutModel",
          "state": {
            "_view_name": "LayoutView",
            "grid_template_rows": null,
            "right": null,
            "justify_content": null,
            "_view_module": "@jupyter-widgets/base",
            "overflow": null,
            "_model_module_version": "1.2.0",
            "_view_count": null,
            "flex_flow": null,
            "width": null,
            "min_width": null,
            "border": null,
            "align_items": null,
            "bottom": null,
            "_model_module": "@jupyter-widgets/base",
            "top": null,
            "grid_column": null,
            "overflow_y": null,
            "overflow_x": null,
            "grid_auto_flow": null,
            "grid_area": null,
            "grid_template_columns": null,
            "flex": null,
            "_model_name": "LayoutModel",
            "justify_items": null,
            "grid_row": null,
            "max_height": null,
            "align_content": null,
            "visibility": null,
            "align_self": null,
            "height": null,
            "min_height": null,
            "padding": null,
            "grid_auto_rows": null,
            "grid_gap": null,
            "max_width": null,
            "order": null,
            "_view_module_version": "1.2.0",
            "grid_template_areas": null,
            "object_position": null,
            "object_fit": null,
            "grid_auto_columns": null,
            "margin": null,
            "display": null,
            "left": null
          }
        },
        "3ea043e79d304b9fb72ad3c02258e09c": {
          "model_module": "@jupyter-widgets/controls",
          "model_name": "IntProgressModel",
          "state": {
            "_view_name": "ProgressView",
            "style": "IPY_MODEL_ded22bad8427456bbd69d28cd779fd87",
            "_dom_classes": [],
            "description": "",
            "_model_name": "IntProgressModel",
            "bar_style": "success",
            "max": 1,
            "_view_module": "@jupyter-widgets/controls",
            "_model_module_version": "1.5.0",
            "value": 1,
            "_view_count": null,
            "_view_module_version": "1.5.0",
            "orientation": "horizontal",
            "min": 0,
            "description_tooltip": null,
            "_model_module": "@jupyter-widgets/controls",
            "layout": "IPY_MODEL_6d80e09f113040159f02293780472b24"
          }
        },
        "5e94a629d5484a44b4b22ca97a5a4635": {
          "model_module": "@jupyter-widgets/controls",
          "model_name": "HTMLModel",
          "state": {
            "_view_name": "HTMLView",
            "style": "IPY_MODEL_25c76797e71a459890bec84113df354a",
            "_dom_classes": [],
            "description": "",
            "_model_name": "HTMLModel",
            "placeholder": "​",
            "_view_module": "@jupyter-widgets/controls",
            "_model_module_version": "1.5.0",
            "value": "1654784it [00:00, 4835936.86it/s]",
            "_view_count": null,
            "_view_module_version": "1.5.0",
            "description_tooltip": null,
            "_model_module": "@jupyter-widgets/controls",
            "layout": "IPY_MODEL_30831c91732945c1980f63cf059b27aa"
          }
        },
        "ded22bad8427456bbd69d28cd779fd87": {
          "model_module": "@jupyter-widgets/controls",
          "model_name": "ProgressStyleModel",
          "state": {
            "_view_name": "StyleView",
            "_model_name": "ProgressStyleModel",
            "description_width": "",
            "_view_module": "@jupyter-widgets/base",
            "_model_module_version": "1.5.0",
            "_view_count": null,
            "_view_module_version": "1.2.0",
            "bar_color": null,
            "_model_module": "@jupyter-widgets/controls"
          }
        },
        "6d80e09f113040159f02293780472b24": {
          "model_module": "@jupyter-widgets/base",
          "model_name": "LayoutModel",
          "state": {
            "_view_name": "LayoutView",
            "grid_template_rows": null,
            "right": null,
            "justify_content": null,
            "_view_module": "@jupyter-widgets/base",
            "overflow": null,
            "_model_module_version": "1.2.0",
            "_view_count": null,
            "flex_flow": null,
            "width": null,
            "min_width": null,
            "border": null,
            "align_items": null,
            "bottom": null,
            "_model_module": "@jupyter-widgets/base",
            "top": null,
            "grid_column": null,
            "overflow_y": null,
            "overflow_x": null,
            "grid_auto_flow": null,
            "grid_area": null,
            "grid_template_columns": null,
            "flex": null,
            "_model_name": "LayoutModel",
            "justify_items": null,
            "grid_row": null,
            "max_height": null,
            "align_content": null,
            "visibility": null,
            "align_self": null,
            "height": null,
            "min_height": null,
            "padding": null,
            "grid_auto_rows": null,
            "grid_gap": null,
            "max_width": null,
            "order": null,
            "_view_module_version": "1.2.0",
            "grid_template_areas": null,
            "object_position": null,
            "object_fit": null,
            "grid_auto_columns": null,
            "margin": null,
            "display": null,
            "left": null
          }
        },
        "25c76797e71a459890bec84113df354a": {
          "model_module": "@jupyter-widgets/controls",
          "model_name": "DescriptionStyleModel",
          "state": {
            "_view_name": "StyleView",
            "_model_name": "DescriptionStyleModel",
            "description_width": "",
            "_view_module": "@jupyter-widgets/base",
            "_model_module_version": "1.5.0",
            "_view_count": null,
            "_view_module_version": "1.2.0",
            "_model_module": "@jupyter-widgets/controls"
          }
        },
        "30831c91732945c1980f63cf059b27aa": {
          "model_module": "@jupyter-widgets/base",
          "model_name": "LayoutModel",
          "state": {
            "_view_name": "LayoutView",
            "grid_template_rows": null,
            "right": null,
            "justify_content": null,
            "_view_module": "@jupyter-widgets/base",
            "overflow": null,
            "_model_module_version": "1.2.0",
            "_view_count": null,
            "flex_flow": null,
            "width": null,
            "min_width": null,
            "border": null,
            "align_items": null,
            "bottom": null,
            "_model_module": "@jupyter-widgets/base",
            "top": null,
            "grid_column": null,
            "overflow_y": null,
            "overflow_x": null,
            "grid_auto_flow": null,
            "grid_area": null,
            "grid_template_columns": null,
            "flex": null,
            "_model_name": "LayoutModel",
            "justify_items": null,
            "grid_row": null,
            "max_height": null,
            "align_content": null,
            "visibility": null,
            "align_self": null,
            "height": null,
            "min_height": null,
            "padding": null,
            "grid_auto_rows": null,
            "grid_gap": null,
            "max_width": null,
            "order": null,
            "_view_module_version": "1.2.0",
            "grid_template_areas": null,
            "object_position": null,
            "object_fit": null,
            "grid_auto_columns": null,
            "margin": null,
            "display": null,
            "left": null
          }
        },
        "3843bd9eb5fb4838832389202ad8e408": {
          "model_module": "@jupyter-widgets/controls",
          "model_name": "HBoxModel",
          "state": {
            "_view_name": "HBoxView",
            "_dom_classes": [],
            "_model_name": "HBoxModel",
            "_view_module": "@jupyter-widgets/controls",
            "_model_module_version": "1.5.0",
            "_view_count": null,
            "_view_module_version": "1.5.0",
            "box_style": "",
            "layout": "IPY_MODEL_dccf4c16515b4d0fbcf74ddb652a1d58",
            "_model_module": "@jupyter-widgets/controls",
            "children": [
              "IPY_MODEL_96433c6c376749e980024201eec2a8b2",
              "IPY_MODEL_dd8fb3c4566e4151919539d5f886a55e"
            ]
          }
        },
        "dccf4c16515b4d0fbcf74ddb652a1d58": {
          "model_module": "@jupyter-widgets/base",
          "model_name": "LayoutModel",
          "state": {
            "_view_name": "LayoutView",
            "grid_template_rows": null,
            "right": null,
            "justify_content": null,
            "_view_module": "@jupyter-widgets/base",
            "overflow": null,
            "_model_module_version": "1.2.0",
            "_view_count": null,
            "flex_flow": null,
            "width": null,
            "min_width": null,
            "border": null,
            "align_items": null,
            "bottom": null,
            "_model_module": "@jupyter-widgets/base",
            "top": null,
            "grid_column": null,
            "overflow_y": null,
            "overflow_x": null,
            "grid_auto_flow": null,
            "grid_area": null,
            "grid_template_columns": null,
            "flex": null,
            "_model_name": "LayoutModel",
            "justify_items": null,
            "grid_row": null,
            "max_height": null,
            "align_content": null,
            "visibility": null,
            "align_self": null,
            "height": null,
            "min_height": null,
            "padding": null,
            "grid_auto_rows": null,
            "grid_gap": null,
            "max_width": null,
            "order": null,
            "_view_module_version": "1.2.0",
            "grid_template_areas": null,
            "object_position": null,
            "object_fit": null,
            "grid_auto_columns": null,
            "margin": null,
            "display": null,
            "left": null
          }
        },
        "96433c6c376749e980024201eec2a8b2": {
          "model_module": "@jupyter-widgets/controls",
          "model_name": "IntProgressModel",
          "state": {
            "_view_name": "ProgressView",
            "style": "IPY_MODEL_cffc205104b94188b47ae3bbaf230cef",
            "_dom_classes": [],
            "description": "",
            "_model_name": "IntProgressModel",
            "bar_style": "success",
            "max": 1,
            "_view_module": "@jupyter-widgets/controls",
            "_model_module_version": "1.5.0",
            "value": 1,
            "_view_count": null,
            "_view_module_version": "1.5.0",
            "orientation": "horizontal",
            "min": 0,
            "description_tooltip": null,
            "_model_module": "@jupyter-widgets/controls",
            "layout": "IPY_MODEL_6897de3efd2d4e4d9898684742b96a51"
          }
        },
        "dd8fb3c4566e4151919539d5f886a55e": {
          "model_module": "@jupyter-widgets/controls",
          "model_name": "HTMLModel",
          "state": {
            "_view_name": "HTMLView",
            "style": "IPY_MODEL_f9f928aabff344228070f038ef306ccb",
            "_dom_classes": [],
            "description": "",
            "_model_name": "HTMLModel",
            "placeholder": "​",
            "_view_module": "@jupyter-widgets/controls",
            "_model_module_version": "1.5.0",
            "value": "8192it [00:00, 60101.31it/s]",
            "_view_count": null,
            "_view_module_version": "1.5.0",
            "description_tooltip": null,
            "_model_module": "@jupyter-widgets/controls",
            "layout": "IPY_MODEL_5d09ae2391334115a7697777b1c8abb2"
          }
        },
        "cffc205104b94188b47ae3bbaf230cef": {
          "model_module": "@jupyter-widgets/controls",
          "model_name": "ProgressStyleModel",
          "state": {
            "_view_name": "StyleView",
            "_model_name": "ProgressStyleModel",
            "description_width": "",
            "_view_module": "@jupyter-widgets/base",
            "_model_module_version": "1.5.0",
            "_view_count": null,
            "_view_module_version": "1.2.0",
            "bar_color": null,
            "_model_module": "@jupyter-widgets/controls"
          }
        },
        "6897de3efd2d4e4d9898684742b96a51": {
          "model_module": "@jupyter-widgets/base",
          "model_name": "LayoutModel",
          "state": {
            "_view_name": "LayoutView",
            "grid_template_rows": null,
            "right": null,
            "justify_content": null,
            "_view_module": "@jupyter-widgets/base",
            "overflow": null,
            "_model_module_version": "1.2.0",
            "_view_count": null,
            "flex_flow": null,
            "width": null,
            "min_width": null,
            "border": null,
            "align_items": null,
            "bottom": null,
            "_model_module": "@jupyter-widgets/base",
            "top": null,
            "grid_column": null,
            "overflow_y": null,
            "overflow_x": null,
            "grid_auto_flow": null,
            "grid_area": null,
            "grid_template_columns": null,
            "flex": null,
            "_model_name": "LayoutModel",
            "justify_items": null,
            "grid_row": null,
            "max_height": null,
            "align_content": null,
            "visibility": null,
            "align_self": null,
            "height": null,
            "min_height": null,
            "padding": null,
            "grid_auto_rows": null,
            "grid_gap": null,
            "max_width": null,
            "order": null,
            "_view_module_version": "1.2.0",
            "grid_template_areas": null,
            "object_position": null,
            "object_fit": null,
            "grid_auto_columns": null,
            "margin": null,
            "display": null,
            "left": null
          }
        },
        "f9f928aabff344228070f038ef306ccb": {
          "model_module": "@jupyter-widgets/controls",
          "model_name": "DescriptionStyleModel",
          "state": {
            "_view_name": "StyleView",
            "_model_name": "DescriptionStyleModel",
            "description_width": "",
            "_view_module": "@jupyter-widgets/base",
            "_model_module_version": "1.5.0",
            "_view_count": null,
            "_view_module_version": "1.2.0",
            "_model_module": "@jupyter-widgets/controls"
          }
        },
        "5d09ae2391334115a7697777b1c8abb2": {
          "model_module": "@jupyter-widgets/base",
          "model_name": "LayoutModel",
          "state": {
            "_view_name": "LayoutView",
            "grid_template_rows": null,
            "right": null,
            "justify_content": null,
            "_view_module": "@jupyter-widgets/base",
            "overflow": null,
            "_model_module_version": "1.2.0",
            "_view_count": null,
            "flex_flow": null,
            "width": null,
            "min_width": null,
            "border": null,
            "align_items": null,
            "bottom": null,
            "_model_module": "@jupyter-widgets/base",
            "top": null,
            "grid_column": null,
            "overflow_y": null,
            "overflow_x": null,
            "grid_auto_flow": null,
            "grid_area": null,
            "grid_template_columns": null,
            "flex": null,
            "_model_name": "LayoutModel",
            "justify_items": null,
            "grid_row": null,
            "max_height": null,
            "align_content": null,
            "visibility": null,
            "align_self": null,
            "height": null,
            "min_height": null,
            "padding": null,
            "grid_auto_rows": null,
            "grid_gap": null,
            "max_width": null,
            "order": null,
            "_view_module_version": "1.2.0",
            "grid_template_areas": null,
            "object_position": null,
            "object_fit": null,
            "grid_auto_columns": null,
            "margin": null,
            "display": null,
            "left": null
          }
        }
      }
    }
  },
  "cells": [
    {
      "cell_type": "markdown",
      "metadata": {
        "id": "TUtUSEF4GB1j",
        "colab_type": "text"
      },
      "source": [
        "<h1><i><b>Analysis of CODE2</b></i></h3>\n",
        "<i>\n",
        "\n",
        "---\n",
        "\n",
        "**Target:**\n",
        "1.   **Restructuring the architecture** with Conv block and transition blocks.\n",
        "2.   Make model bit light on trainable parameters as the data is MNIST which is very small.\n",
        "\n",
        "\n",
        "**Results:**\n",
        "1.   Parameters: 54416\n",
        "2.   Best Train Acc: 99.46\n",
        "3.   Best Test Acc: 98.99\n",
        "4.   Difference : 0.47\n",
        "5.   Epoch - 15\n",
        "\n",
        "\n",
        "**Analysis:**\n",
        "1.   Model still overfits with huge gap. Need to introduce regularization.\n",
        "2.   The model is less complex with reduction in kernel values.\n",
        "3.   After reducing the intermediate kernel values, model still is performing good.\n",
        "\n",
        "\n",
        "---\n",
        "\n"
      ]
    },
    {
      "cell_type": "markdown",
      "metadata": {
        "id": "P-ks6SgHoQf6",
        "colab_type": "text"
      },
      "source": [
        "**RECEPTIVE FIELD Calculation**\n",
        "\n",
        "\n",
        "```\n",
        "![image.png](data:image/png;base64,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)"
      ]
    },
    {
      "cell_type": "markdown",
      "metadata": {
        "id": "Ff97MHhy585m",
        "colab_type": "text"
      },
      "source": [
        "**IMPORTS**"
      ]
    },
    {
      "cell_type": "code",
      "metadata": {
        "id": "IbjR0NNq4CGQ",
        "colab_type": "code",
        "colab": {}
      },
      "source": [
        "from __future__ import print_function\n",
        "import torch\n",
        "import torch.nn as nn\n",
        "import torch.nn.functional as F\n",
        "import torch.optim as optim\n",
        "from torchvision import datasets, transforms\n",
        "import numpy as np"
      ],
      "execution_count": 0,
      "outputs": []
    },
    {
      "cell_type": "markdown",
      "metadata": {
        "id": "6ozd89IF6BSA",
        "colab_type": "text"
      },
      "source": [
        "**DEFINE TEST/TRAIN TRANSFORMATIONS**"
      ]
    },
    {
      "cell_type": "code",
      "metadata": {
        "id": "fZrDjgeu4OHp",
        "colab_type": "code",
        "colab": {}
      },
      "source": [
        "# Train Phase transformations\n",
        "train_transforms = transforms.Compose([\n",
        "                                       transforms.ToTensor(),\n",
        "                                       transforms.Normalize((0.1307,), (0.3081,)) # The mean and std have to be sequences (e.g., tuples), therefore you should add a comma after the values. \n",
        "                                       # Note the difference between (0.1307) and (0.1307,)\n",
        "                                       ])\n",
        "\n",
        "# Test Phase transformations\n",
        "test_transforms = transforms.Compose([\n",
        "                                       transforms.ToTensor(),\n",
        "                                       transforms.Normalize((0.1307,), (0.3081,))\n",
        "                                       ])\n"
      ],
      "execution_count": 0,
      "outputs": []
    },
    {
      "cell_type": "markdown",
      "metadata": {
        "id": "k9GUgjCf6I5P",
        "colab_type": "text"
      },
      "source": [
        "**LOAD MNIST DATA**"
      ]
    },
    {
      "cell_type": "code",
      "metadata": {
        "id": "fnWsraFz4k8N",
        "colab_type": "code",
        "outputId": "70279bc4-6943-43b9-aeb7-acd2e9549d3d",
        "colab": {
          "base_uri": "https://localhost:8080/",
          "height": 383,
          "referenced_widgets": [
            "f2ea3fb1ba3041f2956176c85d80736a",
            "aaaed183103e48628810f5a48bf7bd4b",
            "f22ba9c4b5914ff494f3e218a5f8d4da",
            "13e62bd935d04aa3ab7b96c762fefc42",
            "1e4d4152b80e4b6a8747c3cacaebc732",
            "a4344bafe8934cf7a298326a27bc8a99",
            "0f424bbbeb31409f85bfe767b1e5c669",
            "45e5d3df6b3447179ed691ea715aaa5b",
            "928ec6f3097644a6b6591ab8e704b4d9",
            "404218d4228c4f828859e2d347d12987",
            "c033bff81d334a9a93e139282e1b7f51",
            "7a92d8d157c64e17b4645f77d38839dc",
            "dceea4f12daa47f582fb1dbaabecbb14",
            "74d996b9f4dd406e8b7be1fb214b3b84",
            "283305db6d8b4918b28749467f06d440",
            "ea4aa237edb0447bae6796858051322a",
            "80a80b5a44de4157b132f9ead2955629",
            "0e603689f2484c91acb9a9ea155e475d",
            "3ea043e79d304b9fb72ad3c02258e09c",
            "5e94a629d5484a44b4b22ca97a5a4635",
            "ded22bad8427456bbd69d28cd779fd87",
            "6d80e09f113040159f02293780472b24",
            "25c76797e71a459890bec84113df354a",
            "30831c91732945c1980f63cf059b27aa",
            "3843bd9eb5fb4838832389202ad8e408",
            "dccf4c16515b4d0fbcf74ddb652a1d58",
            "96433c6c376749e980024201eec2a8b2",
            "dd8fb3c4566e4151919539d5f886a55e",
            "cffc205104b94188b47ae3bbaf230cef",
            "6897de3efd2d4e4d9898684742b96a51",
            "f9f928aabff344228070f038ef306ccb",
            "5d09ae2391334115a7697777b1c8abb2"
          ]
        }
      },
      "source": [
        "train = datasets.MNIST('./data', train=True, transform=train_transforms, download=True)\n",
        "test = datasets.MNIST('./data',train=False, transform=test_transforms, download=True)\n"
      ],
      "execution_count": 0,
      "outputs": [
        {
          "output_type": "stream",
          "text": [
            "Downloading http://yann.lecun.com/exdb/mnist/train-images-idx3-ubyte.gz to ./data/MNIST/raw/train-images-idx3-ubyte.gz\n"
          ],
          "name": "stdout"
        },
        {
          "output_type": "display_data",
          "data": {
            "application/vnd.jupyter.widget-view+json": {
              "model_id": "f2ea3fb1ba3041f2956176c85d80736a",
              "version_minor": 0,
              "version_major": 2
            },
            "text/plain": [
              "HBox(children=(IntProgress(value=1, bar_style='info', max=1), HTML(value='')))"
            ]
          },
          "metadata": {
            "tags": []
          }
        },
        {
          "output_type": "stream",
          "text": [
            "\n",
            "Extracting ./data/MNIST/raw/train-images-idx3-ubyte.gz to ./data/MNIST/raw\n",
            "Downloading http://yann.lecun.com/exdb/mnist/train-labels-idx1-ubyte.gz to ./data/MNIST/raw/train-labels-idx1-ubyte.gz\n"
          ],
          "name": "stdout"
        },
        {
          "output_type": "display_data",
          "data": {
            "application/vnd.jupyter.widget-view+json": {
              "model_id": "928ec6f3097644a6b6591ab8e704b4d9",
              "version_minor": 0,
              "version_major": 2
            },
            "text/plain": [
              "HBox(children=(IntProgress(value=1, bar_style='info', max=1), HTML(value='')))"
            ]
          },
          "metadata": {
            "tags": []
          }
        },
        {
          "output_type": "stream",
          "text": [
            "\n",
            "Extracting ./data/MNIST/raw/train-labels-idx1-ubyte.gz to ./data/MNIST/raw\n",
            "Downloading http://yann.lecun.com/exdb/mnist/t10k-images-idx3-ubyte.gz to ./data/MNIST/raw/t10k-images-idx3-ubyte.gz\n"
          ],
          "name": "stdout"
        },
        {
          "output_type": "display_data",
          "data": {
            "application/vnd.jupyter.widget-view+json": {
              "model_id": "80a80b5a44de4157b132f9ead2955629",
              "version_minor": 0,
              "version_major": 2
            },
            "text/plain": [
              "HBox(children=(IntProgress(value=1, bar_style='info', max=1), HTML(value='')))"
            ]
          },
          "metadata": {
            "tags": []
          }
        },
        {
          "output_type": "stream",
          "text": [
            "\n",
            "Extracting ./data/MNIST/raw/t10k-images-idx3-ubyte.gz to ./data/MNIST/raw\n",
            "Downloading http://yann.lecun.com/exdb/mnist/t10k-labels-idx1-ubyte.gz to ./data/MNIST/raw/t10k-labels-idx1-ubyte.gz\n"
          ],
          "name": "stdout"
        },
        {
          "output_type": "display_data",
          "data": {
            "application/vnd.jupyter.widget-view+json": {
              "model_id": "3843bd9eb5fb4838832389202ad8e408",
              "version_minor": 0,
              "version_major": 2
            },
            "text/plain": [
              "HBox(children=(IntProgress(value=1, bar_style='info', max=1), HTML(value='')))"
            ]
          },
          "metadata": {
            "tags": []
          }
        },
        {
          "output_type": "stream",
          "text": [
            "\n",
            "Extracting ./data/MNIST/raw/t10k-labels-idx1-ubyte.gz to ./data/MNIST/raw\n",
            "Processing...\n",
            "Done!\n"
          ],
          "name": "stdout"
        }
      ]
    },
    {
      "cell_type": "markdown",
      "metadata": {
        "id": "F0eyGuTa55iD",
        "colab_type": "text"
      },
      "source": [
        "**DATA LOADERS**"
      ]
    },
    {
      "cell_type": "code",
      "metadata": {
        "id": "Stbxb7N55zJ5",
        "colab_type": "code",
        "outputId": "80a66166-6383-4148-e337-2278a722eacb",
        "colab": {
          "base_uri": "https://localhost:8080/",
          "height": 34
        }
      },
      "source": [
        "SEED = 1\n",
        "np.random.seed(42)\n",
        "torch.manual_seed(1)\n",
        "\n",
        "#check for cuda\n",
        "cuda = torch.cuda.is_available()\n",
        "print('cuda available', cuda)\n",
        "\n",
        "if cuda:\n",
        "  torch.cuda.manual_seed(1)\n",
        "\n",
        "#dataloader arguments\n",
        "dataloader_args = dict(shuffle=True, batch_size=64, num_workers=4, pin_memory=True) if cuda else dict(shuffle=True, batch_size=64)\n",
        "\n",
        "#train dataloader\n",
        "train_loader = torch.utils.data.DataLoader(train, **dataloader_args)\n",
        "\n",
        "#test dataloader\n",
        "test_loader = torch.utils.data.DataLoader(test, **dataloader_args)"
      ],
      "execution_count": 0,
      "outputs": [
        {
          "output_type": "stream",
          "text": [
            "cuda available True\n"
          ],
          "name": "stdout"
        }
      ]
    },
    {
      "cell_type": "markdown",
      "metadata": {
        "id": "zExuS7aOBLwC",
        "colab_type": "text"
      },
      "source": [
        "**Data Stats**"
      ]
    },
    {
      "cell_type": "code",
      "metadata": {
        "id": "EZwSgUio67QG",
        "colab_type": "code",
        "outputId": "d1ee2026-4eac-4f0a-9b58-5b2b1084c46f",
        "colab": {
          "base_uri": "https://localhost:8080/",
          "height": 221
        }
      },
      "source": [
        "# We'd need to convert it into Numpy! Remember above we have converted it into tensors already\n",
        "train_data = train.train_data\n",
        "train_data = train.transform(train_data.numpy())\n",
        "\n",
        "print('[Train]')\n",
        "print(' - Numpy Shape:', train.train_data.cpu().numpy().shape)\n",
        "print(' - Tensor Shape:', train.train_data.size())\n",
        "print(' - min:', torch.min(train_data))\n",
        "print(' - max:', torch.max(train_data))\n",
        "print(' - mean:', torch.mean(train_data))\n",
        "print(' - std:', torch.std(train_data))\n",
        "print(' - var:', torch.var(train_data))\n",
        "\n",
        "dataiter = iter(train_loader)\n",
        "images, labels = dataiter.next()\n",
        "\n",
        "print(images.shape)\n",
        "print(labels.shape)"
      ],
      "execution_count": 0,
      "outputs": [
        {
          "output_type": "stream",
          "text": [
            "/usr/local/lib/python3.6/dist-packages/torchvision/datasets/mnist.py:55: UserWarning: train_data has been renamed data\n",
            "  warnings.warn(\"train_data has been renamed data\")\n"
          ],
          "name": "stderr"
        },
        {
          "output_type": "stream",
          "text": [
            "[Train]\n",
            " - Numpy Shape: (60000, 28, 28)\n",
            " - Tensor Shape: torch.Size([60000, 28, 28])\n",
            " - min: tensor(-0.4242)\n",
            " - max: tensor(2.8215)\n",
            " - mean: tensor(0.0009)\n",
            " - std: tensor(1.0000)\n",
            " - var: tensor(1.0001)\n",
            "torch.Size([64, 1, 28, 28])\n",
            "torch.Size([64])\n"
          ],
          "name": "stdout"
        }
      ]
    },
    {
      "cell_type": "markdown",
      "metadata": {
        "id": "0apyJwaOCF7Q",
        "colab_type": "text"
      },
      "source": [
        "**MODEL**"
      ]
    },
    {
      "cell_type": "code",
      "metadata": {
        "id": "tCLObrroBHpC",
        "colab_type": "code",
        "colab": {}
      },
      "source": [
        "class Net(nn.Module):\n",
        "     def __init__(self):\n",
        "       super(Net, self).__init__()\n",
        "       #Input block\n",
        "       self.convblock1 = nn.Sequential(\n",
        "            nn.Conv2d(in_channels=1, out_channels=16, kernel_size=(3, 3), padding=1, bias=False),\n",
        "            nn.ReLU()\n",
        "       ) # output_size = 28\n",
        "\n",
        "       #CONV BLOCK 1\n",
        "       self.convblock2 = nn.Sequential(\n",
        "            nn.Conv2d(in_channels=16, out_channels=32, kernel_size=(3, 3), padding=0, bias=False),\n",
        "            nn.ReLU()\n",
        "       ) # output_size = 26\n",
        "\n",
        "       self.convblock3 = nn.Sequential(\n",
        "            nn.Conv2d(in_channels=32, out_channels=64, kernel_size=(3,3), padding=0, bias=False),\n",
        "            nn.ReLU()  \n",
        "       ) #output size = 24\n",
        "      \n",
        "       #TRANSITION BLOCK\n",
        "       self.pool1 = nn.MaxPool2d((2,2))  #out = 12\n",
        "       self.convblock4 = nn.Sequential(\n",
        "            nn.Conv2d(in_channels=64, out_channels=16, kernel_size=(1,1),padding=0, bias=False),\n",
        "            nn.ReLU()\n",
        "       ) #output = 12\n",
        "\n",
        "       #CONV BLOCK 2\n",
        "       self.convblock5 = nn.Sequential(\n",
        "            nn.Conv2d(in_channels=16, out_channels=32, kernel_size=(3, 3), padding=0, bias=False),\n",
        "            nn.ReLU()\n",
        "       ) # output_size = 10\n",
        "\n",
        "       self.convblock6 = nn.Sequential(\n",
        "            nn.Conv2d(in_channels=32, out_channels=64, kernel_size=(3,3), padding=0, bias=False),\n",
        "            nn.ReLU()  \n",
        "       ) #out = 8\n",
        "       \n",
        "       self.pool2 = nn.MaxPool2d((2,2))  #out = 4\n",
        "\n",
        "      #  self.convblock7 = nn.Sequential(\n",
        "      #       nn.Conv2d(in_channels=64, out_channels=64, kernel_size=(3,3), padding=0, bias=False),\n",
        "      #       nn.ReLU()  \n",
        "      #  ) #out = 6\n",
        "    \n",
        "       #OUTPUT BLOCK\n",
        "\n",
        "       self.convblock7 = nn.Sequential(\n",
        "            nn.Conv2d(in_channels=64, out_channels=32, kernel_size=(1,1), padding=0, bias=False),\n",
        "            nn.ReLU()  \n",
        "       ) #out = 4\n",
        "\n",
        "       self.convblock8 = nn.Sequential(\n",
        "            nn.Conv2d(in_channels=32, out_channels=10, kernel_size=(4,4), padding=0, bias=False),\n",
        "            #nn.ReLU()  \n",
        "       ) #out = 1\n",
        "\n",
        "\n",
        "     def forward(self, x):\n",
        "       x = self.convblock1(x)\n",
        "       x = self.convblock2(x)\n",
        "       x = self.convblock3(x)\n",
        "       x = self.pool1(x)\n",
        "       x = self.convblock4(x)\n",
        "       x = self.convblock5(x)\n",
        "       x = self.convblock6(x)\n",
        "       x = self.pool2(x)\n",
        "       x = self.convblock7(x)\n",
        "       x = self.convblock8(x)\n",
        "       x = x.view(-1, 10)\n",
        "       return F.log_softmax(x, dim=-1)"
      ],
      "execution_count": 0,
      "outputs": []
    },
    {
      "cell_type": "markdown",
      "metadata": {
        "id": "4ha8mBOHzdmm",
        "colab_type": "text"
      },
      "source": [
        "**RF Calculation**"
      ]
    },
    {
      "cell_type": "markdown",
      "metadata": {
        "id": "k0FLdwadzW4Z",
        "colab_type": "text"
      },
      "source": [
        "```\n",
        "![image.png](data:image/png;base64,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)"
      ]
    },
    {
      "cell_type": "code",
      "metadata": {
        "id": "MxBIa8DsBRw9",
        "colab_type": "code",
        "outputId": "599b07a3-9847-40bb-fb95-f034495d4b69",
        "colab": {
          "base_uri": "https://localhost:8080/",
          "height": 544
        }
      },
      "source": [
        "from torchsummary import summary\n",
        "use_cuda = torch.cuda.is_available()\n",
        "device = torch.device(\"cuda\" if use_cuda else \"cpu\")\n",
        "print(device)\n",
        "model = Net().to(device)\n",
        "summary(model, input_size=(1, 28, 28))"
      ],
      "execution_count": 0,
      "outputs": [
        {
          "output_type": "stream",
          "text": [
            "cuda\n",
            "----------------------------------------------------------------\n",
            "        Layer (type)               Output Shape         Param #\n",
            "================================================================\n",
            "            Conv2d-1           [-1, 16, 28, 28]             144\n",
            "              ReLU-2           [-1, 16, 28, 28]               0\n",
            "            Conv2d-3           [-1, 32, 26, 26]           4,608\n",
            "              ReLU-4           [-1, 32, 26, 26]               0\n",
            "            Conv2d-5           [-1, 64, 24, 24]          18,432\n",
            "              ReLU-6           [-1, 64, 24, 24]               0\n",
            "         MaxPool2d-7           [-1, 64, 12, 12]               0\n",
            "            Conv2d-8           [-1, 16, 12, 12]           1,024\n",
            "              ReLU-9           [-1, 16, 12, 12]               0\n",
            "           Conv2d-10           [-1, 32, 10, 10]           4,608\n",
            "             ReLU-11           [-1, 32, 10, 10]               0\n",
            "           Conv2d-12             [-1, 64, 8, 8]          18,432\n",
            "             ReLU-13             [-1, 64, 8, 8]               0\n",
            "        MaxPool2d-14             [-1, 64, 4, 4]               0\n",
            "           Conv2d-15             [-1, 32, 4, 4]           2,048\n",
            "             ReLU-16             [-1, 32, 4, 4]               0\n",
            "           Conv2d-17             [-1, 10, 1, 1]           5,120\n",
            "================================================================\n",
            "Total params: 54,416\n",
            "Trainable params: 54,416\n",
            "Non-trainable params: 0\n",
            "----------------------------------------------------------------\n",
            "Input size (MB): 0.00\n",
            "Forward/backward pass size (MB): 1.32\n",
            "Params size (MB): 0.21\n",
            "Estimated Total Size (MB): 1.53\n",
            "----------------------------------------------------------------\n"
          ],
          "name": "stdout"
        }
      ]
    },
    {
      "cell_type": "markdown",
      "metadata": {
        "id": "GD0R232QL1e5",
        "colab_type": "text"
      },
      "source": [
        "**Define Train/Test functions with loss and accuracy calculations**"
      ]
    },
    {
      "cell_type": "code",
      "metadata": {
        "id": "G3JJub4eBRrZ",
        "colab_type": "code",
        "colab": {}
      },
      "source": [
        "from tqdm import tqdm\n",
        "\n",
        "train_losses = []\n",
        "test_losses = []\n",
        "train_acc = []\n",
        "test_acc = []\n",
        "\n",
        "def train(model, device, train_loader, optimizer, epoch):\n",
        "  model.train()\n",
        "  pbar = tqdm(train_loader)\n",
        "  correct = 0\n",
        "  processed = 0\n",
        "  for batch_idx, (data, target) in enumerate(pbar):\n",
        "    # get samples\n",
        "    data, target = data.to(device), target.to(device)\n",
        "\n",
        "    # Init\n",
        "    optimizer.zero_grad()\n",
        "    # In PyTorch, we need to set the gradients to zero before starting to do backpropragation because PyTorch accumulates the gradients on subsequent backward passes. \n",
        "    # Because of this, when you start your training loop, ideally you should zero out the gradients so that you do the parameter update correctly.\n",
        "\n",
        "    # Predict\n",
        "    y_pred = model(data)\n",
        "\n",
        "    # Calculate loss\n",
        "    loss = F.nll_loss(y_pred, target)\n",
        "    train_losses.append(loss)\n",
        "\n",
        "    # Backpropagation\n",
        "    loss.backward()\n",
        "    optimizer.step()\n",
        "\n",
        "    # Update pbar-tqdm\n",
        "    \n",
        "    pred = y_pred.argmax(dim=1, keepdim=True)  # get the index of the max log-probability\n",
        "    correct += pred.eq(target.view_as(pred)).sum().item()\n",
        "    processed += len(data)\n",
        "\n",
        "    pbar.set_description(desc= f'Loss={loss.item()} Batch_id={batch_idx} Accuracy={100*correct/processed:0.2f}')\n",
        "    train_acc.append(100*correct/processed)\n",
        "\n",
        "def test(model, device, test_loader):\n",
        "    model.eval()\n",
        "    test_loss = 0\n",
        "    correct = 0\n",
        "    with torch.no_grad():\n",
        "        for data, target in test_loader:\n",
        "            data, target = data.to(device), target.to(device)\n",
        "            output = model(data)\n",
        "            test_loss += F.nll_loss(output, target, reduction='sum').item()  # sum up batch loss\n",
        "            pred = output.argmax(dim=1, keepdim=True)  # get the index of the max log-probability\n",
        "            correct += pred.eq(target.view_as(pred)).sum().item()\n",
        "\n",
        "    test_loss /= len(test_loader.dataset)\n",
        "    test_losses.append(test_loss)\n",
        "\n",
        "    print('\\nTest set: Average loss: {:.4f}, Accuracy: {}/{} ({:.2f}%)\\n'.format(\n",
        "        test_loss, correct, len(test_loader.dataset),\n",
        "        100. * correct / len(test_loader.dataset)))\n",
        "    \n",
        "    test_acc.append(100. * correct / len(test_loader.dataset))"
      ],
      "execution_count": 0,
      "outputs": []
    },
    {
      "cell_type": "markdown",
      "metadata": {
        "id": "JbZRq07iMGpq",
        "colab_type": "text"
      },
      "source": [
        "**Training the MODEL with validation accuracy check**"
      ]
    },
    {
      "cell_type": "code",
      "metadata": {
        "id": "s_UWvGKCBRmk",
        "colab_type": "code",
        "outputId": "cdbd0117-6087-4d4a-a3bd-865cb58cb6f0",
        "colab": {
          "base_uri": "https://localhost:8080/",
          "height": 1000
        }
      },
      "source": [
        "model =  Net().to(device)\n",
        "optimizer = optim.SGD(model.parameters(), lr=0.01, momentum=0.9)\n",
        "EPOCHS = 15\n",
        "for epoch in range(EPOCHS):\n",
        "    print(\"EPOCH:\", epoch)\n",
        "    train(model, device, train_loader, optimizer, epoch)\n",
        "    test(model, device, test_loader)"
      ],
      "execution_count": 0,
      "outputs": [
        {
          "output_type": "stream",
          "text": [
            "\r  0%|          | 0/938 [00:00<?, ?it/s]"
          ],
          "name": "stderr"
        },
        {
          "output_type": "stream",
          "text": [
            "EPOCH: 0\n"
          ],
          "name": "stdout"
        },
        {
          "output_type": "stream",
          "text": [
            "Loss=0.19279766082763672 Batch_id=937 Accuracy=46.34: 100%|██████████| 938/938 [00:16<00:00, 56.80it/s]\n",
            "  0%|          | 0/938 [00:00<?, ?it/s]"
          ],
          "name": "stderr"
        },
        {
          "output_type": "stream",
          "text": [
            "\n",
            "Test set: Average loss: 0.1606, Accuracy: 9474/10000 (94.74%)\n",
            "\n",
            "EPOCH: 1\n"
          ],
          "name": "stdout"
        },
        {
          "output_type": "stream",
          "text": [
            "Loss=0.1364656686782837 Batch_id=937 Accuracy=96.14: 100%|██████████| 938/938 [00:15<00:00, 59.97it/s]\n",
            "  0%|          | 0/938 [00:00<?, ?it/s]"
          ],
          "name": "stderr"
        },
        {
          "output_type": "stream",
          "text": [
            "\n",
            "Test set: Average loss: 0.0826, Accuracy: 9768/10000 (97.68%)\n",
            "\n",
            "EPOCH: 2\n"
          ],
          "name": "stdout"
        },
        {
          "output_type": "stream",
          "text": [
            "Loss=0.0030327141284942627 Batch_id=937 Accuracy=97.79: 100%|██████████| 938/938 [00:16<00:00, 57.01it/s]\n",
            "  0%|          | 0/938 [00:00<?, ?it/s]"
          ],
          "name": "stderr"
        },
        {
          "output_type": "stream",
          "text": [
            "\n",
            "Test set: Average loss: 0.0506, Accuracy: 9841/10000 (98.41%)\n",
            "\n",
            "EPOCH: 3\n"
          ],
          "name": "stdout"
        },
        {
          "output_type": "stream",
          "text": [
            "Loss=0.006420791149139404 Batch_id=937 Accuracy=98.30: 100%|██████████| 938/938 [00:17<00:00, 53.16it/s]\n",
            "  0%|          | 0/938 [00:00<?, ?it/s]"
          ],
          "name": "stderr"
        },
        {
          "output_type": "stream",
          "text": [
            "\n",
            "Test set: Average loss: 0.0386, Accuracy: 9874/10000 (98.74%)\n",
            "\n",
            "EPOCH: 4\n"
          ],
          "name": "stdout"
        },
        {
          "output_type": "stream",
          "text": [
            "Loss=0.01525406539440155 Batch_id=937 Accuracy=98.52: 100%|██████████| 938/938 [00:16<00:00, 56.34it/s]\n",
            "  0%|          | 0/938 [00:00<?, ?it/s]"
          ],
          "name": "stderr"
        },
        {
          "output_type": "stream",
          "text": [
            "\n",
            "Test set: Average loss: 0.0430, Accuracy: 9860/10000 (98.60%)\n",
            "\n",
            "EPOCH: 5\n"
          ],
          "name": "stdout"
        },
        {
          "output_type": "stream",
          "text": [
            "Loss=0.002103567123413086 Batch_id=937 Accuracy=98.72: 100%|██████████| 938/938 [00:16<00:00, 58.12it/s]\n",
            "  0%|          | 0/938 [00:00<?, ?it/s]"
          ],
          "name": "stderr"
        },
        {
          "output_type": "stream",
          "text": [
            "\n",
            "Test set: Average loss: 0.0360, Accuracy: 9876/10000 (98.76%)\n",
            "\n",
            "EPOCH: 6\n"
          ],
          "name": "stdout"
        },
        {
          "output_type": "stream",
          "text": [
            "Loss=0.0009484291076660156 Batch_id=937 Accuracy=98.89: 100%|██████████| 938/938 [00:17<00:00, 54.71it/s]\n",
            "  0%|          | 0/938 [00:00<?, ?it/s]"
          ],
          "name": "stderr"
        },
        {
          "output_type": "stream",
          "text": [
            "\n",
            "Test set: Average loss: 0.0336, Accuracy: 9888/10000 (98.88%)\n",
            "\n",
            "EPOCH: 7\n"
          ],
          "name": "stdout"
        },
        {
          "output_type": "stream",
          "text": [
            "Loss=0.0017011761665344238 Batch_id=937 Accuracy=98.93: 100%|██████████| 938/938 [00:17<00:00, 54.20it/s]\n",
            "  0%|          | 0/938 [00:00<?, ?it/s]"
          ],
          "name": "stderr"
        },
        {
          "output_type": "stream",
          "text": [
            "\n",
            "Test set: Average loss: 0.0371, Accuracy: 9882/10000 (98.82%)\n",
            "\n",
            "EPOCH: 8\n"
          ],
          "name": "stdout"
        },
        {
          "output_type": "stream",
          "text": [
            "Loss=0.09887494146823883 Batch_id=937 Accuracy=99.18: 100%|██████████| 938/938 [00:16<00:00, 55.25it/s]\n",
            "  0%|          | 0/938 [00:00<?, ?it/s]"
          ],
          "name": "stderr"
        },
        {
          "output_type": "stream",
          "text": [
            "\n",
            "Test set: Average loss: 0.0382, Accuracy: 9886/10000 (98.86%)\n",
            "\n",
            "EPOCH: 9\n"
          ],
          "name": "stdout"
        },
        {
          "output_type": "stream",
          "text": [
            "Loss=0.0018692314624786377 Batch_id=937 Accuracy=99.25: 100%|██████████| 938/938 [00:17<00:00, 52.98it/s]\n",
            "  0%|          | 0/938 [00:00<?, ?it/s]"
          ],
          "name": "stderr"
        },
        {
          "output_type": "stream",
          "text": [
            "\n",
            "Test set: Average loss: 0.0344, Accuracy: 9884/10000 (98.84%)\n",
            "\n",
            "EPOCH: 10\n"
          ],
          "name": "stdout"
        },
        {
          "output_type": "stream",
          "text": [
            "Loss=0.10135260224342346 Batch_id=937 Accuracy=99.33: 100%|██████████| 938/938 [00:17<00:00, 60.92it/s]\n",
            "  0%|          | 0/938 [00:00<?, ?it/s]"
          ],
          "name": "stderr"
        },
        {
          "output_type": "stream",
          "text": [
            "\n",
            "Test set: Average loss: 0.0348, Accuracy: 9889/10000 (98.89%)\n",
            "\n",
            "EPOCH: 11\n"
          ],
          "name": "stdout"
        },
        {
          "output_type": "stream",
          "text": [
            "Loss=0.02549111843109131 Batch_id=937 Accuracy=99.31: 100%|██████████| 938/938 [00:17<00:00, 54.64it/s]\n",
            "  0%|          | 0/938 [00:00<?, ?it/s]"
          ],
          "name": "stderr"
        },
        {
          "output_type": "stream",
          "text": [
            "\n",
            "Test set: Average loss: 0.0438, Accuracy: 9859/10000 (98.59%)\n",
            "\n",
            "EPOCH: 12\n"
          ],
          "name": "stdout"
        },
        {
          "output_type": "stream",
          "text": [
            "Loss=0.019318103790283203 Batch_id=937 Accuracy=99.33: 100%|██████████| 938/938 [00:17<00:00, 54.71it/s]\n",
            "  0%|          | 0/938 [00:00<?, ?it/s]"
          ],
          "name": "stderr"
        },
        {
          "output_type": "stream",
          "text": [
            "\n",
            "Test set: Average loss: 0.0319, Accuracy: 9908/10000 (99.08%)\n",
            "\n",
            "EPOCH: 13\n"
          ],
          "name": "stdout"
        },
        {
          "output_type": "stream",
          "text": [
            "Loss=0.03550758957862854 Batch_id=937 Accuracy=99.40: 100%|██████████| 938/938 [00:17<00:00, 54.41it/s]\n",
            "  0%|          | 0/938 [00:00<?, ?it/s]"
          ],
          "name": "stderr"
        },
        {
          "output_type": "stream",
          "text": [
            "\n",
            "Test set: Average loss: 0.0297, Accuracy: 9907/10000 (99.07%)\n",
            "\n",
            "EPOCH: 14\n"
          ],
          "name": "stdout"
        },
        {
          "output_type": "stream",
          "text": [
            "Loss=0.0018534064292907715 Batch_id=937 Accuracy=99.46: 100%|██████████| 938/938 [00:16<00:00, 56.38it/s]\n"
          ],
          "name": "stderr"
        },
        {
          "output_type": "stream",
          "text": [
            "\n",
            "Test set: Average loss: 0.0334, Accuracy: 9899/10000 (98.99%)\n",
            "\n"
          ],
          "name": "stdout"
        }
      ]
    },
    {
      "cell_type": "code",
      "metadata": {
        "id": "Deu5dBoZBRkh",
        "colab_type": "code",
        "outputId": "dc850ed2-6661-4482-c91d-2720b65c68f0",
        "colab": {
          "base_uri": "https://localhost:8080/",
          "height": 624
        }
      },
      "source": [
        "import matplotlib.pyplot as plt\n",
        "\n",
        "fig, axs = plt.subplots(2,2,figsize=(15,10))\n",
        "axs[0, 0].plot(train_losses)\n",
        "axs[0, 0].set_title(\"Training Loss\")\n",
        "axs[1, 0].plot(train_acc)\n",
        "axs[1, 0].set_title(\"Training Accuracy\")\n",
        "axs[0, 1].plot(test_losses)\n",
        "axs[0, 1].set_title(\"Test Loss\")\n",
        "axs[1, 1].plot(test_acc)\n",
        "axs[1, 1].set_title(\"Test Accuracy\")"
      ],
      "execution_count": 0,
      "outputs": [
        {
          "output_type": "execute_result",
          "data": {
            "text/plain": [
              "Text(0.5, 1.0, 'Test Accuracy')"
            ]
          },
          "metadata": {
            "tags": []
          },
          "execution_count": 12
        },
        {
          "output_type": "display_data",
          "data": {
            "image/png": "[encoded data removed]",
            "text/plain": [
              "<Figure size 1080x720 with 4 Axes>"
            ]
          },
          "metadata": {
            "tags": []
          }
        }
      ]
    }
  ]
}