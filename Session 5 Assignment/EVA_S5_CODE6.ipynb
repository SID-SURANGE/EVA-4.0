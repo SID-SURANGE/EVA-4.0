{
  "nbformat": 4,
  "nbformat_minor": 0,
  "metadata": {
    "colab": {
      "name": "EVA S5 CODE6.ipynb",
      "provenance": []
    },
    "kernelspec": {
      "name": "python3",
      "display_name": "Python 3"
    },
    "accelerator": "GPU",
    "widgets": {
      "application/vnd.jupyter.widget-state+json": {
        "5c9e4b79405a4f18a4057e2000f937aa": {
          "model_module": "@jupyter-widgets/controls",
          "model_name": "HBoxModel",
          "state": {
            "_view_name": "HBoxView",
            "_dom_classes": [],
            "_model_name": "HBoxModel",
            "_view_module": "@jupyter-widgets/controls",
            "_model_module_version": "1.5.0",
            "_view_count": null,
            "_view_module_version": "1.5.0",
            "box_style": "",
            "layout": "IPY_MODEL_a830afb1a01548bc8ee758deb81f7572",
            "_model_module": "@jupyter-widgets/controls",
            "children": [
              "IPY_MODEL_b96c31b21cf2453c8a9e1c64a623f29e",
              "IPY_MODEL_d7abae8c06b142d78fe075784c6d1e2b"
            ]
          }
        },
        "a830afb1a01548bc8ee758deb81f7572": {
          "model_module": "@jupyter-widgets/base",
          "model_name": "LayoutModel",
          "state": {
            "_view_name": "LayoutView",
            "grid_template_rows": null,
            "right": null,
            "justify_content": null,
            "_view_module": "@jupyter-widgets/base",
            "overflow": null,
            "_model_module_version": "1.2.0",
            "_view_count": null,
            "flex_flow": null,
            "width": null,
            "min_width": null,
            "border": null,
            "align_items": null,
            "bottom": null,
            "_model_module": "@jupyter-widgets/base",
            "top": null,
            "grid_column": null,
            "overflow_y": null,
            "overflow_x": null,
            "grid_auto_flow": null,
            "grid_area": null,
            "grid_template_columns": null,
            "flex": null,
            "_model_name": "LayoutModel",
            "justify_items": null,
            "grid_row": null,
            "max_height": null,
            "align_content": null,
            "visibility": null,
            "align_self": null,
            "height": null,
            "min_height": null,
            "padding": null,
            "grid_auto_rows": null,
            "grid_gap": null,
            "max_width": null,
            "order": null,
            "_view_module_version": "1.2.0",
            "grid_template_areas": null,
            "object_position": null,
            "object_fit": null,
            "grid_auto_columns": null,
            "margin": null,
            "display": null,
            "left": null
          }
        },
        "b96c31b21cf2453c8a9e1c64a623f29e": {
          "model_module": "@jupyter-widgets/controls",
          "model_name": "IntProgressModel",
          "state": {
            "_view_name": "ProgressView",
            "style": "IPY_MODEL_61d8846708dc4e3c8379413f44846365",
            "_dom_classes": [],
            "description": "",
            "_model_name": "IntProgressModel",
            "bar_style": "success",
            "max": 1,
            "_view_module": "@jupyter-widgets/controls",
            "_model_module_version": "1.5.0",
            "value": 1,
            "_view_count": null,
            "_view_module_version": "1.5.0",
            "orientation": "horizontal",
            "min": 0,
            "description_tooltip": null,
            "_model_module": "@jupyter-widgets/controls",
            "layout": "IPY_MODEL_79258b81ace244069bd449a70c0479d8"
          }
        },
        "d7abae8c06b142d78fe075784c6d1e2b": {
          "model_module": "@jupyter-widgets/controls",
          "model_name": "HTMLModel",
          "state": {
            "_view_name": "HTMLView",
            "style": "IPY_MODEL_d241a1aad85c45ada4a439f3d744cefb",
            "_dom_classes": [],
            "description": "",
            "_model_name": "HTMLModel",
            "placeholder": "​",
            "_view_module": "@jupyter-widgets/controls",
            "_model_module_version": "1.5.0",
            "value": "9920512it [00:01, 8071502.21it/s]",
            "_view_count": null,
            "_view_module_version": "1.5.0",
            "description_tooltip": null,
            "_model_module": "@jupyter-widgets/controls",
            "layout": "IPY_MODEL_87049c3f450e4de693f8f20749c60d68"
          }
        },
        "61d8846708dc4e3c8379413f44846365": {
          "model_module": "@jupyter-widgets/controls",
          "model_name": "ProgressStyleModel",
          "state": {
            "_view_name": "StyleView",
            "_model_name": "ProgressStyleModel",
            "description_width": "",
            "_view_module": "@jupyter-widgets/base",
            "_model_module_version": "1.5.0",
            "_view_count": null,
            "_view_module_version": "1.2.0",
            "bar_color": null,
            "_model_module": "@jupyter-widgets/controls"
          }
        },
        "79258b81ace244069bd449a70c0479d8": {
          "model_module": "@jupyter-widgets/base",
          "model_name": "LayoutModel",
          "state": {
            "_view_name": "LayoutView",
            "grid_template_rows": null,
            "right": null,
            "justify_content": null,
            "_view_module": "@jupyter-widgets/base",
            "overflow": null,
            "_model_module_version": "1.2.0",
            "_view_count": null,
            "flex_flow": null,
            "width": null,
            "min_width": null,
            "border": null,
            "align_items": null,
            "bottom": null,
            "_model_module": "@jupyter-widgets/base",
            "top": null,
            "grid_column": null,
            "overflow_y": null,
            "overflow_x": null,
            "grid_auto_flow": null,
            "grid_area": null,
            "grid_template_columns": null,
            "flex": null,
            "_model_name": "LayoutModel",
            "justify_items": null,
            "grid_row": null,
            "max_height": null,
            "align_content": null,
            "visibility": null,
            "align_self": null,
            "height": null,
            "min_height": null,
            "padding": null,
            "grid_auto_rows": null,
            "grid_gap": null,
            "max_width": null,
            "order": null,
            "_view_module_version": "1.2.0",
            "grid_template_areas": null,
            "object_position": null,
            "object_fit": null,
            "grid_auto_columns": null,
            "margin": null,
            "display": null,
            "left": null
          }
        },
        "d241a1aad85c45ada4a439f3d744cefb": {
          "model_module": "@jupyter-widgets/controls",
          "model_name": "DescriptionStyleModel",
          "state": {
            "_view_name": "StyleView",
            "_model_name": "DescriptionStyleModel",
            "description_width": "",
            "_view_module": "@jupyter-widgets/base",
            "_model_module_version": "1.5.0",
            "_view_count": null,
            "_view_module_version": "1.2.0",
            "_model_module": "@jupyter-widgets/controls"
          }
        },
        "87049c3f450e4de693f8f20749c60d68": {
          "model_module": "@jupyter-widgets/base",
          "model_name": "LayoutModel",
          "state": {
            "_view_name": "LayoutView",
            "grid_template_rows": null,
            "right": null,
            "justify_content": null,
            "_view_module": "@jupyter-widgets/base",
            "overflow": null,
            "_model_module_version": "1.2.0",
            "_view_count": null,
            "flex_flow": null,
            "width": null,
            "min_width": null,
            "border": null,
            "align_items": null,
            "bottom": null,
            "_model_module": "@jupyter-widgets/base",
            "top": null,
            "grid_column": null,
            "overflow_y": null,
            "overflow_x": null,
            "grid_auto_flow": null,
            "grid_area": null,
            "grid_template_columns": null,
            "flex": null,
            "_model_name": "LayoutModel",
            "justify_items": null,
            "grid_row": null,
            "max_height": null,
            "align_content": null,
            "visibility": null,
            "align_self": null,
            "height": null,
            "min_height": null,
            "padding": null,
            "grid_auto_rows": null,
            "grid_gap": null,
            "max_width": null,
            "order": null,
            "_view_module_version": "1.2.0",
            "grid_template_areas": null,
            "object_position": null,
            "object_fit": null,
            "grid_auto_columns": null,
            "margin": null,
            "display": null,
            "left": null
          }
        },
        "82e5f86ab8a144ea89dc3a52363e8449": {
          "model_module": "@jupyter-widgets/controls",
          "model_name": "HBoxModel",
          "state": {
            "_view_name": "HBoxView",
            "_dom_classes": [],
            "_model_name": "HBoxModel",
            "_view_module": "@jupyter-widgets/controls",
            "_model_module_version": "1.5.0",
            "_view_count": null,
            "_view_module_version": "1.5.0",
            "box_style": "",
            "layout": "IPY_MODEL_5dc8b7acf49046589cbbb2c2878ca86e",
            "_model_module": "@jupyter-widgets/controls",
            "children": [
              "IPY_MODEL_7a02ff7cdd344e599d217a0d15d78084",
              "IPY_MODEL_c84c3df5de904c5f849f9fbca0087fdd"
            ]
          }
        },
        "5dc8b7acf49046589cbbb2c2878ca86e": {
          "model_module": "@jupyter-widgets/base",
          "model_name": "LayoutModel",
          "state": {
            "_view_name": "LayoutView",
            "grid_template_rows": null,
            "right": null,
            "justify_content": null,
            "_view_module": "@jupyter-widgets/base",
            "overflow": null,
            "_model_module_version": "1.2.0",
            "_view_count": null,
            "flex_flow": null,
            "width": null,
            "min_width": null,
            "border": null,
            "align_items": null,
            "bottom": null,
            "_model_module": "@jupyter-widgets/base",
            "top": null,
            "grid_column": null,
            "overflow_y": null,
            "overflow_x": null,
            "grid_auto_flow": null,
            "grid_area": null,
            "grid_template_columns": null,
            "flex": null,
            "_model_name": "LayoutModel",
            "justify_items": null,
            "grid_row": null,
            "max_height": null,
            "align_content": null,
            "visibility": null,
            "align_self": null,
            "height": null,
            "min_height": null,
            "padding": null,
            "grid_auto_rows": null,
            "grid_gap": null,
            "max_width": null,
            "order": null,
            "_view_module_version": "1.2.0",
            "grid_template_areas": null,
            "object_position": null,
            "object_fit": null,
            "grid_auto_columns": null,
            "margin": null,
            "display": null,
            "left": null
          }
        },
        "7a02ff7cdd344e599d217a0d15d78084": {
          "model_module": "@jupyter-widgets/controls",
          "model_name": "IntProgressModel",
          "state": {
            "_view_name": "ProgressView",
            "style": "IPY_MODEL_65f1fb4071db4c0e9dfd292b3349c19a",
            "_dom_classes": [],
            "description": "",
            "_model_name": "IntProgressModel",
            "bar_style": "success",
            "max": 1,
            "_view_module": "@jupyter-widgets/controls",
            "_model_module_version": "1.5.0",
            "value": 1,
            "_view_count": null,
            "_view_module_version": "1.5.0",
            "orientation": "horizontal",
            "min": 0,
            "description_tooltip": null,
            "_model_module": "@jupyter-widgets/controls",
            "layout": "IPY_MODEL_01a0242497de482ba8c15625f9a94358"
          }
        },
        "c84c3df5de904c5f849f9fbca0087fdd": {
          "model_module": "@jupyter-widgets/controls",
          "model_name": "HTMLModel",
          "state": {
            "_view_name": "HTMLView",
            "style": "IPY_MODEL_5df8ad3696334c5c8e34df6ff6c0b8d4",
            "_dom_classes": [],
            "description": "",
            "_model_name": "HTMLModel",
            "placeholder": "​",
            "_view_module": "@jupyter-widgets/controls",
            "_model_module_version": "1.5.0",
            "value": "32768it [00:00, 78387.21it/s]",
            "_view_count": null,
            "_view_module_version": "1.5.0",
            "description_tooltip": null,
            "_model_module": "@jupyter-widgets/controls",
            "layout": "IPY_MODEL_dca6d66876524f1f8ba320af69088975"
          }
        },
        "65f1fb4071db4c0e9dfd292b3349c19a": {
          "model_module": "@jupyter-widgets/controls",
          "model_name": "ProgressStyleModel",
          "state": {
            "_view_name": "StyleView",
            "_model_name": "ProgressStyleModel",
            "description_width": "",
            "_view_module": "@jupyter-widgets/base",
            "_model_module_version": "1.5.0",
            "_view_count": null,
            "_view_module_version": "1.2.0",
            "bar_color": null,
            "_model_module": "@jupyter-widgets/controls"
          }
        },
        "01a0242497de482ba8c15625f9a94358": {
          "model_module": "@jupyter-widgets/base",
          "model_name": "LayoutModel",
          "state": {
            "_view_name": "LayoutView",
            "grid_template_rows": null,
            "right": null,
            "justify_content": null,
            "_view_module": "@jupyter-widgets/base",
            "overflow": null,
            "_model_module_version": "1.2.0",
            "_view_count": null,
            "flex_flow": null,
            "width": null,
            "min_width": null,
            "border": null,
            "align_items": null,
            "bottom": null,
            "_model_module": "@jupyter-widgets/base",
            "top": null,
            "grid_column": null,
            "overflow_y": null,
            "overflow_x": null,
            "grid_auto_flow": null,
            "grid_area": null,
            "grid_template_columns": null,
            "flex": null,
            "_model_name": "LayoutModel",
            "justify_items": null,
            "grid_row": null,
            "max_height": null,
            "align_content": null,
            "visibility": null,
            "align_self": null,
            "height": null,
            "min_height": null,
            "padding": null,
            "grid_auto_rows": null,
            "grid_gap": null,
            "max_width": null,
            "order": null,
            "_view_module_version": "1.2.0",
            "grid_template_areas": null,
            "object_position": null,
            "object_fit": null,
            "grid_auto_columns": null,
            "margin": null,
            "display": null,
            "left": null
          }
        },
        "5df8ad3696334c5c8e34df6ff6c0b8d4": {
          "model_module": "@jupyter-widgets/controls",
          "model_name": "DescriptionStyleModel",
          "state": {
            "_view_name": "StyleView",
            "_model_name": "DescriptionStyleModel",
            "description_width": "",
            "_view_module": "@jupyter-widgets/base",
            "_model_module_version": "1.5.0",
            "_view_count": null,
            "_view_module_version": "1.2.0",
            "_model_module": "@jupyter-widgets/controls"
          }
        },
        "dca6d66876524f1f8ba320af69088975": {
          "model_module": "@jupyter-widgets/base",
          "model_name": "LayoutModel",
          "state": {
            "_view_name": "LayoutView",
            "grid_template_rows": null,
            "right": null,
            "justify_content": null,
            "_view_module": "@jupyter-widgets/base",
            "overflow": null,
            "_model_module_version": "1.2.0",
            "_view_count": null,
            "flex_flow": null,
            "width": null,
            "min_width": null,
            "border": null,
            "align_items": null,
            "bottom": null,
            "_model_module": "@jupyter-widgets/base",
            "top": null,
            "grid_column": null,
            "overflow_y": null,
            "overflow_x": null,
            "grid_auto_flow": null,
            "grid_area": null,
            "grid_template_columns": null,
            "flex": null,
            "_model_name": "LayoutModel",
            "justify_items": null,
            "grid_row": null,
            "max_height": null,
            "align_content": null,
            "visibility": null,
            "align_self": null,
            "height": null,
            "min_height": null,
            "padding": null,
            "grid_auto_rows": null,
            "grid_gap": null,
            "max_width": null,
            "order": null,
            "_view_module_version": "1.2.0",
            "grid_template_areas": null,
            "object_position": null,
            "object_fit": null,
            "grid_auto_columns": null,
            "margin": null,
            "display": null,
            "left": null
          }
        },
        "1bd52a4600bd4789abb017e1b74deb30": {
          "model_module": "@jupyter-widgets/controls",
          "model_name": "HBoxModel",
          "state": {
            "_view_name": "HBoxView",
            "_dom_classes": [],
            "_model_name": "HBoxModel",
            "_view_module": "@jupyter-widgets/controls",
            "_model_module_version": "1.5.0",
            "_view_count": null,
            "_view_module_version": "1.5.0",
            "box_style": "",
            "layout": "IPY_MODEL_e0da5d9746014c83a7bb348f92f71bda",
            "_model_module": "@jupyter-widgets/controls",
            "children": [
              "IPY_MODEL_3eb3591877d546409c4767145d6cd863",
              "IPY_MODEL_8168c471e03d4879b4bb1ec63ba8e0c7"
            ]
          }
        },
        "e0da5d9746014c83a7bb348f92f71bda": {
          "model_module": "@jupyter-widgets/base",
          "model_name": "LayoutModel",
          "state": {
            "_view_name": "LayoutView",
            "grid_template_rows": null,
            "right": null,
            "justify_content": null,
            "_view_module": "@jupyter-widgets/base",
            "overflow": null,
            "_model_module_version": "1.2.0",
            "_view_count": null,
            "flex_flow": null,
            "width": null,
            "min_width": null,
            "border": null,
            "align_items": null,
            "bottom": null,
            "_model_module": "@jupyter-widgets/base",
            "top": null,
            "grid_column": null,
            "overflow_y": null,
            "overflow_x": null,
            "grid_auto_flow": null,
            "grid_area": null,
            "grid_template_columns": null,
            "flex": null,
            "_model_name": "LayoutModel",
            "justify_items": null,
            "grid_row": null,
            "max_height": null,
            "align_content": null,
            "visibility": null,
            "align_self": null,
            "height": null,
            "min_height": null,
            "padding": null,
            "grid_auto_rows": null,
            "grid_gap": null,
            "max_width": null,
            "order": null,
            "_view_module_version": "1.2.0",
            "grid_template_areas": null,
            "object_position": null,
            "object_fit": null,
            "grid_auto_columns": null,
            "margin": null,
            "display": null,
            "left": null
          }
        },
        "3eb3591877d546409c4767145d6cd863": {
          "model_module": "@jupyter-widgets/controls",
          "model_name": "IntProgressModel",
          "state": {
            "_view_name": "ProgressView",
            "style": "IPY_MODEL_7f4b4d1ded5441a187ba1f90fb42fd0b",
            "_dom_classes": [],
            "description": "",
            "_model_name": "IntProgressModel",
            "bar_style": "success",
            "max": 1,
            "_view_module": "@jupyter-widgets/controls",
            "_model_module_version": "1.5.0",
            "value": 1,
            "_view_count": null,
            "_view_module_version": "1.5.0",
            "orientation": "horizontal",
            "min": 0,
            "description_tooltip": null,
            "_model_module": "@jupyter-widgets/controls",
            "layout": "IPY_MODEL_6fc32f6525c54fb3875090d96c735175"
          }
        },
        "8168c471e03d4879b4bb1ec63ba8e0c7": {
          "model_module": "@jupyter-widgets/controls",
          "model_name": "HTMLModel",
          "state": {
            "_view_name": "HTMLView",
            "style": "IPY_MODEL_56bcdae0536448c383ba9ee64b86664c",
            "_dom_classes": [],
            "description": "",
            "_model_name": "HTMLModel",
            "placeholder": "​",
            "_view_module": "@jupyter-widgets/controls",
            "_model_module_version": "1.5.0",
            "value": "1654784it [00:00, 1968133.24it/s]",
            "_view_count": null,
            "_view_module_version": "1.5.0",
            "description_tooltip": null,
            "_model_module": "@jupyter-widgets/controls",
            "layout": "IPY_MODEL_8849f64b2ee94c639c6ec27c69732dba"
          }
        },
        "7f4b4d1ded5441a187ba1f90fb42fd0b": {
          "model_module": "@jupyter-widgets/controls",
          "model_name": "ProgressStyleModel",
          "state": {
            "_view_name": "StyleView",
            "_model_name": "ProgressStyleModel",
            "description_width": "",
            "_view_module": "@jupyter-widgets/base",
            "_model_module_version": "1.5.0",
            "_view_count": null,
            "_view_module_version": "1.2.0",
            "bar_color": null,
            "_model_module": "@jupyter-widgets/controls"
          }
        },
        "6fc32f6525c54fb3875090d96c735175": {
          "model_module": "@jupyter-widgets/base",
          "model_name": "LayoutModel",
          "state": {
            "_view_name": "LayoutView",
            "grid_template_rows": null,
            "right": null,
            "justify_content": null,
            "_view_module": "@jupyter-widgets/base",
            "overflow": null,
            "_model_module_version": "1.2.0",
            "_view_count": null,
            "flex_flow": null,
            "width": null,
            "min_width": null,
            "border": null,
            "align_items": null,
            "bottom": null,
            "_model_module": "@jupyter-widgets/base",
            "top": null,
            "grid_column": null,
            "overflow_y": null,
            "overflow_x": null,
            "grid_auto_flow": null,
            "grid_area": null,
            "grid_template_columns": null,
            "flex": null,
            "_model_name": "LayoutModel",
            "justify_items": null,
            "grid_row": null,
            "max_height": null,
            "align_content": null,
            "visibility": null,
            "align_self": null,
            "height": null,
            "min_height": null,
            "padding": null,
            "grid_auto_rows": null,
            "grid_gap": null,
            "max_width": null,
            "order": null,
            "_view_module_version": "1.2.0",
            "grid_template_areas": null,
            "object_position": null,
            "object_fit": null,
            "grid_auto_columns": null,
            "margin": null,
            "display": null,
            "left": null
          }
        },
        "56bcdae0536448c383ba9ee64b86664c": {
          "model_module": "@jupyter-widgets/controls",
          "model_name": "DescriptionStyleModel",
          "state": {
            "_view_name": "StyleView",
            "_model_name": "DescriptionStyleModel",
            "description_width": "",
            "_view_module": "@jupyter-widgets/base",
            "_model_module_version": "1.5.0",
            "_view_count": null,
            "_view_module_version": "1.2.0",
            "_model_module": "@jupyter-widgets/controls"
          }
        },
        "8849f64b2ee94c639c6ec27c69732dba": {
          "model_module": "@jupyter-widgets/base",
          "model_name": "LayoutModel",
          "state": {
            "_view_name": "LayoutView",
            "grid_template_rows": null,
            "right": null,
            "justify_content": null,
            "_view_module": "@jupyter-widgets/base",
            "overflow": null,
            "_model_module_version": "1.2.0",
            "_view_count": null,
            "flex_flow": null,
            "width": null,
            "min_width": null,
            "border": null,
            "align_items": null,
            "bottom": null,
            "_model_module": "@jupyter-widgets/base",
            "top": null,
            "grid_column": null,
            "overflow_y": null,
            "overflow_x": null,
            "grid_auto_flow": null,
            "grid_area": null,
            "grid_template_columns": null,
            "flex": null,
            "_model_name": "LayoutModel",
            "justify_items": null,
            "grid_row": null,
            "max_height": null,
            "align_content": null,
            "visibility": null,
            "align_self": null,
            "height": null,
            "min_height": null,
            "padding": null,
            "grid_auto_rows": null,
            "grid_gap": null,
            "max_width": null,
            "order": null,
            "_view_module_version": "1.2.0",
            "grid_template_areas": null,
            "object_position": null,
            "object_fit": null,
            "grid_auto_columns": null,
            "margin": null,
            "display": null,
            "left": null
          }
        },
        "861d1ad2a1b944b0b3239d8d9a6adf1e": {
          "model_module": "@jupyter-widgets/controls",
          "model_name": "HBoxModel",
          "state": {
            "_view_name": "HBoxView",
            "_dom_classes": [],
            "_model_name": "HBoxModel",
            "_view_module": "@jupyter-widgets/controls",
            "_model_module_version": "1.5.0",
            "_view_count": null,
            "_view_module_version": "1.5.0",
            "box_style": "",
            "layout": "IPY_MODEL_ca22a82d92244137b152865095530873",
            "_model_module": "@jupyter-widgets/controls",
            "children": [
              "IPY_MODEL_6647783f2f62468caedf842717eb321b",
              "IPY_MODEL_cad59d0d2f2f4c878713f8c63201e71a"
            ]
          }
        },
        "ca22a82d92244137b152865095530873": {
          "model_module": "@jupyter-widgets/base",
          "model_name": "LayoutModel",
          "state": {
            "_view_name": "LayoutView",
            "grid_template_rows": null,
            "right": null,
            "justify_content": null,
            "_view_module": "@jupyter-widgets/base",
            "overflow": null,
            "_model_module_version": "1.2.0",
            "_view_count": null,
            "flex_flow": null,
            "width": null,
            "min_width": null,
            "border": null,
            "align_items": null,
            "bottom": null,
            "_model_module": "@jupyter-widgets/base",
            "top": null,
            "grid_column": null,
            "overflow_y": null,
            "overflow_x": null,
            "grid_auto_flow": null,
            "grid_area": null,
            "grid_template_columns": null,
            "flex": null,
            "_model_name": "LayoutModel",
            "justify_items": null,
            "grid_row": null,
            "max_height": null,
            "align_content": null,
            "visibility": null,
            "align_self": null,
            "height": null,
            "min_height": null,
            "padding": null,
            "grid_auto_rows": null,
            "grid_gap": null,
            "max_width": null,
            "order": null,
            "_view_module_version": "1.2.0",
            "grid_template_areas": null,
            "object_position": null,
            "object_fit": null,
            "grid_auto_columns": null,
            "margin": null,
            "display": null,
            "left": null
          }
        },
        "6647783f2f62468caedf842717eb321b": {
          "model_module": "@jupyter-widgets/controls",
          "model_name": "IntProgressModel",
          "state": {
            "_view_name": "ProgressView",
            "style": "IPY_MODEL_8d1d63f1e3424f1382105b2e847918a8",
            "_dom_classes": [],
            "description": "",
            "_model_name": "IntProgressModel",
            "bar_style": "success",
            "max": 1,
            "_view_module": "@jupyter-widgets/controls",
            "_model_module_version": "1.5.0",
            "value": 1,
            "_view_count": null,
            "_view_module_version": "1.5.0",
            "orientation": "horizontal",
            "min": 0,
            "description_tooltip": null,
            "_model_module": "@jupyter-widgets/controls",
            "layout": "IPY_MODEL_8bed000e717b42b295cf6e62e8bd050b"
          }
        },
        "cad59d0d2f2f4c878713f8c63201e71a": {
          "model_module": "@jupyter-widgets/controls",
          "model_name": "HTMLModel",
          "state": {
            "_view_name": "HTMLView",
            "style": "IPY_MODEL_417d50fee4c546e295091cae3da184a6",
            "_dom_classes": [],
            "description": "",
            "_model_name": "HTMLModel",
            "placeholder": "​",
            "_view_module": "@jupyter-widgets/controls",
            "_model_module_version": "1.5.0",
            "value": "8192it [00:00, 39914.01it/s]",
            "_view_count": null,
            "_view_module_version": "1.5.0",
            "description_tooltip": null,
            "_model_module": "@jupyter-widgets/controls",
            "layout": "IPY_MODEL_532d3608155c48bd9bdee6fab6b1fb26"
          }
        },
        "8d1d63f1e3424f1382105b2e847918a8": {
          "model_module": "@jupyter-widgets/controls",
          "model_name": "ProgressStyleModel",
          "state": {
            "_view_name": "StyleView",
            "_model_name": "ProgressStyleModel",
            "description_width": "",
            "_view_module": "@jupyter-widgets/base",
            "_model_module_version": "1.5.0",
            "_view_count": null,
            "_view_module_version": "1.2.0",
            "bar_color": null,
            "_model_module": "@jupyter-widgets/controls"
          }
        },
        "8bed000e717b42b295cf6e62e8bd050b": {
          "model_module": "@jupyter-widgets/base",
          "model_name": "LayoutModel",
          "state": {
            "_view_name": "LayoutView",
            "grid_template_rows": null,
            "right": null,
            "justify_content": null,
            "_view_module": "@jupyter-widgets/base",
            "overflow": null,
            "_model_module_version": "1.2.0",
            "_view_count": null,
            "flex_flow": null,
            "width": null,
            "min_width": null,
            "border": null,
            "align_items": null,
            "bottom": null,
            "_model_module": "@jupyter-widgets/base",
            "top": null,
            "grid_column": null,
            "overflow_y": null,
            "overflow_x": null,
            "grid_auto_flow": null,
            "grid_area": null,
            "grid_template_columns": null,
            "flex": null,
            "_model_name": "LayoutModel",
            "justify_items": null,
            "grid_row": null,
            "max_height": null,
            "align_content": null,
            "visibility": null,
            "align_self": null,
            "height": null,
            "min_height": null,
            "padding": null,
            "grid_auto_rows": null,
            "grid_gap": null,
            "max_width": null,
            "order": null,
            "_view_module_version": "1.2.0",
            "grid_template_areas": null,
            "object_position": null,
            "object_fit": null,
            "grid_auto_columns": null,
            "margin": null,
            "display": null,
            "left": null
          }
        },
        "417d50fee4c546e295091cae3da184a6": {
          "model_module": "@jupyter-widgets/controls",
          "model_name": "DescriptionStyleModel",
          "state": {
            "_view_name": "StyleView",
            "_model_name": "DescriptionStyleModel",
            "description_width": "",
            "_view_module": "@jupyter-widgets/base",
            "_model_module_version": "1.5.0",
            "_view_count": null,
            "_view_module_version": "1.2.0",
            "_model_module": "@jupyter-widgets/controls"
          }
        },
        "532d3608155c48bd9bdee6fab6b1fb26": {
          "model_module": "@jupyter-widgets/base",
          "model_name": "LayoutModel",
          "state": {
            "_view_name": "LayoutView",
            "grid_template_rows": null,
            "right": null,
            "justify_content": null,
            "_view_module": "@jupyter-widgets/base",
            "overflow": null,
            "_model_module_version": "1.2.0",
            "_view_count": null,
            "flex_flow": null,
            "width": null,
            "min_width": null,
            "border": null,
            "align_items": null,
            "bottom": null,
            "_model_module": "@jupyter-widgets/base",
            "top": null,
            "grid_column": null,
            "overflow_y": null,
            "overflow_x": null,
            "grid_auto_flow": null,
            "grid_area": null,
            "grid_template_columns": null,
            "flex": null,
            "_model_name": "LayoutModel",
            "justify_items": null,
            "grid_row": null,
            "max_height": null,
            "align_content": null,
            "visibility": null,
            "align_self": null,
            "height": null,
            "min_height": null,
            "padding": null,
            "grid_auto_rows": null,
            "grid_gap": null,
            "max_width": null,
            "order": null,
            "_view_module_version": "1.2.0",
            "grid_template_areas": null,
            "object_position": null,
            "object_fit": null,
            "grid_auto_columns": null,
            "margin": null,
            "display": null,
            "left": null
          }
        }
      }
    }
  },
  "cells": [
    {
      "cell_type": "markdown",
      "metadata": {
        "id": "TUtUSEF4GB1j",
        "colab_type": "text"
      },
      "source": [
        "<i><h2><b>Analysis of CODE6</b></h2>\n",
        "\n",
        "<i>\n",
        "\n",
        "---\n",
        "\n",
        "**Target:**\n",
        "\n",
        "1.   Improve Model accuracy to reach stable test accuracy over 99.4\n",
        "2.   Use LR Scheduler to add different learning rates to each Epoch.\n",
        "3.   Change the architecture to make it more efficient.\n",
        "\n",
        "**Results:**\n",
        "\n",
        "1.   Parameters: 8846\n",
        "2.   Best Train Acc: 99.28(13th Epoch)\n",
        "3.   Best Test Acc: 99.45(9th epoch) / 99.42(13th epoch)\n",
        "4.   Difference : No overfitting\n",
        "5.   Epoch - 13\n",
        "\n",
        "**Analysis:**\n",
        "\n",
        "\n",
        "1.   Model gives a consistent test accuracy above 99.40 which seems to be a good sign.\n",
        "\n",
        "\n"
      ]
    },
    {
      "cell_type": "markdown",
      "metadata": {
        "id": "jlpBCBGjx5Qe",
        "colab_type": "text"
      },
      "source": [
        "**Receptive Field Calculation**\n",
        "\n",
        "![image.png](data:image/png;base64,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)"
      ]
    },
    {
      "cell_type": "markdown",
      "metadata": {
        "id": "Ff97MHhy585m",
        "colab_type": "text"
      },
      "source": [
        "**IMPORTS**"
      ]
    },
    {
      "cell_type": "code",
      "metadata": {
        "id": "IbjR0NNq4CGQ",
        "colab_type": "code",
        "colab": {}
      },
      "source": [
        "from __future__ import print_function\n",
        "import torch\n",
        "import torch.nn as nn\n",
        "import torch.nn.functional as F\n",
        "import torch.optim as optim\n",
        "from torchvision import datasets, transforms\n",
        "import numpy as np"
      ],
      "execution_count": 0,
      "outputs": []
    },
    {
      "cell_type": "markdown",
      "metadata": {
        "id": "6ozd89IF6BSA",
        "colab_type": "text"
      },
      "source": [
        "**DEFINE TEST/TRAIN TRANSFORMATIONS**"
      ]
    },
    {
      "cell_type": "code",
      "metadata": {
        "id": "fZrDjgeu4OHp",
        "colab_type": "code",
        "colab": {}
      },
      "source": [
        "# Train Phase transformations\n",
        "train_transforms = transforms.Compose([ \n",
        "                                       #transforms.RandomRotation((-7.0, 7.0), fill=(1,)),\n",
        "                                       transforms.ToTensor(),\n",
        "                                       transforms.Normalize((0.1307,), (0.3081,)) # The mean and std have to be sequences (e.g., tuples), therefore you should add a comma after the values. \n",
        "                                       # Note the difference between (0.1307) and (0.1307,)\n",
        "                                       ])\n",
        "\n",
        "# Test Phase transformations\n",
        "test_transforms = transforms.Compose([\n",
        "                                       transforms.ToTensor(),\n",
        "                                       transforms.Normalize((0.1307,), (0.3081,))\n",
        "                                       ])\n"
      ],
      "execution_count": 0,
      "outputs": []
    },
    {
      "cell_type": "markdown",
      "metadata": {
        "id": "k9GUgjCf6I5P",
        "colab_type": "text"
      },
      "source": [
        "**LOAD MNIST DATA**"
      ]
    },
    {
      "cell_type": "code",
      "metadata": {
        "id": "fnWsraFz4k8N",
        "colab_type": "code",
        "colab": {
          "base_uri": "https://localhost:8080/",
          "height": 383,
          "referenced_widgets": [
            "5c9e4b79405a4f18a4057e2000f937aa",
            "a830afb1a01548bc8ee758deb81f7572",
            "b96c31b21cf2453c8a9e1c64a623f29e",
            "d7abae8c06b142d78fe075784c6d1e2b",
            "61d8846708dc4e3c8379413f44846365",
            "79258b81ace244069bd449a70c0479d8",
            "d241a1aad85c45ada4a439f3d744cefb",
            "87049c3f450e4de693f8f20749c60d68",
            "82e5f86ab8a144ea89dc3a52363e8449",
            "5dc8b7acf49046589cbbb2c2878ca86e",
            "7a02ff7cdd344e599d217a0d15d78084",
            "c84c3df5de904c5f849f9fbca0087fdd",
            "65f1fb4071db4c0e9dfd292b3349c19a",
            "01a0242497de482ba8c15625f9a94358",
            "5df8ad3696334c5c8e34df6ff6c0b8d4",
            "dca6d66876524f1f8ba320af69088975",
            "1bd52a4600bd4789abb017e1b74deb30",
            "e0da5d9746014c83a7bb348f92f71bda",
            "3eb3591877d546409c4767145d6cd863",
            "8168c471e03d4879b4bb1ec63ba8e0c7",
            "7f4b4d1ded5441a187ba1f90fb42fd0b",
            "6fc32f6525c54fb3875090d96c735175",
            "56bcdae0536448c383ba9ee64b86664c",
            "8849f64b2ee94c639c6ec27c69732dba",
            "861d1ad2a1b944b0b3239d8d9a6adf1e",
            "ca22a82d92244137b152865095530873",
            "6647783f2f62468caedf842717eb321b",
            "cad59d0d2f2f4c878713f8c63201e71a",
            "8d1d63f1e3424f1382105b2e847918a8",
            "8bed000e717b42b295cf6e62e8bd050b",
            "417d50fee4c546e295091cae3da184a6",
            "532d3608155c48bd9bdee6fab6b1fb26"
          ]
        },
        "outputId": "35ee1ff1-49be-42c3-eec4-b4c25acd4989"
      },
      "source": [
        "train = datasets.MNIST('./data', train=True, transform=train_transforms, download=True)\n",
        "test = datasets.MNIST('./data',train=False, transform=test_transforms, download=True)\n"
      ],
      "execution_count": 3,
      "outputs": [
        {
          "output_type": "stream",
          "text": [
            "Downloading http://yann.lecun.com/exdb/mnist/train-images-idx3-ubyte.gz to ./data/MNIST/raw/train-images-idx3-ubyte.gz\n"
          ],
          "name": "stdout"
        },
        {
          "output_type": "display_data",
          "data": {
            "application/vnd.jupyter.widget-view+json": {
              "model_id": "5c9e4b79405a4f18a4057e2000f937aa",
              "version_minor": 0,
              "version_major": 2
            },
            "text/plain": [
              "HBox(children=(IntProgress(value=1, bar_style='info', max=1), HTML(value='')))"
            ]
          },
          "metadata": {
            "tags": []
          }
        },
        {
          "output_type": "stream",
          "text": [
            "\n",
            "Extracting ./data/MNIST/raw/train-images-idx3-ubyte.gz to ./data/MNIST/raw\n",
            "Downloading http://yann.lecun.com/exdb/mnist/train-labels-idx1-ubyte.gz to ./data/MNIST/raw/train-labels-idx1-ubyte.gz\n"
          ],
          "name": "stdout"
        },
        {
          "output_type": "display_data",
          "data": {
            "application/vnd.jupyter.widget-view+json": {
              "model_id": "82e5f86ab8a144ea89dc3a52363e8449",
              "version_minor": 0,
              "version_major": 2
            },
            "text/plain": [
              "HBox(children=(IntProgress(value=1, bar_style='info', max=1), HTML(value='')))"
            ]
          },
          "metadata": {
            "tags": []
          }
        },
        {
          "output_type": "stream",
          "text": [
            "\n",
            "Extracting ./data/MNIST/raw/train-labels-idx1-ubyte.gz to ./data/MNIST/raw\n",
            "Downloading http://yann.lecun.com/exdb/mnist/t10k-images-idx3-ubyte.gz to ./data/MNIST/raw/t10k-images-idx3-ubyte.gz\n"
          ],
          "name": "stdout"
        },
        {
          "output_type": "display_data",
          "data": {
            "application/vnd.jupyter.widget-view+json": {
              "model_id": "1bd52a4600bd4789abb017e1b74deb30",
              "version_minor": 0,
              "version_major": 2
            },
            "text/plain": [
              "HBox(children=(IntProgress(value=1, bar_style='info', max=1), HTML(value='')))"
            ]
          },
          "metadata": {
            "tags": []
          }
        },
        {
          "output_type": "stream",
          "text": [
            "\n",
            "Extracting ./data/MNIST/raw/t10k-images-idx3-ubyte.gz to ./data/MNIST/raw\n",
            "Downloading http://yann.lecun.com/exdb/mnist/t10k-labels-idx1-ubyte.gz to ./data/MNIST/raw/t10k-labels-idx1-ubyte.gz\n"
          ],
          "name": "stdout"
        },
        {
          "output_type": "display_data",
          "data": {
            "application/vnd.jupyter.widget-view+json": {
              "model_id": "861d1ad2a1b944b0b3239d8d9a6adf1e",
              "version_minor": 0,
              "version_major": 2
            },
            "text/plain": [
              "HBox(children=(IntProgress(value=1, bar_style='info', max=1), HTML(value='')))"
            ]
          },
          "metadata": {
            "tags": []
          }
        },
        {
          "output_type": "stream",
          "text": [
            "\n",
            "Extracting ./data/MNIST/raw/t10k-labels-idx1-ubyte.gz to ./data/MNIST/raw\n",
            "Processing...\n",
            "Done!\n"
          ],
          "name": "stdout"
        }
      ]
    },
    {
      "cell_type": "markdown",
      "metadata": {
        "id": "F0eyGuTa55iD",
        "colab_type": "text"
      },
      "source": [
        "**DATA LOADERS**"
      ]
    },
    {
      "cell_type": "code",
      "metadata": {
        "id": "Stbxb7N55zJ5",
        "colab_type": "code",
        "outputId": "899d2b0f-bfe8-4a6f-f879-3ad0d8c38f3d",
        "colab": {
          "base_uri": "https://localhost:8080/",
          "height": 34
        }
      },
      "source": [
        "SEED = 1\n",
        "np.random.seed(42)\n",
        "torch.manual_seed(1)\n",
        "\n",
        "#check for cuda\n",
        "cuda = torch.cuda.is_available()\n",
        "print('cuda available', cuda)\n",
        "\n",
        "if cuda:\n",
        "  torch.cuda.manual_seed(1)\n",
        "\n",
        "#dataloader arguments\n",
        "dataloader_args = dict(shuffle=True, batch_size=64, num_workers=4, pin_memory=True) if cuda else dict(shuffle=True, batch_size=64)\n",
        "\n",
        "#train dataloader\n",
        "train_loader = torch.utils.data.DataLoader(train, **dataloader_args)\n",
        "\n",
        "#test dataloader\n",
        "test_loader = torch.utils.data.DataLoader(test, **dataloader_args)"
      ],
      "execution_count": 4,
      "outputs": [
        {
          "output_type": "stream",
          "text": [
            "cuda available True\n"
          ],
          "name": "stdout"
        }
      ]
    },
    {
      "cell_type": "markdown",
      "metadata": {
        "id": "zExuS7aOBLwC",
        "colab_type": "text"
      },
      "source": [
        "**Data Stats**"
      ]
    },
    {
      "cell_type": "code",
      "metadata": {
        "id": "EZwSgUio67QG",
        "colab_type": "code",
        "outputId": "a0e05417-14b0-4d1a-e367-ff22b1106d9c",
        "colab": {
          "base_uri": "https://localhost:8080/",
          "height": 51
        }
      },
      "source": [
        "# We'd need to convert it into Numpy! Remember above we have converted it into tensors already\n",
        "# train_data = train.train_data\n",
        "# train_data = train.transform(train_data.numpy())\n",
        "\n",
        "# print('[Train]')\n",
        "# print(' - Numpy Shape:', train.train_data.cpu().numpy().shape)\n",
        "# print(' - Tensor Shape:', train.train_data.size())\n",
        "# print(' - min:', torch.min(train_data))\n",
        "# print(' - max:', torch.max(train_data))\n",
        "# print(' - mean:', torch.mean(train_data))\n",
        "# print(' - std:', torch.std(train_data))\n",
        "# print(' - var:', torch.var(train_data))\n",
        "\n",
        "dataiter = iter(train_loader)\n",
        "images, labels = dataiter.next()\n",
        "\n",
        "print(images.shape)\n",
        "print(labels.shape)"
      ],
      "execution_count": 5,
      "outputs": [
        {
          "output_type": "stream",
          "text": [
            "torch.Size([64, 1, 28, 28])\n",
            "torch.Size([64])\n"
          ],
          "name": "stdout"
        }
      ]
    },
    {
      "cell_type": "markdown",
      "metadata": {
        "id": "0apyJwaOCF7Q",
        "colab_type": "text"
      },
      "source": [
        "**MODEL**"
      ]
    },
    {
      "cell_type": "code",
      "metadata": {
        "id": "tCLObrroBHpC",
        "colab_type": "code",
        "colab": {}
      },
      "source": [
        "class Net(nn.Module):\n",
        "     def __init__(self):\n",
        "       super(Net, self).__init__()\n",
        "       #Input block\n",
        "       self.convblock1 = nn.Sequential(\n",
        "            nn.Conv2d(in_channels=1, out_channels=10, kernel_size=(3, 3), padding=0, bias=False),\n",
        "            nn.ReLU(),\n",
        "            nn.BatchNorm2d(10),\n",
        "            nn.Dropout(0.01)\n",
        "       ) # output_size = 26\n",
        "\n",
        "       #CONV BLOCK 1\n",
        "       self.convblock2 = nn.Sequential(\n",
        "            nn.Conv2d(in_channels=10, out_channels=12, kernel_size=(3, 3), padding=0, bias=False),\n",
        "            nn.ReLU(),\n",
        "            nn.BatchNorm2d(12),\n",
        "            nn.Dropout(0.05)\n",
        "       ) # output_size = 24\n",
        "\n",
        "       self.convblock3 = nn.Sequential(\n",
        "            nn.Conv2d(in_channels=12, out_channels=12, kernel_size=(3,3), padding=0, bias=False),\n",
        "            nn.ReLU(),\n",
        "            nn.BatchNorm2d(12),\n",
        "            nn.Dropout(0.05)\n",
        "       ) #output size = 22\n",
        "      \n",
        "       #TRANSITION BLOCK\n",
        "       self.pool1 = nn.MaxPool2d((2,2))  #out = 11\n",
        "       self.convblock4 = nn.Sequential(\n",
        "            nn.Conv2d(in_channels=12, out_channels=10, kernel_size=(1,1),padding=0, bias=False),\n",
        "            nn.ReLU(),\n",
        "            nn.BatchNorm2d(10),\n",
        "            nn.Dropout(0.05)\n",
        "       ) #output = 11\n",
        "\n",
        "       #CONV BLOCK 2\n",
        "       self.convblock5 = nn.Sequential(\n",
        "            nn.Conv2d(in_channels=10, out_channels=12, kernel_size=(3, 3), padding=0, bias=False),\n",
        "            nn.ReLU(),\n",
        "            nn.BatchNorm2d(12),\n",
        "            nn.Dropout(0.05)\n",
        "       ) # output_size = 9\n",
        "\n",
        "       self.convblock6 = nn.Sequential(\n",
        "            nn.Conv2d(in_channels=12, out_channels=12, kernel_size=(3,3), padding=1, bias=False),\n",
        "            nn.ReLU(),\n",
        "            nn.BatchNorm2d(12),\n",
        "            nn.Dropout(0.05)\n",
        "       ) #out = 9\n",
        "\n",
        "       self.pool2 = nn.MaxPool2d((2,2)) #out = 4\n",
        "       self.convblock7 = nn.Sequential(\n",
        "            nn.Conv2d(in_channels=12, out_channels=14, kernel_size=(3,3), padding=1, bias=False),\n",
        "            nn.ReLU(),\n",
        "            nn.BatchNorm2d(14),\n",
        "            nn.Dropout(0.05)\n",
        "       ) #out = 4\n",
        "\n",
        "       self.convblock71 = nn.Sequential(\n",
        "            nn.Conv2d(in_channels=14, out_channels=16, kernel_size=(3,3), padding=0, bias=False),\n",
        "            nn.ReLU(),\n",
        "            nn.BatchNorm2d(16),\n",
        "            nn.Dropout(0.1)\n",
        "       ) #out = 2\n",
        "\n",
        "       #OUTPUT BLOCK\n",
        "\n",
        "       self.convblock8 = nn.Sequential(\n",
        "            nn.Conv2d(in_channels=16, out_channels=10, kernel_size=(1,1), padding=0, bias=False)\n",
        "            #nn.ReLU()\n",
        "       ) #out = 2\n",
        "\n",
        "       self.gap = nn.Sequential(\n",
        "            nn.AvgPool2d(kernel_size=2)\n",
        "        ) # output_size = 1\n",
        "\n",
        "\n",
        "     def forward(self, x):\n",
        "       x = self.convblock1(x)\n",
        "       x = self.convblock2(x)\n",
        "       x = self.convblock3(x)\n",
        "       x = self.pool1(x)\n",
        "       x = self.convblock4(x)\n",
        "       x = self.convblock5(x)\n",
        "       x = self.convblock6(x)\n",
        "       x = self.pool2(x)\n",
        "       x = self.convblock7(x)\n",
        "       x = self.convblock71(x)\n",
        "       x = self.convblock8(x)\n",
        "       x = self.gap(x)\n",
        "       x = x.view(-1, 10)\n",
        "       return F.log_softmax(x, dim=-1)"
      ],
      "execution_count": 0,
      "outputs": []
    },
    {
      "cell_type": "markdown",
      "metadata": {
        "id": "GR1s2wWlyESw",
        "colab_type": "text"
      },
      "source": [
        "![image.png](data:image/png;base64,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)"
      ]
    },
    {
      "cell_type": "code",
      "metadata": {
        "id": "MxBIa8DsBRw9",
        "colab_type": "code",
        "outputId": "d62e1041-4f94-4727-b1a0-a64af8cb1e64",
        "colab": {
          "base_uri": "https://localhost:8080/",
          "height": 867
        }
      },
      "source": [
        "from torchsummary import summary\n",
        "use_cuda = torch.cuda.is_available()\n",
        "device = torch.device(\"cuda\" if use_cuda else \"cpu\")\n",
        "print(device)\n",
        "model = Net().to(device)\n",
        "summary(model, input_size=(1, 28, 28))"
      ],
      "execution_count": 12,
      "outputs": [
        {
          "output_type": "stream",
          "text": [
            "cuda\n",
            "----------------------------------------------------------------\n",
            "        Layer (type)               Output Shape         Param #\n",
            "================================================================\n",
            "            Conv2d-1           [-1, 10, 26, 26]              90\n",
            "              ReLU-2           [-1, 10, 26, 26]               0\n",
            "       BatchNorm2d-3           [-1, 10, 26, 26]              20\n",
            "           Dropout-4           [-1, 10, 26, 26]               0\n",
            "            Conv2d-5           [-1, 12, 24, 24]           1,080\n",
            "              ReLU-6           [-1, 12, 24, 24]               0\n",
            "       BatchNorm2d-7           [-1, 12, 24, 24]              24\n",
            "           Dropout-8           [-1, 12, 24, 24]               0\n",
            "            Conv2d-9           [-1, 12, 22, 22]           1,296\n",
            "             ReLU-10           [-1, 12, 22, 22]               0\n",
            "      BatchNorm2d-11           [-1, 12, 22, 22]              24\n",
            "          Dropout-12           [-1, 12, 22, 22]               0\n",
            "        MaxPool2d-13           [-1, 12, 11, 11]               0\n",
            "           Conv2d-14           [-1, 10, 11, 11]             120\n",
            "             ReLU-15           [-1, 10, 11, 11]               0\n",
            "      BatchNorm2d-16           [-1, 10, 11, 11]              20\n",
            "          Dropout-17           [-1, 10, 11, 11]               0\n",
            "           Conv2d-18             [-1, 12, 9, 9]           1,080\n",
            "             ReLU-19             [-1, 12, 9, 9]               0\n",
            "      BatchNorm2d-20             [-1, 12, 9, 9]              24\n",
            "          Dropout-21             [-1, 12, 9, 9]               0\n",
            "           Conv2d-22             [-1, 12, 9, 9]           1,296\n",
            "             ReLU-23             [-1, 12, 9, 9]               0\n",
            "      BatchNorm2d-24             [-1, 12, 9, 9]              24\n",
            "          Dropout-25             [-1, 12, 9, 9]               0\n",
            "        MaxPool2d-26             [-1, 12, 4, 4]               0\n",
            "           Conv2d-27             [-1, 14, 4, 4]           1,512\n",
            "             ReLU-28             [-1, 14, 4, 4]               0\n",
            "      BatchNorm2d-29             [-1, 14, 4, 4]              28\n",
            "          Dropout-30             [-1, 14, 4, 4]               0\n",
            "           Conv2d-31             [-1, 16, 2, 2]           2,016\n",
            "             ReLU-32             [-1, 16, 2, 2]               0\n",
            "      BatchNorm2d-33             [-1, 16, 2, 2]              32\n",
            "          Dropout-34             [-1, 16, 2, 2]               0\n",
            "           Conv2d-35             [-1, 10, 2, 2]             160\n",
            "        AvgPool2d-36             [-1, 10, 1, 1]               0\n",
            "================================================================\n",
            "Total params: 8,846\n",
            "Trainable params: 8,846\n",
            "Non-trainable params: 0\n",
            "----------------------------------------------------------------\n",
            "Input size (MB): 0.00\n",
            "Forward/backward pass size (MB): 0.71\n",
            "Params size (MB): 0.03\n",
            "Estimated Total Size (MB): 0.75\n",
            "----------------------------------------------------------------\n"
          ],
          "name": "stdout"
        }
      ]
    },
    {
      "cell_type": "markdown",
      "metadata": {
        "id": "GD0R232QL1e5",
        "colab_type": "text"
      },
      "source": [
        "**Define Train/Test functions with loss and accuracy calculations**"
      ]
    },
    {
      "cell_type": "code",
      "metadata": {
        "id": "G3JJub4eBRrZ",
        "colab_type": "code",
        "colab": {}
      },
      "source": [
        "from tqdm import tqdm\n",
        "\n",
        "train_losses = []\n",
        "test_losses = []\n",
        "train_acc = []\n",
        "test_acc = []\n",
        "\n",
        "def train(model, device, train_loader, optimizer, epoch):\n",
        "  model.train()\n",
        "  pbar = tqdm(train_loader)\n",
        "  correct = 0\n",
        "  processed = 0\n",
        "  for batch_idx, (data, target) in enumerate(pbar):\n",
        "    # get samples\n",
        "    data, target = data.to(device), target.to(device)\n",
        "\n",
        "    # Init\n",
        "    optimizer.zero_grad()\n",
        "    # In PyTorch, we need to set the gradients to zero before starting to do backpropragation because PyTorch accumulates the gradients on subsequent backward passes. \n",
        "    # Because of this, when you start your training loop, ideally you should zero out the gradients so that you do the parameter update correctly.\n",
        "\n",
        "    # Predict\n",
        "    y_pred = model(data)\n",
        "\n",
        "    # Calculate loss\n",
        "    loss = F.nll_loss(y_pred, target)\n",
        "    train_losses.append(loss)\n",
        "\n",
        "    # Backpropagation\n",
        "    loss.backward()\n",
        "    optimizer.step()\n",
        "\n",
        "    # Update pbar-tqdm\n",
        "    \n",
        "    pred = y_pred.argmax(dim=1, keepdim=True)  # get the index of the max log-probability\n",
        "    correct += pred.eq(target.view_as(pred)).sum().item()\n",
        "    processed += len(data)\n",
        "\n",
        "    pbar.set_description(desc= f'Loss={loss.item()} Batch_id={batch_idx} Accuracy={100*correct/processed:0.2f}')\n",
        "    train_acc.append(100*correct/processed)\n",
        "\n",
        "def test(model, device, test_loader):\n",
        "    model.eval()\n",
        "    test_loss = 0\n",
        "    correct = 0\n",
        "    with torch.no_grad():\n",
        "        for data, target in test_loader:\n",
        "            data, target = data.to(device), target.to(device)\n",
        "            output = model(data)\n",
        "            test_loss += F.nll_loss(output, target, reduction='sum').item()  # sum up batch loss\n",
        "            pred = output.argmax(dim=1, keepdim=True)  # get the index of the max log-probability\n",
        "            correct += pred.eq(target.view_as(pred)).sum().item()\n",
        "\n",
        "    test_loss /= len(test_loader.dataset)\n",
        "    test_losses.append(test_loss)\n",
        "\n",
        "    print('\\nTest set: Average loss: {:.4f}, Accuracy: {}/{} ({:.2f}%)\\n'.format(\n",
        "        test_loss, correct, len(test_loader.dataset),\n",
        "        100. * correct / len(test_loader.dataset)))\n",
        "    \n",
        "    test_acc.append(100. * correct / len(test_loader.dataset))"
      ],
      "execution_count": 0,
      "outputs": []
    },
    {
      "cell_type": "markdown",
      "metadata": {
        "id": "JbZRq07iMGpq",
        "colab_type": "text"
      },
      "source": [
        "**Training the MODEL with validation accuracy check**"
      ]
    },
    {
      "cell_type": "code",
      "metadata": {
        "id": "s_UWvGKCBRmk",
        "colab_type": "code",
        "outputId": "22e8835d-6cd9-4a61-8895-82e49ebd828a",
        "colab": {
          "base_uri": "https://localhost:8080/",
          "height": 1000
        }
      },
      "source": [
        "from torch.optim.lr_scheduler import StepLR\n",
        "\n",
        "model =  Net().to(device)\n",
        "optimizer = optim.SGD(model.parameters(), lr=0.01, momentum=0.9)\n",
        "scheduler = StepLR(optimizer, step_size=5, gamma=0.1)\n",
        "\n",
        "EPOCHS = 13\n",
        "for epoch in range(EPOCHS):\n",
        "    print(\"EPOCH:\", epoch)\n",
        "    train(model, device, train_loader, optimizer, epoch)\n",
        "    test(model, device, test_loader)\n",
        "    scheduler.step()\n",
        "    print('')    "
      ],
      "execution_count": 14,
      "outputs": [
        {
          "output_type": "stream",
          "text": [
            "\r  0%|          | 0/938 [00:00<?, ?it/s]"
          ],
          "name": "stderr"
        },
        {
          "output_type": "stream",
          "text": [
            "EPOCH: 0\n"
          ],
          "name": "stdout"
        },
        {
          "output_type": "stream",
          "text": [
            "Loss=0.006024077534675598 Batch_id=937 Accuracy=94.79: 100%|██████████| 938/938 [00:18<00:00, 51.75it/s]\n",
            "  0%|          | 0/938 [00:00<?, ?it/s]"
          ],
          "name": "stderr"
        },
        {
          "output_type": "stream",
          "text": [
            "\n",
            "Test set: Average loss: 0.0489, Accuracy: 9854/10000 (98.54%)\n",
            "\n",
            "\n",
            "EPOCH: 1\n"
          ],
          "name": "stdout"
        },
        {
          "output_type": "stream",
          "text": [
            "Loss=0.017176061868667603 Batch_id=937 Accuracy=98.00: 100%|██████████| 938/938 [00:18<00:00, 52.07it/s]\n",
            "  0%|          | 0/938 [00:00<?, ?it/s]"
          ],
          "name": "stderr"
        },
        {
          "output_type": "stream",
          "text": [
            "\n",
            "Test set: Average loss: 0.0319, Accuracy: 9907/10000 (99.07%)\n",
            "\n",
            "\n",
            "EPOCH: 2\n"
          ],
          "name": "stdout"
        },
        {
          "output_type": "stream",
          "text": [
            "Loss=0.07757099717855453 Batch_id=937 Accuracy=98.39: 100%|██████████| 938/938 [00:17<00:00, 52.30it/s]\n",
            "  0%|          | 0/938 [00:00<?, ?it/s]"
          ],
          "name": "stderr"
        },
        {
          "output_type": "stream",
          "text": [
            "\n",
            "Test set: Average loss: 0.0292, Accuracy: 9910/10000 (99.10%)\n",
            "\n",
            "\n",
            "EPOCH: 3\n"
          ],
          "name": "stdout"
        },
        {
          "output_type": "stream",
          "text": [
            "Loss=0.023600101470947266 Batch_id=937 Accuracy=98.62: 100%|██████████| 938/938 [00:18<00:00, 51.80it/s]\n",
            "  0%|          | 0/938 [00:00<?, ?it/s]"
          ],
          "name": "stderr"
        },
        {
          "output_type": "stream",
          "text": [
            "\n",
            "Test set: Average loss: 0.0289, Accuracy: 9907/10000 (99.07%)\n",
            "\n",
            "\n",
            "EPOCH: 4\n"
          ],
          "name": "stdout"
        },
        {
          "output_type": "stream",
          "text": [
            "Loss=0.006685391068458557 Batch_id=937 Accuracy=98.74: 100%|██████████| 938/938 [00:18<00:00, 50.60it/s]\n",
            "  0%|          | 0/938 [00:00<?, ?it/s]"
          ],
          "name": "stderr"
        },
        {
          "output_type": "stream",
          "text": [
            "\n",
            "Test set: Average loss: 0.0301, Accuracy: 9912/10000 (99.12%)\n",
            "\n",
            "\n",
            "EPOCH: 5\n"
          ],
          "name": "stdout"
        },
        {
          "output_type": "stream",
          "text": [
            "Loss=0.00912390649318695 Batch_id=937 Accuracy=99.08: 100%|██████████| 938/938 [00:18<00:00, 64.16it/s]\n",
            "  0%|          | 0/938 [00:00<?, ?it/s]"
          ],
          "name": "stderr"
        },
        {
          "output_type": "stream",
          "text": [
            "\n",
            "Test set: Average loss: 0.0208, Accuracy: 9935/10000 (99.35%)\n",
            "\n",
            "\n",
            "EPOCH: 6\n"
          ],
          "name": "stdout"
        },
        {
          "output_type": "stream",
          "text": [
            "Loss=0.015221327543258667 Batch_id=937 Accuracy=99.14: 100%|██████████| 938/938 [00:18<00:00, 50.59it/s]\n",
            "  0%|          | 0/938 [00:00<?, ?it/s]"
          ],
          "name": "stderr"
        },
        {
          "output_type": "stream",
          "text": [
            "\n",
            "Test set: Average loss: 0.0199, Accuracy: 9943/10000 (99.43%)\n",
            "\n",
            "\n",
            "EPOCH: 7\n"
          ],
          "name": "stdout"
        },
        {
          "output_type": "stream",
          "text": [
            "Loss=0.0020703375339508057 Batch_id=937 Accuracy=99.17: 100%|██████████| 938/938 [00:19<00:00, 49.11it/s]\n",
            "  0%|          | 0/938 [00:00<?, ?it/s]"
          ],
          "name": "stderr"
        },
        {
          "output_type": "stream",
          "text": [
            "\n",
            "Test set: Average loss: 0.0201, Accuracy: 9942/10000 (99.42%)\n",
            "\n",
            "\n",
            "EPOCH: 8\n"
          ],
          "name": "stdout"
        },
        {
          "output_type": "stream",
          "text": [
            "Loss=0.005460426211357117 Batch_id=937 Accuracy=99.19: 100%|██████████| 938/938 [00:19<00:00, 48.48it/s]\n",
            "  0%|          | 0/938 [00:00<?, ?it/s]"
          ],
          "name": "stderr"
        },
        {
          "output_type": "stream",
          "text": [
            "\n",
            "Test set: Average loss: 0.0203, Accuracy: 9945/10000 (99.45%)\n",
            "\n",
            "\n",
            "EPOCH: 9\n"
          ],
          "name": "stdout"
        },
        {
          "output_type": "stream",
          "text": [
            "Loss=0.013973012566566467 Batch_id=937 Accuracy=99.22: 100%|██████████| 938/938 [00:18<00:00, 49.49it/s]\n",
            "  0%|          | 0/938 [00:00<?, ?it/s]"
          ],
          "name": "stderr"
        },
        {
          "output_type": "stream",
          "text": [
            "\n",
            "Test set: Average loss: 0.0201, Accuracy: 9941/10000 (99.41%)\n",
            "\n",
            "\n",
            "EPOCH: 10\n"
          ],
          "name": "stdout"
        },
        {
          "output_type": "stream",
          "text": [
            "Loss=0.04891825467348099 Batch_id=937 Accuracy=99.27: 100%|██████████| 938/938 [00:19<00:00, 47.72it/s]\n",
            "  0%|          | 0/938 [00:00<?, ?it/s]"
          ],
          "name": "stderr"
        },
        {
          "output_type": "stream",
          "text": [
            "\n",
            "Test set: Average loss: 0.0207, Accuracy: 9942/10000 (99.42%)\n",
            "\n",
            "\n",
            "EPOCH: 11\n"
          ],
          "name": "stdout"
        },
        {
          "output_type": "stream",
          "text": [
            "Loss=0.01697532832622528 Batch_id=937 Accuracy=99.27: 100%|██████████| 938/938 [00:18<00:00, 49.75it/s]\n",
            "  0%|          | 0/938 [00:00<?, ?it/s]"
          ],
          "name": "stderr"
        },
        {
          "output_type": "stream",
          "text": [
            "\n",
            "Test set: Average loss: 0.0199, Accuracy: 9943/10000 (99.43%)\n",
            "\n",
            "\n",
            "EPOCH: 12\n"
          ],
          "name": "stdout"
        },
        {
          "output_type": "stream",
          "text": [
            "Loss=0.11147846281528473 Batch_id=937 Accuracy=99.28: 100%|██████████| 938/938 [00:18<00:00, 51.78it/s]\n"
          ],
          "name": "stderr"
        },
        {
          "output_type": "stream",
          "text": [
            "\n",
            "Test set: Average loss: 0.0199, Accuracy: 9942/10000 (99.42%)\n",
            "\n",
            "\n"
          ],
          "name": "stdout"
        }
      ]
    },
    {
      "cell_type": "code",
      "metadata": {
        "id": "Deu5dBoZBRkh",
        "colab_type": "code",
        "outputId": "37357faa-f3c3-42c6-ac3e-a419c3b68bf0",
        "colab": {
          "base_uri": "https://localhost:8080/",
          "height": 624
        }
      },
      "source": [
        "import matplotlib.pyplot as plt\n",
        "\n",
        "fig, axs = plt.subplots(2,2,figsize=(15,10))\n",
        "axs[0, 0].plot(train_losses)\n",
        "axs[0, 0].set_title(\"Training Loss\")\n",
        "axs[1, 0].plot(train_acc)\n",
        "axs[1, 0].set_title(\"Training Accuracy\")\n",
        "axs[0, 1].plot(test_losses)\n",
        "axs[0, 1].set_title(\"Test Loss\")\n",
        "axs[1, 1].plot(test_acc)\n",
        "axs[1, 1].set_title(\"Test Accuracy\")"
      ],
      "execution_count": 15,
      "outputs": [
        {
          "output_type": "execute_result",
          "data": {
            "text/plain": [
              "Text(0.5, 1.0, 'Test Accuracy')"
            ]
          },
          "metadata": {
            "tags": []
          },
          "execution_count": 15
        },
        {
          "output_type": "display_data",
          "data": {
            "image/png": "[encoded data removed]",
            "text/plain": [
              "<Figure size 1080x720 with 4 Axes>"
            ]
          },
          "metadata": {
            "tags": []
          }
        }
      ]
    },
    {
      "cell_type": "code",
      "metadata": {
        "id": "lJO9rnvSBRiY",
        "colab_type": "code",
        "colab": {}
      },
      "source": [
        ""
      ],
      "execution_count": 0,
      "outputs": []
    },
    {
      "cell_type": "code",
      "metadata": {
        "id": "acaRSQ5EBRdn",
        "colab_type": "code",
        "colab": {}
      },
      "source": [
        ""
      ],
      "execution_count": 0,
      "outputs": []
    },
    {
      "cell_type": "code",
      "metadata": {
        "id": "tanCsUJrBRbR",
        "colab_type": "code",
        "colab": {}
      },
      "source": [
        ""
      ],
      "execution_count": 0,
      "outputs": []
    },
    {
      "cell_type": "code",
      "metadata": {
        "id": "iseRnQleBRUR",
        "colab_type": "code",
        "colab": {}
      },
      "source": [
        ""
      ],
      "execution_count": 0,
      "outputs": []
    },
    {
      "cell_type": "code",
      "metadata": {
        "id": "PPk3J9XKBRPS",
        "colab_type": "code",
        "colab": {}
      },
      "source": [
        ""
      ],
      "execution_count": 0,
      "outputs": []
    }
  ]
}