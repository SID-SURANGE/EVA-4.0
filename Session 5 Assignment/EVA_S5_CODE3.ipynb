{
  "nbformat": 4,
  "nbformat_minor": 0,
  "metadata": {
    "colab": {
      "name": "EVA S5 CODE3.ipynb",
      "provenance": [],
      "collapsed_sections": []
    },
    "kernelspec": {
      "name": "python3",
      "display_name": "Python 3"
    },
    "accelerator": "GPU"
  },
  "cells": [
    {
      "cell_type": "markdown",
      "metadata": {
        "id": "TUtUSEF4GB1j",
        "colab_type": "text"
      },
      "source": [
        "<h1><i><b>Analysis of CODE3</b></i></h1>\n",
        "<i>\n",
        "\n",
        "---\n",
        "\n",
        "\n",
        "**Target:**\n",
        "\n",
        "\n",
        "1.   Training the model under **less iterations** and restructuring the architecture for **less trainiable parameters** or complexity.\n",
        "2.   Removing the large kernel in last layer and replacing it with **GAP**.\n",
        "\n",
        "\n",
        "\n",
        "**Results:**\n",
        "\n",
        "1.   Parameters: 8710\n",
        "2.   Best Train Acc: 99.09(15th epoch)\n",
        "3.   Best Test Acc: 98.90(13th epoch) and 98.74(in 15 th epoch)\n",
        "4.   Difference : More train accuracy - Small overfit scenario\n",
        "5.   Epoch - 15\n",
        "\n",
        "\n",
        "\n",
        "**Analysis:**\n",
        "\n",
        "1.   Model looks a bit overfit.\n",
        "2.   Architecture looks simple overall and can be improved upon to attain good accuracy and prevent overfitting.\n",
        "\n"
      ]
    },
    {
      "cell_type": "markdown",
      "metadata": {
        "id": "JKedd0MUpSWG",
        "colab_type": "text"
      },
      "source": [
        "**RF Calculation**\n",
        "\n",
        "```\n",
        "![image.png](data:image/png;base64,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)"
      ]
    },
    {
      "cell_type": "markdown",
      "metadata": {
        "id": "Ff97MHhy585m",
        "colab_type": "text"
      },
      "source": [
        "**IMPORTS**"
      ]
    },
    {
      "cell_type": "code",
      "metadata": {
        "id": "IbjR0NNq4CGQ",
        "colab_type": "code",
        "colab": {}
      },
      "source": [
        "from __future__ import print_function\n",
        "import torch\n",
        "import torch.nn as nn\n",
        "import torch.nn.functional as F\n",
        "import torch.optim as optim\n",
        "from torchvision import datasets, transforms\n",
        "import numpy as np"
      ],
      "execution_count": 0,
      "outputs": []
    },
    {
      "cell_type": "markdown",
      "metadata": {
        "id": "6ozd89IF6BSA",
        "colab_type": "text"
      },
      "source": [
        "**DEFINE TEST/TRAIN TRANSFORMATIONS**"
      ]
    },
    {
      "cell_type": "code",
      "metadata": {
        "id": "fZrDjgeu4OHp",
        "colab_type": "code",
        "colab": {}
      },
      "source": [
        "# Train Phase transformations\n",
        "train_transforms = transforms.Compose([\n",
        "                                       transforms.ToTensor(),\n",
        "                                       transforms.Normalize((0.1307,), (0.3081,)) # The mean and std have to be sequences (e.g., tuples), therefore you should add a comma after the values. \n",
        "                                       # Note the difference between (0.1307) and (0.1307,)\n",
        "                                       ])\n",
        "\n",
        "# Test Phase transformations\n",
        "test_transforms = transforms.Compose([\n",
        "                                       transforms.ToTensor(),\n",
        "                                       transforms.Normalize((0.1307,), (0.3081,))\n",
        "                                       ])\n"
      ],
      "execution_count": 0,
      "outputs": []
    },
    {
      "cell_type": "markdown",
      "metadata": {
        "id": "k9GUgjCf6I5P",
        "colab_type": "text"
      },
      "source": [
        "**LOAD MNIST DATA**"
      ]
    },
    {
      "cell_type": "code",
      "metadata": {
        "id": "fnWsraFz4k8N",
        "colab_type": "code",
        "colab": {}
      },
      "source": [
        "train = datasets.MNIST('./data', train=True, transform=train_transforms, download=True)\n",
        "test = datasets.MNIST('./data',train=False, transform=test_transforms, download=True)\n"
      ],
      "execution_count": 0,
      "outputs": []
    },
    {
      "cell_type": "markdown",
      "metadata": {
        "id": "F0eyGuTa55iD",
        "colab_type": "text"
      },
      "source": [
        "**DATA LOADERS**"
      ]
    },
    {
      "cell_type": "code",
      "metadata": {
        "id": "Stbxb7N55zJ5",
        "colab_type": "code",
        "outputId": "0172d1a8-3f8f-4f3a-c859-a8db8d4dc784",
        "colab": {
          "base_uri": "https://localhost:8080/",
          "height": 34
        }
      },
      "source": [
        "SEED = 1\n",
        "np.random.seed(42)\n",
        "torch.manual_seed(1)\n",
        "\n",
        "#check for cuda\n",
        "cuda = torch.cuda.is_available()\n",
        "print('cuda available', cuda)\n",
        "\n",
        "if cuda:\n",
        "  torch.cuda.manual_seed(1)\n",
        "\n",
        "#dataloader arguments\n",
        "dataloader_args = dict(shuffle=True, batch_size=64, num_workers=4, pin_memory=True) if cuda else dict(shuffle=True, batch_size=64)\n",
        "\n",
        "#train dataloader\n",
        "train_loader = torch.utils.data.DataLoader(train, **dataloader_args)\n",
        "\n",
        "#test dataloader\n",
        "test_loader = torch.utils.data.DataLoader(test, **dataloader_args)"
      ],
      "execution_count": 0,
      "outputs": [
        {
          "output_type": "stream",
          "text": [
            "cuda available True\n"
          ],
          "name": "stdout"
        }
      ]
    },
    {
      "cell_type": "markdown",
      "metadata": {
        "id": "zExuS7aOBLwC",
        "colab_type": "text"
      },
      "source": [
        "**Data Stats**"
      ]
    },
    {
      "cell_type": "code",
      "metadata": {
        "id": "EZwSgUio67QG",
        "colab_type": "code",
        "outputId": "497539ff-914c-43bc-e0f4-d3b390d5995f",
        "colab": {
          "base_uri": "https://localhost:8080/",
          "height": 221
        }
      },
      "source": [
        "# We'd need to convert it into Numpy! Remember above we have converted it into tensors already\n",
        "train_data = train.train_data\n",
        "train_data = train.transform(train_data.numpy())\n",
        "\n",
        "print('[Train]')\n",
        "print(' - Numpy Shape:', train.train_data.cpu().numpy().shape)\n",
        "print(' - Tensor Shape:', train.train_data.size())\n",
        "print(' - min:', torch.min(train_data))\n",
        "print(' - max:', torch.max(train_data))\n",
        "print(' - mean:', torch.mean(train_data))\n",
        "print(' - std:', torch.std(train_data))\n",
        "print(' - var:', torch.var(train_data))\n",
        "\n",
        "dataiter = iter(train_loader)\n",
        "images, labels = dataiter.next()\n",
        "\n",
        "print(images.shape)\n",
        "print(labels.shape)"
      ],
      "execution_count": 0,
      "outputs": [
        {
          "output_type": "stream",
          "text": [
            "/usr/local/lib/python3.6/dist-packages/torchvision/datasets/mnist.py:55: UserWarning: train_data has been renamed data\n",
            "  warnings.warn(\"train_data has been renamed data\")\n"
          ],
          "name": "stderr"
        },
        {
          "output_type": "stream",
          "text": [
            "[Train]\n",
            " - Numpy Shape: (60000, 28, 28)\n",
            " - Tensor Shape: torch.Size([60000, 28, 28])\n",
            " - min: tensor(-0.4242)\n",
            " - max: tensor(2.8215)\n",
            " - mean: tensor(0.0009)\n",
            " - std: tensor(1.0000)\n",
            " - var: tensor(1.0001)\n",
            "torch.Size([64, 1, 28, 28])\n",
            "torch.Size([64])\n"
          ],
          "name": "stdout"
        }
      ]
    },
    {
      "cell_type": "markdown",
      "metadata": {
        "id": "0apyJwaOCF7Q",
        "colab_type": "text"
      },
      "source": [
        "**MODEL**"
      ]
    },
    {
      "cell_type": "code",
      "metadata": {
        "id": "tCLObrroBHpC",
        "colab_type": "code",
        "colab": {}
      },
      "source": [
        "class Net(nn.Module):\n",
        "     def __init__(self):\n",
        "       super(Net, self).__init__()\n",
        "       #Input block\n",
        "       self.convblock1 = nn.Sequential(\n",
        "            nn.Conv2d(in_channels=1, out_channels=10, kernel_size=(3, 3), padding=1, bias=False),\n",
        "            nn.ReLU()\n",
        "       ) # output_size = 28\n",
        "\n",
        "       #CONV BLOCK 1\n",
        "       self.convblock2 = nn.Sequential(\n",
        "            nn.Conv2d(in_channels=10, out_channels=12, kernel_size=(3, 3), padding=0, bias=False),\n",
        "            nn.ReLU()\n",
        "       ) # output_size = 26\n",
        "\n",
        "       self.convblock3 = nn.Sequential(\n",
        "            nn.Conv2d(in_channels=12, out_channels=14, kernel_size=(3,3), padding=0, bias=False),\n",
        "            nn.ReLU()\n",
        "       ) #output size = 24\n",
        "      \n",
        "       #TRANSITION BLOCK\n",
        "       self.pool1 = nn.MaxPool2d((2,2))  #out = 12\n",
        "       self.convblock4 = nn.Sequential(\n",
        "            nn.Conv2d(in_channels=14, out_channels=10, kernel_size=(1,1),padding=0, bias=False),\n",
        "            nn.ReLU()\n",
        "       ) #output = 12\n",
        "\n",
        "       #CONV BLOCK 2\n",
        "       self.convblock5 = nn.Sequential(\n",
        "            nn.Conv2d(in_channels=10, out_channels=12, kernel_size=(3, 3), padding=0, bias=False),\n",
        "            nn.ReLU()\n",
        "       ) # output_size = 10\n",
        "\n",
        "       self.convblock6 = nn.Sequential(\n",
        "            nn.Conv2d(in_channels=12, out_channels=16, kernel_size=(3,3), padding=1, bias=False),\n",
        "            nn.ReLU()\n",
        "       ) #out = 10\n",
        "\n",
        "       #TRANSITION BLOCK2\n",
        "       self.pool2 = nn.MaxPool2d((2,2)) #out 5\n",
        "       self.convblock7 = nn.Sequential(\n",
        "            nn.Conv2d(in_channels=16, out_channels=20, kernel_size=(3,3), padding=0, bias=False),\n",
        "            nn.ReLU()\n",
        "       ) #out = 3\n",
        "\n",
        "       #OUTPUT BLOCK\n",
        "       self.convblock8 = nn.Sequential(\n",
        "            nn.Conv2d(in_channels=20, out_channels=10, kernel_size=(1,1), padding=0, bias=False)\n",
        "            #nn.ReLU()  \n",
        "       ) #out = 3\n",
        "\n",
        "       self.gap = nn.Sequential(\n",
        "            nn.AvgPool2d(3)\n",
        "        ) # output_size = 1\n",
        "\n",
        "\n",
        "     def forward(self, x):\n",
        "       x = self.convblock1(x)\n",
        "       x = self.convblock2(x)\n",
        "       x = self.convblock3(x)\n",
        "       x = self.pool1(x)\n",
        "       x = self.convblock4(x)\n",
        "       x = self.convblock5(x)\n",
        "       x = self.convblock6(x)\n",
        "       x = self.pool2(x)\n",
        "       x = self.convblock7(x)\n",
        "       x = self.convblock8(x)\n",
        "       x = self.gap(x)\n",
        "       x = x.view(-1, 10)\n",
        "       return F.log_softmax(x, dim=-1)"
      ],
      "execution_count": 0,
      "outputs": []
    },
    {
      "cell_type": "markdown",
      "metadata": {
        "id": "FSGpLtJFOTak",
        "colab_type": "text"
      },
      "source": [
        "**RF Calculation**"
      ]
    },
    {
      "cell_type": "markdown",
      "metadata": {
        "id": "6Yfy--xQOPTr",
        "colab_type": "text"
      },
      "source": [
        "```\n",
        "![image.png](data:image/png;base64,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)"
      ]
    },
    {
      "cell_type": "code",
      "metadata": {
        "id": "MxBIa8DsBRw9",
        "colab_type": "code",
        "outputId": "068c4d14-9e32-444d-eeb7-7129763a6aea",
        "colab": {
          "base_uri": "https://localhost:8080/",
          "height": 561
        }
      },
      "source": [
        "from torchsummary import summary\n",
        "use_cuda = torch.cuda.is_available()\n",
        "device = torch.device(\"cuda\" if use_cuda else \"cpu\")\n",
        "print(device)\n",
        "model = Net().to(device)\n",
        "summary(model, input_size=(1, 28, 28))"
      ],
      "execution_count": 0,
      "outputs": [
        {
          "output_type": "stream",
          "text": [
            "cuda\n",
            "----------------------------------------------------------------\n",
            "        Layer (type)               Output Shape         Param #\n",
            "================================================================\n",
            "            Conv2d-1           [-1, 10, 28, 28]              90\n",
            "              ReLU-2           [-1, 10, 28, 28]               0\n",
            "            Conv2d-3           [-1, 12, 26, 26]           1,080\n",
            "              ReLU-4           [-1, 12, 26, 26]               0\n",
            "            Conv2d-5           [-1, 14, 24, 24]           1,512\n",
            "              ReLU-6           [-1, 14, 24, 24]               0\n",
            "         MaxPool2d-7           [-1, 14, 12, 12]               0\n",
            "            Conv2d-8           [-1, 10, 12, 12]             140\n",
            "              ReLU-9           [-1, 10, 12, 12]               0\n",
            "           Conv2d-10           [-1, 12, 10, 10]           1,080\n",
            "             ReLU-11           [-1, 12, 10, 10]               0\n",
            "           Conv2d-12           [-1, 16, 10, 10]           1,728\n",
            "             ReLU-13           [-1, 16, 10, 10]               0\n",
            "        MaxPool2d-14             [-1, 16, 5, 5]               0\n",
            "           Conv2d-15             [-1, 20, 3, 3]           2,880\n",
            "             ReLU-16             [-1, 20, 3, 3]               0\n",
            "           Conv2d-17             [-1, 10, 3, 3]             200\n",
            "        AvgPool2d-18             [-1, 10, 1, 1]               0\n",
            "================================================================\n",
            "Total params: 8,710\n",
            "Trainable params: 8,710\n",
            "Non-trainable params: 0\n",
            "----------------------------------------------------------------\n",
            "Input size (MB): 0.00\n",
            "Forward/backward pass size (MB): 0.45\n",
            "Params size (MB): 0.03\n",
            "Estimated Total Size (MB): 0.49\n",
            "----------------------------------------------------------------\n"
          ],
          "name": "stdout"
        }
      ]
    },
    {
      "cell_type": "markdown",
      "metadata": {
        "id": "GD0R232QL1e5",
        "colab_type": "text"
      },
      "source": [
        "**Define Train/Test functions with loss and accuracy calculations**"
      ]
    },
    {
      "cell_type": "code",
      "metadata": {
        "id": "G3JJub4eBRrZ",
        "colab_type": "code",
        "colab": {}
      },
      "source": [
        "from tqdm import tqdm\n",
        "\n",
        "train_losses = []\n",
        "test_losses = []\n",
        "train_acc = []\n",
        "test_acc = []\n",
        "\n",
        "def train(model, device, train_loader, optimizer, epoch):\n",
        "  model.train()\n",
        "  pbar = tqdm(train_loader)\n",
        "  correct = 0\n",
        "  processed = 0\n",
        "  for batch_idx, (data, target) in enumerate(pbar):\n",
        "    # get samples\n",
        "    data, target = data.to(device), target.to(device)\n",
        "\n",
        "    # Init\n",
        "    optimizer.zero_grad()\n",
        "    # In PyTorch, we need to set the gradients to zero before starting to do backpropragation because PyTorch accumulates the gradients on subsequent backward passes. \n",
        "    # Because of this, when you start your training loop, ideally you should zero out the gradients so that you do the parameter update correctly.\n",
        "\n",
        "    # Predict\n",
        "    y_pred = model(data)\n",
        "\n",
        "    # Calculate loss\n",
        "    loss = F.nll_loss(y_pred, target)\n",
        "    train_losses.append(loss)\n",
        "\n",
        "    # Backpropagation\n",
        "    loss.backward()\n",
        "    optimizer.step()\n",
        "\n",
        "    # Update pbar-tqdm\n",
        "    \n",
        "    pred = y_pred.argmax(dim=1, keepdim=True)  # get the index of the max log-probability\n",
        "    correct += pred.eq(target.view_as(pred)).sum().item()\n",
        "    processed += len(data)\n",
        "\n",
        "    pbar.set_description(desc= f'Loss={loss.item()} Batch_id={batch_idx} Accuracy={100*correct/processed:0.2f}')\n",
        "    train_acc.append(100*correct/processed)\n",
        "\n",
        "def test(model, device, test_loader):\n",
        "    model.eval()\n",
        "    test_loss = 0\n",
        "    correct = 0\n",
        "    with torch.no_grad():\n",
        "        for data, target in test_loader:\n",
        "            data, target = data.to(device), target.to(device)\n",
        "            output = model(data)\n",
        "            test_loss += F.nll_loss(output, target, reduction='sum').item()  # sum up batch loss\n",
        "            pred = output.argmax(dim=1, keepdim=True)  # get the index of the max log-probability\n",
        "            correct += pred.eq(target.view_as(pred)).sum().item()\n",
        "\n",
        "    test_loss /= len(test_loader.dataset)\n",
        "    test_losses.append(test_loss)\n",
        "\n",
        "    print('\\nTest set: Average loss: {:.4f}, Accuracy: {}/{} ({:.2f}%)\\n'.format(\n",
        "        test_loss, correct, len(test_loader.dataset),\n",
        "        100. * correct / len(test_loader.dataset)))\n",
        "    \n",
        "    test_acc.append(100. * correct / len(test_loader.dataset))"
      ],
      "execution_count": 0,
      "outputs": []
    },
    {
      "cell_type": "markdown",
      "metadata": {
        "id": "JbZRq07iMGpq",
        "colab_type": "text"
      },
      "source": [
        "**Training the MODEL with validation accuracy check**"
      ]
    },
    {
      "cell_type": "code",
      "metadata": {
        "id": "s_UWvGKCBRmk",
        "colab_type": "code",
        "outputId": "3ba66ad1-e872-4fc0-f5d2-fac9ed0c9e99",
        "colab": {
          "base_uri": "https://localhost:8080/",
          "height": 1000
        }
      },
      "source": [
        "model =  Net().to(device)\n",
        "optimizer = optim.SGD(model.parameters(), lr=0.01, momentum=0.9)\n",
        "EPOCHS = 15\n",
        "for epoch in range(EPOCHS):\n",
        "    print(\"EPOCH:\", epoch)\n",
        "    train(model, device, train_loader, optimizer, epoch)\n",
        "    test(model, device, test_loader)"
      ],
      "execution_count": 0,
      "outputs": [
        {
          "output_type": "stream",
          "text": [
            "\r  0%|          | 0/938 [00:00<?, ?it/s]"
          ],
          "name": "stderr"
        },
        {
          "output_type": "stream",
          "text": [
            "EPOCH: 0\n"
          ],
          "name": "stdout"
        },
        {
          "output_type": "stream",
          "text": [
            "Loss=2.2960686683654785 Batch_id=937 Accuracy=12.79: 100%|██████████| 938/938 [00:13<00:00, 71.76it/s]\n",
            "  0%|          | 0/938 [00:00<?, ?it/s]"
          ],
          "name": "stderr"
        },
        {
          "output_type": "stream",
          "text": [
            "\n",
            "Test set: Average loss: 2.2982, Accuracy: 1111/10000 (11.11%)\n",
            "\n",
            "EPOCH: 1\n"
          ],
          "name": "stdout"
        },
        {
          "output_type": "stream",
          "text": [
            "Loss=0.4074481725692749 Batch_id=937 Accuracy=71.85: 100%|██████████| 938/938 [00:13<00:00, 69.15it/s]\n",
            "  0%|          | 0/938 [00:00<?, ?it/s]"
          ],
          "name": "stderr"
        },
        {
          "output_type": "stream",
          "text": [
            "\n",
            "Test set: Average loss: 0.1210, Accuracy: 9637/10000 (96.37%)\n",
            "\n",
            "EPOCH: 2\n"
          ],
          "name": "stdout"
        },
        {
          "output_type": "stream",
          "text": [
            "Loss=0.06683804094791412 Batch_id=937 Accuracy=96.43: 100%|██████████| 938/938 [00:12<00:00, 72.86it/s]\n",
            "  0%|          | 0/938 [00:00<?, ?it/s]"
          ],
          "name": "stderr"
        },
        {
          "output_type": "stream",
          "text": [
            "\n",
            "Test set: Average loss: 0.0825, Accuracy: 9732/10000 (97.32%)\n",
            "\n",
            "EPOCH: 3\n"
          ],
          "name": "stdout"
        },
        {
          "output_type": "stream",
          "text": [
            "Loss=0.1310737133026123 Batch_id=937 Accuracy=97.48: 100%|██████████| 938/938 [00:13<00:00, 71.58it/s]\n",
            "  0%|          | 0/938 [00:00<?, ?it/s]"
          ],
          "name": "stderr"
        },
        {
          "output_type": "stream",
          "text": [
            "\n",
            "Test set: Average loss: 0.0578, Accuracy: 9827/10000 (98.27%)\n",
            "\n",
            "EPOCH: 4\n"
          ],
          "name": "stdout"
        },
        {
          "output_type": "stream",
          "text": [
            "Loss=0.015470355749130249 Batch_id=937 Accuracy=97.91: 100%|██████████| 938/938 [00:13<00:00, 72.01it/s]\n",
            "  0%|          | 0/938 [00:00<?, ?it/s]"
          ],
          "name": "stderr"
        },
        {
          "output_type": "stream",
          "text": [
            "\n",
            "Test set: Average loss: 0.0487, Accuracy: 9844/10000 (98.44%)\n",
            "\n",
            "EPOCH: 5\n"
          ],
          "name": "stdout"
        },
        {
          "output_type": "stream",
          "text": [
            "Loss=0.006441593170166016 Batch_id=937 Accuracy=98.30: 100%|██████████| 938/938 [00:13<00:00, 70.11it/s]\n",
            "  0%|          | 0/938 [00:00<?, ?it/s]"
          ],
          "name": "stderr"
        },
        {
          "output_type": "stream",
          "text": [
            "\n",
            "Test set: Average loss: 0.0508, Accuracy: 9842/10000 (98.42%)\n",
            "\n",
            "EPOCH: 6\n"
          ],
          "name": "stdout"
        },
        {
          "output_type": "stream",
          "text": [
            "Loss=0.10907210409641266 Batch_id=937 Accuracy=98.45: 100%|██████████| 938/938 [00:13<00:00, 71.91it/s]\n",
            "  0%|          | 0/938 [00:00<?, ?it/s]"
          ],
          "name": "stderr"
        },
        {
          "output_type": "stream",
          "text": [
            "\n",
            "Test set: Average loss: 0.0474, Accuracy: 9843/10000 (98.43%)\n",
            "\n",
            "EPOCH: 7\n"
          ],
          "name": "stdout"
        },
        {
          "output_type": "stream",
          "text": [
            "Loss=0.13069310784339905 Batch_id=937 Accuracy=98.63: 100%|██████████| 938/938 [00:13<00:00, 71.17it/s]\n",
            "  0%|          | 0/938 [00:00<?, ?it/s]"
          ],
          "name": "stderr"
        },
        {
          "output_type": "stream",
          "text": [
            "\n",
            "Test set: Average loss: 0.0438, Accuracy: 9861/10000 (98.61%)\n",
            "\n",
            "EPOCH: 8\n"
          ],
          "name": "stdout"
        },
        {
          "output_type": "stream",
          "text": [
            "Loss=0.001708000898361206 Batch_id=937 Accuracy=98.68: 100%|██████████| 938/938 [00:12<00:00, 72.48it/s]\n",
            "  0%|          | 0/938 [00:00<?, ?it/s]"
          ],
          "name": "stderr"
        },
        {
          "output_type": "stream",
          "text": [
            "\n",
            "Test set: Average loss: 0.0405, Accuracy: 9862/10000 (98.62%)\n",
            "\n",
            "EPOCH: 9\n"
          ],
          "name": "stdout"
        },
        {
          "output_type": "stream",
          "text": [
            "Loss=0.006439343094825745 Batch_id=937 Accuracy=98.87: 100%|██████████| 938/938 [00:13<00:00, 71.97it/s]\n",
            "  0%|          | 0/938 [00:00<?, ?it/s]"
          ],
          "name": "stderr"
        },
        {
          "output_type": "stream",
          "text": [
            "\n",
            "Test set: Average loss: 0.0451, Accuracy: 9854/10000 (98.54%)\n",
            "\n",
            "EPOCH: 10\n"
          ],
          "name": "stdout"
        },
        {
          "output_type": "stream",
          "text": [
            "Loss=0.014025390148162842 Batch_id=937 Accuracy=98.84: 100%|██████████| 938/938 [00:12<00:00, 72.87it/s]\n",
            "  0%|          | 0/938 [00:00<?, ?it/s]"
          ],
          "name": "stderr"
        },
        {
          "output_type": "stream",
          "text": [
            "\n",
            "Test set: Average loss: 0.0471, Accuracy: 9844/10000 (98.44%)\n",
            "\n",
            "EPOCH: 11\n"
          ],
          "name": "stdout"
        },
        {
          "output_type": "stream",
          "text": [
            "Loss=0.036995261907577515 Batch_id=937 Accuracy=98.99: 100%|██████████| 938/938 [00:12<00:00, 72.64it/s]\n",
            "  0%|          | 0/938 [00:00<?, ?it/s]"
          ],
          "name": "stderr"
        },
        {
          "output_type": "stream",
          "text": [
            "\n",
            "Test set: Average loss: 0.0401, Accuracy: 9869/10000 (98.69%)\n",
            "\n",
            "EPOCH: 12\n"
          ],
          "name": "stdout"
        },
        {
          "output_type": "stream",
          "text": [
            "Loss=0.0018907487392425537 Batch_id=937 Accuracy=98.93: 100%|██████████| 938/938 [00:12<00:00, 73.68it/s]\n",
            "  0%|          | 0/938 [00:00<?, ?it/s]"
          ],
          "name": "stderr"
        },
        {
          "output_type": "stream",
          "text": [
            "\n",
            "Test set: Average loss: 0.0356, Accuracy: 9890/10000 (98.90%)\n",
            "\n",
            "EPOCH: 13\n"
          ],
          "name": "stdout"
        },
        {
          "output_type": "stream",
          "text": [
            "Loss=0.0004087090492248535 Batch_id=937 Accuracy=99.03: 100%|██████████| 938/938 [00:12<00:00, 73.40it/s]\n",
            "  0%|          | 0/938 [00:00<?, ?it/s]"
          ],
          "name": "stderr"
        },
        {
          "output_type": "stream",
          "text": [
            "\n",
            "Test set: Average loss: 0.0381, Accuracy: 9869/10000 (98.69%)\n",
            "\n",
            "EPOCH: 14\n"
          ],
          "name": "stdout"
        },
        {
          "output_type": "stream",
          "text": [
            "Loss=0.003919929265975952 Batch_id=937 Accuracy=99.09: 100%|██████████| 938/938 [00:12<00:00, 72.60it/s]\n"
          ],
          "name": "stderr"
        },
        {
          "output_type": "stream",
          "text": [
            "\n",
            "Test set: Average loss: 0.0409, Accuracy: 9874/10000 (98.74%)\n",
            "\n"
          ],
          "name": "stdout"
        }
      ]
    },
    {
      "cell_type": "code",
      "metadata": {
        "id": "Deu5dBoZBRkh",
        "colab_type": "code",
        "outputId": "97269fe2-792c-4166-b584-8345359c6fe9",
        "colab": {
          "base_uri": "https://localhost:8080/",
          "height": 624
        }
      },
      "source": [
        "import matplotlib.pyplot as plt\n",
        "\n",
        "fig, axs = plt.subplots(2,2,figsize=(15,10))\n",
        "axs[0, 0].plot(train_losses)\n",
        "axs[0, 0].set_title(\"Training Loss\")\n",
        "axs[1, 0].plot(train_acc)\n",
        "axs[1, 0].set_title(\"Training Accuracy\")\n",
        "axs[0, 1].plot(test_losses)\n",
        "axs[0, 1].set_title(\"Test Loss\")\n",
        "axs[1, 1].plot(test_acc)\n",
        "axs[1, 1].set_title(\"Test Accuracy\")"
      ],
      "execution_count": 0,
      "outputs": [
        {
          "output_type": "execute_result",
          "data": {
            "text/plain": [
              "Text(0.5, 1.0, 'Test Accuracy')"
            ]
          },
          "metadata": {
            "tags": []
          },
          "execution_count": 49
        },
        {
          "output_type": "display_data",
          "data": {
            "image/png": "[encoded data removed]",
            "text/plain": [
              "<Figure size 1080x720 with 4 Axes>"
            ]
          },
          "metadata": {
            "tags": []
          }
        }
      ]
    },
    {
      "cell_type": "code",
      "metadata": {
        "id": "PPk3J9XKBRPS",
        "colab_type": "code",
        "colab": {}
      },
      "source": [
        ""
      ],
      "execution_count": 0,
      "outputs": []
    }
  ]
}